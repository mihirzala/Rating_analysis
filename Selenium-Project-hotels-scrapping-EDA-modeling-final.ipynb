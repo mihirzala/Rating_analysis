{
 "cells": [
  {
   "cell_type": "code",
   "execution_count": 1,
   "id": "3dfaf086",
   "metadata": {},
   "outputs": [],
   "source": [
    "# url = 'https://www.booking.com/searchresults.en-us.html?ss={}&ssne={}&ssne_untouched={}&label=gen173nr-1FCAEoggI46AdIM1gEaKcCiAEBmAExuAEHyAEM2AEB6AEB-AECiAIBqAIDuALAzp6cBsACAdICJDFhMjc3YWQ4LTY3ZjktNDNhNy05NTI0LTUxMWY3NWQ2ODFmNdgCBeACAQ&sid=2126271f814d7c3f7af3ef0e5ea6d865&aid=304142&lang=en-us&sb=1&src_elem=sb&src=index&dest_id=2469&dest_type=region&checkin={}&checkout={}&group_adults=2&no_rooms=1&group_children=0&sb_travel_purpose=leisure'"
   ]
  },
  {
   "cell_type": "code",
   "execution_count": 133,
   "id": "96e51d89",
   "metadata": {},
   "outputs": [],
   "source": [
    "import pandas as pd\n",
    "import requests\n",
    "import re\n",
    "from bs4 import BeautifulSoup\n",
    "import selenium\n",
    "from selenium.webdriver.common.by import By\n",
    "import random"
   ]
  },
  {
   "cell_type": "code",
   "execution_count": 3,
   "id": "8fa25c55",
   "metadata": {},
   "outputs": [],
   "source": [
    "from selenium.webdriver.common.keys import Keys"
   ]
  },
  {
   "cell_type": "code",
   "execution_count": 4,
   "id": "f8dd7bd3",
   "metadata": {},
   "outputs": [],
   "source": [
    "from selenium.webdriver import Chrome"
   ]
  },
  {
   "cell_type": "code",
   "execution_count": 5,
   "id": "d8aebe52",
   "metadata": {},
   "outputs": [],
   "source": [
    "path = '~/user/local/bin/chromedriver'"
   ]
  },
  {
   "cell_type": "code",
   "execution_count": 132,
   "id": "e96a0126",
   "metadata": {},
   "outputs": [],
   "source": [
    "browser = Chrome()"
   ]
  },
  {
   "cell_type": "code",
   "execution_count": 7,
   "id": "b6826292",
   "metadata": {},
   "outputs": [],
   "source": [
    "url = \"https://www.booking.com\""
   ]
  },
  {
   "cell_type": "code",
   "execution_count": 8,
   "id": "d68a98f8",
   "metadata": {},
   "outputs": [],
   "source": [
    "browser.get(url)"
   ]
  },
  {
   "cell_type": "code",
   "execution_count": 9,
   "id": "3be35872",
   "metadata": {},
   "outputs": [],
   "source": [
    "state_name=browser.find_element(By.NAME, \"ss\")"
   ]
  },
  {
   "cell_type": "code",
   "execution_count": 10,
   "id": "83923aae",
   "metadata": {},
   "outputs": [],
   "source": [
    "state_name.send_keys('New York')"
   ]
  },
  {
   "cell_type": "code",
   "execution_count": 11,
   "id": "170ff940",
   "metadata": {},
   "outputs": [],
   "source": [
    "dates = browser.find_element(By.XPATH, \"//div[@class='xp__dates-inner']\")"
   ]
  },
  {
   "cell_type": "code",
   "execution_count": 12,
   "id": "6d2b7907",
   "metadata": {},
   "outputs": [],
   "source": [
    "dates.click()"
   ]
  },
  {
   "cell_type": "code",
   "execution_count": 13,
   "id": "3f4c3cd7",
   "metadata": {},
   "outputs": [],
   "source": [
    "Month_next = browser.find_element(By.XPATH,\"//div[@data-bui-ref='calendar-next']\")"
   ]
  },
  {
   "cell_type": "code",
   "execution_count": 14,
   "id": "033668ea",
   "metadata": {},
   "outputs": [],
   "source": [
    "Month_next.click()"
   ]
  },
  {
   "cell_type": "code",
   "execution_count": 15,
   "id": "f637fa5b",
   "metadata": {},
   "outputs": [],
   "source": [
    "check_in = browser.find_element(By.XPATH,\"//td[@data-date='2023-02-08']\")"
   ]
  },
  {
   "cell_type": "code",
   "execution_count": 16,
   "id": "0cff23a6",
   "metadata": {},
   "outputs": [],
   "source": [
    "check_out = browser.find_element(By.XPATH,\"//td[@data-date='2023-02-14']\")"
   ]
  },
  {
   "cell_type": "code",
   "execution_count": 17,
   "id": "5d4ddbfa",
   "metadata": {},
   "outputs": [],
   "source": [
    "check_in.click()"
   ]
  },
  {
   "cell_type": "code",
   "execution_count": 18,
   "id": "bce7c35c",
   "metadata": {},
   "outputs": [],
   "source": [
    "check_out.click()"
   ]
  },
  {
   "cell_type": "code",
   "execution_count": 19,
   "id": "714fc2ca",
   "metadata": {},
   "outputs": [],
   "source": [
    "submitbutton = browser.find_element(By.XPATH, \"//button[@type='submit']\")"
   ]
  },
  {
   "cell_type": "code",
   "execution_count": 20,
   "id": "02a0e804",
   "metadata": {},
   "outputs": [],
   "source": [
    "submitbutton.click()"
   ]
  },
  {
   "cell_type": "code",
   "execution_count": 60,
   "id": "6495cc4a",
   "metadata": {},
   "outputs": [],
   "source": [
    "soup = BeautifulSoup(browser.page_source, 'html.parser')"
   ]
  },
  {
   "cell_type": "code",
   "execution_count": 61,
   "id": "85543405",
   "metadata": {},
   "outputs": [],
   "source": [
    "total_pages = int(browser.find_element(By.CSS_SELECTOR, 'div[data-testid=\"pagination\"]  li:last-child').text)\n",
    "# print(f\"Total pages: {total_pages}\")"
   ]
  },
  {
   "cell_type": "code",
   "execution_count": 62,
   "id": "56494b0e",
   "metadata": {},
   "outputs": [],
   "source": [
    "all_detail_links = []"
   ]
  },
  {
   "cell_type": "code",
   "execution_count": 63,
   "id": "b38993fe",
   "metadata": {},
   "outputs": [],
   "source": [
    "def get_links():\n",
    "    soup = BeautifulSoup(browser.page_source, 'html.parser')\n",
    "    all_properties = soup.findAll(\"div\", {\"data-testid\" : \"property-card\"})\n",
    "    for property in all_properties:\n",
    "        h3 = property.find('h3')\n",
    "        link = h3.find('a')['href']\n",
    "        all_detail_links.append(link)"
   ]
  },
  {
   "cell_type": "code",
   "execution_count": 64,
   "id": "cd4577a2",
   "metadata": {},
   "outputs": [],
   "source": [
    "import time"
   ]
  },
  {
   "cell_type": "code",
   "execution_count": null,
   "id": "28443f48",
   "metadata": {},
   "outputs": [],
   "source": [
    "for current_page in range(1,total_pages+1):\n",
    "    get_links()\n",
    "    next_page_btn = browser.find_element(By.XPATH, '//button[contains(@aria-label, \"Next page\")]')\n",
    "    next_page_btn.click()\n",
    "    time.sleep(6)"
   ]
  },
  {
   "cell_type": "code",
   "execution_count": 2,
   "id": "0e41be56",
   "metadata": {},
   "outputs": [],
   "source": [
    "import json"
   ]
  },
  {
   "cell_type": "markdown",
   "id": "fced6483",
   "metadata": {},
   "source": [
    "# create the scraped_hotels folder if you can create different different folder for different state name it would be great"
   ]
  },
  {
   "cell_type": "code",
   "execution_count": 130,
   "id": "f6f2acaa",
   "metadata": {},
   "outputs": [],
   "source": [
    "def save_file(data,c):\n",
    "    with open(f'scraped_hotels/{c}.json', 'w+') as f:\n",
    "        json.dump(data, f, indent=4)"
   ]
  },
  {
   "cell_type": "code",
   "execution_count": 135,
   "id": "017c86b0",
   "metadata": {
    "scrolled": true
   },
   "outputs": [
    {
     "name": "stdout",
     "output_type": "stream",
     "text": [
      "136 https://www.booking.com/hotel/us/hilton-times-square-new-york.html?label=gen173nr-1FCAEoggI46AdIM1gEaKQCiAEBmAExuAEHyAEM2AEB6AEB-AECiAIBqAIDuALTr8mcBsACAdICJDQzOTBiZWIxLTcxNDQtNDcwNi05NmU4LTVjNGJkYzE2ZmU1N9gCBeACAQ&sid=39d69ef60db6be4413c20e151e506e68&aid=304142&ucfs=1&arphpl=1&checkin=2023-02-08&checkout=2023-02-14&group_adults=2&req_adults=2&no_rooms=1&group_children=0&req_children=0&hpos=10&hapos=135&sr_order=popularity&srpvid=d9d2976b63a500de&srepoch=1670539601&all_sr_blocks=905762401_361666046_2_2_0&highlighted_blocks=905762401_361666046_2_2_0&matching_block_id=905762401_361666046_2_2_0&sr_pri_blocks=905762401_361666046_2_2_0__145883&tpi_r=2&from_sustainable_property_sr=1&from=searchresults&map_fdco=1#hotelTmpl\n",
      "175 https://www.booking.com/hotel/us/grayson-new-york.html?label=gen173nr-1FCAEoggI46AdIM1gEaKQCiAEBmAExuAEHyAEM2AEB6AEB-AECiAIBqAIDuALTr8mcBsACAdICJDQzOTBiZWIxLTcxNDQtNDcwNi05NmU4LTVjNGJkYzE2ZmU1N9gCBeACAQ&sid=39d69ef60db6be4413c20e151e506e68&aid=304142&ucfs=1&arphpl=1&checkin=2023-02-08&checkout=2023-02-14&group_adults=2&req_adults=2&no_rooms=1&group_children=0&req_children=0&hpos=24&hapos=174&sr_order=popularity&srpvid=d9d2976b63a500de&srepoch=1670539608&all_sr_blocks=853411804_352790656_2_0_0&highlighted_blocks=853411804_352790656_2_0_0&matching_block_id=853411804_352790656_2_0_0&sr_pri_blocks=853411804_352790656_2_0_0__139860&tpi_r=2&from_sustainable_property_sr=1&from=searchresults&map_fdco=1#hotelTmpl\n",
      "210 https://www.booking.com/hotel/us/virgin-hotels-new-york-city.html?label=gen173nr-1FCAEoggI46AdIM1gEaKQCiAEBmAExuAEHyAEM2AEB6AEB-AECiAIBqAIDuALTr8mcBsACAdICJDQzOTBiZWIxLTcxNDQtNDcwNi05NmU4LTVjNGJkYzE2ZmU1N9gCBeACAQ&sid=39d69ef60db6be4413c20e151e506e68&aid=304142&ucfs=1&arphpl=1&checkin=2023-02-08&checkout=2023-02-14&group_adults=2&req_adults=2&no_rooms=1&group_children=0&req_children=0&hpos=9&hapos=209&sr_order=popularity&srpvid=d9d2976b63a500de&srepoch=1670539621&all_sr_blocks=907600702_364083690_2_2_0&highlighted_blocks=907600702_364083690_2_2_0&matching_block_id=907600702_364083690_2_2_0&sr_pri_blocks=907600702_364083690_2_2_0__146000&tpi_r=2&from=searchresults&map_fdco=1#hotelTmpl\n",
      "227 https://www.booking.com/hotel/us/moxy-nyc-lower-east-side.html?label=gen173nr-1FCAEoggI46AdIM1gEaKQCiAEBmAExuAEHyAEM2AEB6AEB-AECiAIBqAIDuALTr8mcBsACAdICJDQzOTBiZWIxLTcxNDQtNDcwNi05NmU4LTVjNGJkYzE2ZmU1N9gCBeACAQ&sid=39d69ef60db6be4413c20e151e506e68&aid=304142&ucfs=1&arphpl=1&checkin=2023-02-08&checkout=2023-02-14&group_adults=2&req_adults=2&no_rooms=1&group_children=0&req_children=0&hpos=1&hapos=226&sr_order=popularity&srpvid=d9d2976b63a500de&srepoch=1670539628&all_sr_blocks=879631503_357109484_0_0_0&highlighted_blocks=879631503_357109484_0_0_0&matching_block_id=879631503_357109484_0_0_0&sr_pri_blocks=879631503_357109484_0_0_0__116400&tpi_r=2&from_sustainable_property_sr=1&from=searchresults&map_fdco=1#hotelTmpl\n",
      "232 https://www.booking.com/hotel/us/pod-pads-times-square-new-york.html?label=gen173nr-1FCAEoggI46AdIM1gEaKQCiAEBmAExuAEHyAEM2AEB6AEB-AECiAIBqAIDuALTr8mcBsACAdICJDQzOTBiZWIxLTcxNDQtNDcwNi05NmU4LTVjNGJkYzE2ZmU1N9gCBeACAQ&sid=39d69ef60db6be4413c20e151e506e68&aid=304142&ucfs=1&arphpl=1&checkin=2023-02-08&checkout=2023-02-14&group_adults=2&req_adults=2&no_rooms=1&group_children=0&req_children=0&hpos=6&hapos=231&sr_order=popularity&srpvid=d9d2976b63a500de&srepoch=1670539628&all_sr_blocks=840529801_364003067_2_0_0&highlighted_blocks=840529801_364003067_2_0_0&matching_block_id=840529801_364003067_2_0_0&sr_pri_blocks=840529801_364003067_2_0_0__270000&tpi_r=2&from_sustainable_property_sr=1&from=searchresults&map_fdco=1#hotelTmpl\n",
      "254 https://www.booking.com/hotel/us/radio.html?label=gen173nr-1FCAEoggI46AdIM1gEaKQCiAEBmAExuAEHyAEM2AEB6AEB-AECiAIBqAIDuALTr8mcBsACAdICJDQzOTBiZWIxLTcxNDQtNDcwNi05NmU4LTVjNGJkYzE2ZmU1N9gCBeACAQ&sid=39d69ef60db6be4413c20e151e506e68&aid=304142&ucfs=1&arphpl=1&checkin=2023-02-08&checkout=2023-02-14&group_adults=2&req_adults=2&no_rooms=1&group_children=0&req_children=0&hpos=3&hapos=253&sr_order=popularity&srpvid=d9d2976b63a500de&srepoch=1670539635&all_sr_blocks=803947502_359777423_2_0_0&highlighted_blocks=803947502_359777423_2_0_0&matching_block_id=803947502_359777423_2_0_0&sr_pri_blocks=803947502_359777423_2_0_0__94400&tpi_r=2&from=searchresults&map_fdco=1#hotelTmpl\n",
      "296 https://www.booking.com/hotel/us/madison-les.html?label=gen173nr-1FCAEoggI46AdIM1gEaKQCiAEBmAExuAEHyAEM2AEB6AEB-AECiAIBqAIDuALTr8mcBsACAdICJDQzOTBiZWIxLTcxNDQtNDcwNi05NmU4LTVjNGJkYzE2ZmU1N9gCBeACAQ&sid=39d69ef60db6be4413c20e151e506e68&aid=304142&ucfs=1&arphpl=1&checkin=2023-02-08&checkout=2023-02-14&group_adults=2&req_adults=2&no_rooms=1&group_children=0&req_children=0&hpos=20&hapos=295&sr_order=popularity&srpvid=d9d2976b63a500de&srepoch=1670539642&all_sr_blocks=355009102_171211565_0_0_0&highlighted_blocks=355009102_171211565_0_0_0&matching_block_id=355009102_171211565_0_0_0&sr_pri_blocks=355009102_171211565_0_0_0__68760&tpi_r=2&from=searchresults&map_fdco=1#hotelTmpl\n",
      "319 https://www.booking.com/hotel/us/modern-studio-apt-with-charming-juliet-balcony.html?label=gen173nr-1FCAEoggI46AdIM1gEaKQCiAEBmAExuAEHyAEM2AEB6AEB-AECiAIBqAIDuALTr8mcBsACAdICJDQzOTBiZWIxLTcxNDQtNDcwNi05NmU4LTVjNGJkYzE2ZmU1N9gCBeACAQ&sid=39d69ef60db6be4413c20e151e506e68&aid=304142&ucfs=1&arphpl=1&checkin=2023-02-08&checkout=2023-02-14&group_adults=2&req_adults=2&no_rooms=1&group_children=0&req_children=0&hpos=18&hapos=318&sr_order=popularity&srpvid=d9d2976b63a500de&srepoch=1670539649&all_sr_blocks=921488702_363820166_2_0_0&highlighted_blocks=921488702_363820166_2_0_0&matching_block_id=921488702_363820166_2_0_0&sr_pri_blocks=921488702_363820166_2_0_0__183700&tpi_r=2&from=searchresults&map_fdco=1#hotelTmpl\n",
      "330 https://www.booking.com/hotel/us/holiday-inn-express-manhattan-midtown-west.html?label=gen173nr-1FCAEoggI46AdIM1gEaKQCiAEBmAExuAEHyAEM2AEB6AEB-AECiAIBqAIDuALTr8mcBsACAdICJDQzOTBiZWIxLTcxNDQtNDcwNi05NmU4LTVjNGJkYzE2ZmU1N9gCBeACAQ&sid=39d69ef60db6be4413c20e151e506e68&aid=304142&ucfs=1&arphpl=1&checkin=2023-02-08&checkout=2023-02-14&group_adults=2&req_adults=2&no_rooms=1&group_children=0&req_children=0&hpos=4&hapos=329&sr_order=popularity&srpvid=d9d2976b63a500de&srepoch=1670539656&all_sr_blocks=44330505_118820080_2_1_0&highlighted_blocks=44330505_118820080_2_1_0&matching_block_id=44330505_118820080_2_1_0&sr_pri_blocks=44330505_118820080_2_1_0__82329&from_sustainable_property_sr=1&from=searchresults&map_fdco=1#hotelTmpl\n",
      "333 https://www.booking.com/hotel/us/us-pacific.html?label=gen173nr-1FCAEoggI46AdIM1gEaKQCiAEBmAExuAEHyAEM2AEB6AEB-AECiAIBqAIDuALTr8mcBsACAdICJDQzOTBiZWIxLTcxNDQtNDcwNi05NmU4LTVjNGJkYzE2ZmU1N9gCBeACAQ&sid=39d69ef60db6be4413c20e151e506e68&aid=304142&ucfs=1&arphpl=1&checkin=2023-02-08&checkout=2023-02-14&group_adults=2&req_adults=2&no_rooms=1&group_children=0&req_children=0&hpos=7&hapos=332&sr_order=popularity&srpvid=d9d2976b63a500de&srepoch=1670539656&all_sr_blocks=146686304_348567178_2_0_0&highlighted_blocks=146686304_348567178_2_0_0&matching_block_id=146686304_348567178_2_0_0&sr_pri_blocks=146686304_348567178_2_0_0__46800&from=searchresults&map_fdco=1#hotelTmpl\n",
      "345 https://www.booking.com/hotel/us/the-ned-nomad.html?label=gen173nr-1FCAEoggI46AdIM1gEaKQCiAEBmAExuAEHyAEM2AEB6AEB-AECiAIBqAIDuALTr8mcBsACAdICJDQzOTBiZWIxLTcxNDQtNDcwNi05NmU4LTVjNGJkYzE2ZmU1N9gCBeACAQ&sid=39d69ef60db6be4413c20e151e506e68&aid=304142&ucfs=1&arphpl=1&checkin=2023-02-08&checkout=2023-02-14&group_adults=2&req_adults=2&no_rooms=1&group_children=0&req_children=0&hpos=19&hapos=344&sr_order=popularity&srpvid=d9d2976b63a500de&srepoch=1670539656&all_sr_blocks=41119408_122813572_2_2_0&highlighted_blocks=41119408_122813572_2_2_0&matching_block_id=41119408_122813572_2_2_0&sr_pri_blocks=41119408_122813572_2_2_0__253125&from_sustainable_property_sr=1&from=searchresults&map_fdco=1#hotelTmpl\n",
      "356 https://www.booking.com/hotel/us/next-to-times-square-quiet-studio-with-courtyard.html?label=gen173nr-1FCAEoggI46AdIM1gEaKQCiAEBmAExuAEHyAEM2AEB6AEB-AECiAIBqAIDuALTr8mcBsACAdICJDQzOTBiZWIxLTcxNDQtNDcwNi05NmU4LTVjNGJkYzE2ZmU1N9gCBeACAQ&sid=39d69ef60db6be4413c20e151e506e68&aid=304142&ucfs=1&arphpl=1&checkin=2023-02-08&checkout=2023-02-14&group_adults=2&req_adults=2&no_rooms=1&group_children=0&req_children=0&hpos=5&hapos=355&sr_order=popularity&srpvid=d9d2976b63a500de&srepoch=1670539662&all_sr_blocks=693227104_353488467_0_0_0&highlighted_blocks=693227104_353488467_0_0_0&matching_block_id=693227104_353488467_0_0_0&sr_pri_blocks=693227104_353488467_0_0_0__83300&tpi_r=2&from=searchresults&map_fdco=1#hotelTmpl\n"
     ]
    },
    {
     "name": "stdout",
     "output_type": "stream",
     "text": [
      "357 https://www.booking.com/hotel/us/luxe-studio-apt-with-charming-juliet-balcony.html?label=gen173nr-1FCAEoggI46AdIM1gEaKQCiAEBmAExuAEHyAEM2AEB6AEB-AECiAIBqAIDuALTr8mcBsACAdICJDQzOTBiZWIxLTcxNDQtNDcwNi05NmU4LTVjNGJkYzE2ZmU1N9gCBeACAQ&sid=39d69ef60db6be4413c20e151e506e68&aid=304142&ucfs=1&arphpl=1&checkin=2023-02-08&checkout=2023-02-14&group_adults=2&req_adults=2&no_rooms=1&group_children=0&req_children=0&hpos=6&hapos=356&sr_order=popularity&srpvid=d9d2976b63a500de&srepoch=1670539662&all_sr_blocks=921488202_364003938_4_0_0&highlighted_blocks=921488202_364003938_4_0_0&matching_block_id=921488202_364003938_4_0_0&sr_pri_blocks=921488202_364003938_4_0_0__208600&tpi_r=2&from=searchresults&map_fdco=1#hotelTmpl\n",
      "363 https://www.booking.com/hotel/us/days-inn-broadway.html?label=gen173nr-1FCAEoggI46AdIM1gEaKQCiAEBmAExuAEHyAEM2AEB6AEB-AECiAIBqAIDuALTr8mcBsACAdICJDQzOTBiZWIxLTcxNDQtNDcwNi05NmU4LTVjNGJkYzE2ZmU1N9gCBeACAQ&sid=39d69ef60db6be4413c20e151e506e68&aid=304142&ucfs=1&arphpl=1&checkin=2023-02-08&checkout=2023-02-14&group_adults=2&req_adults=2&no_rooms=1&group_children=0&req_children=0&hpos=12&hapos=362&sr_order=popularity&srpvid=d9d2976b63a500de&srepoch=1670539662&all_sr_blocks=5595620_94083251_0_0_0&highlighted_blocks=5595620_94083251_0_0_0&matching_block_id=5595620_94083251_0_0_0&sr_pri_blocks=5595620_94083251_0_0_0__58910&tpi_r=2&from_sustainable_property_sr=1&from=searchresults&map_fdco=1#hotelTmpl\n",
      "367 https://www.booking.com/hotel/us/midtown-convention-center-hotel-nyc.html?label=gen173nr-1FCAEoggI46AdIM1gEaKQCiAEBmAExuAEHyAEM2AEB6AEB-AECiAIBqAIDuALTr8mcBsACAdICJDQzOTBiZWIxLTcxNDQtNDcwNi05NmU4LTVjNGJkYzE2ZmU1N9gCBeACAQ&sid=39d69ef60db6be4413c20e151e506e68&aid=304142&ucfs=1&arphpl=1&checkin=2023-02-08&checkout=2023-02-14&group_adults=2&req_adults=2&no_rooms=1&group_children=0&req_children=0&hpos=16&hapos=366&sr_order=popularity&srpvid=d9d2976b63a500de&srepoch=1670539662&all_sr_blocks=5629004_91458694_0_2_0&highlighted_blocks=5629004_91458694_0_2_0&matching_block_id=5629004_91458694_0_2_0&sr_pri_blocks=5629004_91458694_0_2_0__116423&tpi_r=2&from=searchresults&map_fdco=1#hotelTmpl\n",
      "371 https://www.booking.com/hotel/us/jg-sohotel.html?label=gen173nr-1FCAEoggI46AdIM1gEaKQCiAEBmAExuAEHyAEM2AEB6AEB-AECiAIBqAIDuALTr8mcBsACAdICJDQzOTBiZWIxLTcxNDQtNDcwNi05NmU4LTVjNGJkYzE2ZmU1N9gCBeACAQ&sid=39d69ef60db6be4413c20e151e506e68&aid=304142&ucfs=1&arphpl=1&checkin=2023-02-08&checkout=2023-02-14&group_adults=2&req_adults=2&no_rooms=1&group_children=0&req_children=0&hpos=20&hapos=370&sr_order=popularity&srpvid=d9d2976b63a500de&srepoch=1670539662&all_sr_blocks=878515405_363865858_2_0_0&highlighted_blocks=878515405_363865858_2_0_0&matching_block_id=878515405_363865858_2_0_0&sr_pri_blocks=878515405_363865858_2_0_0__80300&tpi_r=2&from=searchresults&map_fdco=1#hotelTmpl\n",
      "379 https://www.booking.com/hotel/us/upper-east-suites.html?label=gen173nr-1FCAEoggI46AdIM1gEaKQCiAEBmAExuAEHyAEM2AEB6AEB-AECiAIBqAIDuALTr8mcBsACAdICJDQzOTBiZWIxLTcxNDQtNDcwNi05NmU4LTVjNGJkYzE2ZmU1N9gCBeACAQ&sid=39d69ef60db6be4413c20e151e506e68&aid=304142&ucfs=1&arphpl=1&checkin=2023-02-08&checkout=2023-02-14&group_adults=2&req_adults=2&no_rooms=1&group_children=0&req_children=0&hpos=3&hapos=378&sr_order=popularity&srpvid=d9d2976b63a500de&srepoch=1670539669&all_sr_blocks=284619202_335409118_3_0_0&highlighted_blocks=284619202_335409118_3_0_0&matching_block_id=284619202_335409118_3_0_0&sr_pri_blocks=284619202_335409118_3_0_0__56700&tpi_r=2&from=searchresults&map_fdco=1#hotelTmpl\n",
      "381 https://www.booking.com/hotel/us/canal-loft-new-york.html?label=gen173nr-1FCAEoggI46AdIM1gEaKQCiAEBmAExuAEHyAEM2AEB6AEB-AECiAIBqAIDuALTr8mcBsACAdICJDQzOTBiZWIxLTcxNDQtNDcwNi05NmU4LTVjNGJkYzE2ZmU1N9gCBeACAQ&sid=39d69ef60db6be4413c20e151e506e68&aid=304142&ucfs=1&arphpl=1&checkin=2023-02-08&checkout=2023-02-14&group_adults=2&req_adults=2&no_rooms=1&group_children=0&req_children=0&hpos=5&hapos=380&sr_order=popularity&srpvid=d9d2976b63a500de&srepoch=1670539669&all_sr_blocks=822238202_345180625_2_0_0&highlighted_blocks=822238202_345180625_2_0_0&matching_block_id=822238202_345180625_2_0_0&sr_pri_blocks=822238202_345180625_2_0_0__66240&tpi_r=2&from=searchresults&map_fdco=1#hotelTmpl\n",
      "383 https://www.booking.com/hotel/us/condo-walk-to-columbia-univ-central-park.html?label=gen173nr-1FCAEoggI46AdIM1gEaKQCiAEBmAExuAEHyAEM2AEB6AEB-AECiAIBqAIDuALTr8mcBsACAdICJDQzOTBiZWIxLTcxNDQtNDcwNi05NmU4LTVjNGJkYzE2ZmU1N9gCBeACAQ&sid=39d69ef60db6be4413c20e151e506e68&aid=304142&ucfs=1&arphpl=1&checkin=2023-02-08&checkout=2023-02-14&group_adults=2&req_adults=2&no_rooms=1&group_children=0&req_children=0&hpos=7&hapos=382&sr_order=popularity&srpvid=d9d2976b63a500de&srepoch=1670539669&all_sr_blocks=512064401_356671764_3_0_0&highlighted_blocks=512064401_356671764_3_0_0&matching_block_id=512064401_356671764_3_0_0&sr_pri_blocks=512064401_356671764_3_0_0__99400&tpi_r=2&from=searchresults&map_fdco=1#hotelTmpl\n",
      "387 https://www.booking.com/hotel/us/barriere-fouquet.html?label=gen173nr-1FCAEoggI46AdIM1gEaKQCiAEBmAExuAEHyAEM2AEB6AEB-AECiAIBqAIDuALTr8mcBsACAdICJDQzOTBiZWIxLTcxNDQtNDcwNi05NmU4LTVjNGJkYzE2ZmU1N9gCBeACAQ&sid=39d69ef60db6be4413c20e151e506e68&aid=304142&ucfs=1&arphpl=1&checkin=2023-02-08&checkout=2023-02-14&group_adults=2&req_adults=2&no_rooms=1&group_children=0&req_children=0&hpos=11&hapos=386&sr_order=popularity&srpvid=d9d2976b63a500de&srepoch=1670539669&all_sr_blocks=885804210_358106204_2_2_0&highlighted_blocks=885804210_358106204_2_2_0&matching_block_id=885804210_358106204_2_2_0&sr_pri_blocks=885804210_358106204_2_2_0__535000&tpi_r=2&from=searchresults&map_fdco=1#hotelTmpl\n",
      "392 https://www.booking.com/hotel/us/cozy-entire-studio-apartment-near-central-park.html?label=gen173nr-1FCAEoggI46AdIM1gEaKQCiAEBmAExuAEHyAEM2AEB6AEB-AECiAIBqAIDuALTr8mcBsACAdICJDQzOTBiZWIxLTcxNDQtNDcwNi05NmU4LTVjNGJkYzE2ZmU1N9gCBeACAQ&sid=39d69ef60db6be4413c20e151e506e68&aid=304142&ucfs=1&arphpl=1&checkin=2023-02-08&checkout=2023-02-14&group_adults=2&req_adults=2&no_rooms=1&group_children=0&req_children=0&hpos=16&hapos=391&sr_order=popularity&srpvid=d9d2976b63a500de&srepoch=1670539669&all_sr_blocks=900287701_360713523_2_0_0&highlighted_blocks=900287701_360713523_2_0_0&matching_block_id=900287701_360713523_2_0_0&sr_pri_blocks=900287701_360713523_2_0_0__220100&tpi_r=2&from=searchresults&map_fdco=1#hotelTmpl\n",
      "394 https://www.booking.com/hotel/us/beautiful-space-10-mtos-airport-jfk-the-beach.html?label=gen173nr-1FCAEoggI46AdIM1gEaKQCiAEBmAExuAEHyAEM2AEB6AEB-AECiAIBqAIDuALTr8mcBsACAdICJDQzOTBiZWIxLTcxNDQtNDcwNi05NmU4LTVjNGJkYzE2ZmU1N9gCBeACAQ&sid=39d69ef60db6be4413c20e151e506e68&aid=304142&ucfs=1&arphpl=1&checkin=2023-02-08&checkout=2023-02-14&group_adults=2&req_adults=2&no_rooms=1&group_children=0&req_children=0&hpos=18&hapos=393&sr_order=popularity&srpvid=d9d2976b63a500de&srepoch=1670539669&all_sr_blocks=554341501_204860216_2_0_0&highlighted_blocks=554341501_204860216_2_0_0&matching_block_id=554341501_204860216_2_0_0&sr_pri_blocks=554341501_204860216_2_0_0__42000&tpi_r=2&from=searchresults&map_fdco=1#hotelTmpl\n",
      "395 https://www.booking.com/hotel/us/studios-in-new-york.html?label=gen173nr-1FCAEoggI46AdIM1gEaKQCiAEBmAExuAEHyAEM2AEB6AEB-AECiAIBqAIDuALTr8mcBsACAdICJDQzOTBiZWIxLTcxNDQtNDcwNi05NmU4LTVjNGJkYzE2ZmU1N9gCBeACAQ&sid=39d69ef60db6be4413c20e151e506e68&aid=304142&ucfs=1&arphpl=1&checkin=2023-02-08&checkout=2023-02-14&group_adults=2&req_adults=2&no_rooms=1&group_children=0&req_children=0&hpos=19&hapos=394&sr_order=popularity&srpvid=d9d2976b63a500de&srepoch=1670539669&all_sr_blocks=756809703_357008752_3_0_0&highlighted_blocks=756809703_357008752_3_0_0&matching_block_id=756809703_357008752_3_0_0&sr_pri_blocks=756809703_357008752_3_0_0__100200&tpi_r=2&from_sustainable_property_sr=1&from=searchresults&map_fdco=1#hotelTmpl\n",
      "398 https://www.booking.com/hotel/us/kasa-lower-east-side.html?label=gen173nr-1FCAEoggI46AdIM1gEaKQCiAEBmAExuAEHyAEM2AEB6AEB-AECiAIBqAIDuALTr8mcBsACAdICJDQzOTBiZWIxLTcxNDQtNDcwNi05NmU4LTVjNGJkYzE2ZmU1N9gCBeACAQ&sid=39d69ef60db6be4413c20e151e506e68&aid=304142&ucfs=1&arphpl=1&checkin=2023-02-08&checkout=2023-02-14&group_adults=2&req_adults=2&no_rooms=1&group_children=0&req_children=0&hpos=22&hapos=397&sr_order=popularity&srpvid=d9d2976b63a500de&srepoch=1670539669&all_sr_blocks=915391903_362987104_2_0_0&highlighted_blocks=915391903_362987104_2_0_0&matching_block_id=915391903_362987104_2_0_0&sr_pri_blocks=915391903_362987104_2_0_0__142800&tpi_r=2&from=searchresults&map_fdco=1#hotelTmpl\n"
     ]
    },
    {
     "name": "stdout",
     "output_type": "stream",
     "text": [
      "404 https://www.booking.com/hotel/us/beautiful-harlem-brownstown-garden-apatment.html?label=gen173nr-1FCAEoggI46AdIM1gEaKQCiAEBmAExuAEHyAEM2AEB6AEB-AECiAIBqAIDuALTr8mcBsACAdICJDQzOTBiZWIxLTcxNDQtNDcwNi05NmU4LTVjNGJkYzE2ZmU1N9gCBeACAQ&sid=39d69ef60db6be4413c20e151e506e68&aid=304142&ucfs=1&arphpl=1&checkin=2023-02-08&checkout=2023-02-14&group_adults=2&req_adults=2&no_rooms=1&group_children=0&req_children=0&hpos=3&hapos=403&sr_order=popularity&srpvid=d9d2976b63a500de&srepoch=1670539676&all_sr_blocks=909691901_363498076_4_0_0&highlighted_blocks=909691901_363498076_4_0_0&matching_block_id=909691901_363498076_4_0_0&sr_pri_blocks=909691901_363498076_4_0_0__132000&from=searchresults&map_fdco=1#hotelTmpl\n",
      "406 https://www.booking.com/hotel/us/cozy-entire-apartment-close-to-central-park.html?label=gen173nr-1FCAEoggI46AdIM1gEaKQCiAEBmAExuAEHyAEM2AEB6AEB-AECiAIBqAIDuALTr8mcBsACAdICJDQzOTBiZWIxLTcxNDQtNDcwNi05NmU4LTVjNGJkYzE2ZmU1N9gCBeACAQ&sid=39d69ef60db6be4413c20e151e506e68&aid=304142&ucfs=1&arphpl=1&checkin=2023-02-08&checkout=2023-02-14&group_adults=2&req_adults=2&no_rooms=1&group_children=0&req_children=0&hpos=5&hapos=405&sr_order=popularity&srpvid=d9d2976b63a500de&srepoch=1670539676&all_sr_blocks=823175401_346605207_3_0_0&highlighted_blocks=823175401_346605207_3_0_0&matching_block_id=823175401_346605207_3_0_0&sr_pri_blocks=823175401_346605207_3_0_0__198090&from=searchresults&map_fdco=1#hotelTmpl\n",
      "408 https://www.booking.com/hotel/us/roomy-and-comfortable-2br-apartment-near-central-park-nyc.html?label=gen173nr-1FCAEoggI46AdIM1gEaKQCiAEBmAExuAEHyAEM2AEB6AEB-AECiAIBqAIDuALTr8mcBsACAdICJDQzOTBiZWIxLTcxNDQtNDcwNi05NmU4LTVjNGJkYzE2ZmU1N9gCBeACAQ&sid=39d69ef60db6be4413c20e151e506e68&aid=304142&ucfs=1&arphpl=1&checkin=2023-02-08&checkout=2023-02-14&group_adults=2&req_adults=2&no_rooms=1&group_children=0&req_children=0&hpos=7&hapos=407&sr_order=popularity&srpvid=d9d2976b63a500de&srepoch=1670539676&all_sr_blocks=886317402_358199548_0_0_0&highlighted_blocks=886317402_358199548_0_0_0&matching_block_id=886317402_358199548_0_0_0&sr_pri_blocks=886317402_358199548_0_0_0__327294&from=searchresults&map_fdco=1#hotelTmpl\n",
      "409 https://www.booking.com/hotel/us/central-park-n-residence.html?label=gen173nr-1FCAEoggI46AdIM1gEaKQCiAEBmAExuAEHyAEM2AEB6AEB-AECiAIBqAIDuALTr8mcBsACAdICJDQzOTBiZWIxLTcxNDQtNDcwNi05NmU4LTVjNGJkYzE2ZmU1N9gCBeACAQ&sid=39d69ef60db6be4413c20e151e506e68&aid=304142&ucfs=1&arphpl=1&checkin=2023-02-08&checkout=2023-02-14&group_adults=2&req_adults=2&no_rooms=1&group_children=0&req_children=0&hpos=8&hapos=408&sr_order=popularity&srpvid=d9d2976b63a500de&srepoch=1670539676&all_sr_blocks=234613801_100887755_2_0_0&highlighted_blocks=234613801_100887755_2_0_0&matching_block_id=234613801_100887755_2_0_0&sr_pri_blocks=234613801_100887755_2_0_0__135000&from_sustainable_property_sr=1&from=searchresults&map_fdco=1#hotelTmpl\n",
      "411 https://www.booking.com/hotel/us/the-ritz-carlton-new-york-nomad.html?label=gen173nr-1FCAEoggI46AdIM1gEaKQCiAEBmAExuAEHyAEM2AEB6AEB-AECiAIBqAIDuALTr8mcBsACAdICJDQzOTBiZWIxLTcxNDQtNDcwNi05NmU4LTVjNGJkYzE2ZmU1N9gCBeACAQ&sid=39d69ef60db6be4413c20e151e506e68&aid=304142&ucfs=1&arphpl=1&checkin=2023-02-08&checkout=2023-02-14&group_adults=2&req_adults=2&no_rooms=1&group_children=0&req_children=0&hpos=10&hapos=410&sr_order=popularity&srpvid=d9d2976b63a500de&srepoch=1670539676&all_sr_blocks=798605021_340097468_0_0_0&highlighted_blocks=798605021_340097468_0_0_0&matching_block_id=798605021_340097468_0_0_0&sr_pri_blocks=798605021_340097468_0_0_0__495000&from=searchresults&map_fdco=1#hotelTmpl\n",
      "412 https://www.booking.com/hotel/us/unbeatable-1br-with-massive-private-patio.html?label=gen173nr-1FCAEoggI46AdIM1gEaKQCiAEBmAExuAEHyAEM2AEB6AEB-AECiAIBqAIDuALTr8mcBsACAdICJDQzOTBiZWIxLTcxNDQtNDcwNi05NmU4LTVjNGJkYzE2ZmU1N9gCBeACAQ&sid=39d69ef60db6be4413c20e151e506e68&aid=304142&ucfs=1&arphpl=1&checkin=2023-02-08&checkout=2023-02-14&group_adults=2&req_adults=2&no_rooms=1&group_children=0&req_children=0&hpos=11&hapos=411&sr_order=popularity&srpvid=d9d2976b63a500de&srepoch=1670539676&all_sr_blocks=925078302_364310525_4_0_0&highlighted_blocks=925078302_364310525_4_0_0&matching_block_id=925078302_364310525_4_0_0&sr_pri_blocks=925078302_364310525_4_0_0__308500&from=searchresults&map_fdco=1#hotelTmpl\n",
      "413 https://www.booking.com/hotel/us/nine-orchard.html?label=gen173nr-1FCAEoggI46AdIM1gEaKQCiAEBmAExuAEHyAEM2AEB6AEB-AECiAIBqAIDuALTr8mcBsACAdICJDQzOTBiZWIxLTcxNDQtNDcwNi05NmU4LTVjNGJkYzE2ZmU1N9gCBeACAQ&sid=39d69ef60db6be4413c20e151e506e68&aid=304142&ucfs=1&arphpl=1&checkin=2023-02-08&checkout=2023-02-14&group_adults=2&req_adults=2&no_rooms=1&group_children=0&req_children=0&hpos=12&hapos=412&sr_order=popularity&srpvid=d9d2976b63a500de&srepoch=1670539676&all_sr_blocks=879451602_357051633_2_2_0&highlighted_blocks=879451602_357051633_2_2_0&matching_block_id=879451602_357051633_2_2_0&sr_pri_blocks=879451602_357051633_2_2_0__345000&from=searchresults&map_fdco=1#hotelTmpl\n",
      "414 https://www.booking.com/hotel/us/apartment-douglas-3.html?label=gen173nr-1FCAEoggI46AdIM1gEaKQCiAEBmAExuAEHyAEM2AEB6AEB-AECiAIBqAIDuALTr8mcBsACAdICJDQzOTBiZWIxLTcxNDQtNDcwNi05NmU4LTVjNGJkYzE2ZmU1N9gCBeACAQ&sid=39d69ef60db6be4413c20e151e506e68&aid=304142&ucfs=1&arphpl=1&checkin=2023-02-08&checkout=2023-02-14&group_adults=2&req_adults=2&no_rooms=1&group_children=0&req_children=0&hpos=13&hapos=413&sr_order=popularity&srpvid=d9d2976b63a500de&srepoch=1670539676&all_sr_blocks=459994602_295914296_6_0_0&highlighted_blocks=459994602_295914296_6_0_0&matching_block_id=459994602_295914296_6_0_0&sr_pri_blocks=459994602_295914296_6_0_0__292200&from=searchresults&map_fdco=1#hotelTmpl\n",
      "415 https://www.booking.com/hotel/us/manhattan-bowery-lodge.html?label=gen173nr-1FCAEoggI46AdIM1gEaKQCiAEBmAExuAEHyAEM2AEB6AEB-AECiAIBqAIDuALTr8mcBsACAdICJDQzOTBiZWIxLTcxNDQtNDcwNi05NmU4LTVjNGJkYzE2ZmU1N9gCBeACAQ&sid=39d69ef60db6be4413c20e151e506e68&aid=304142&ucfs=1&arphpl=1&checkin=2023-02-08&checkout=2023-02-14&group_adults=2&req_adults=2&no_rooms=1&group_children=0&req_children=0&hpos=14&hapos=414&sr_order=popularity&srpvid=d9d2976b63a500de&srepoch=1670539676&all_sr_blocks=166355101_335381877_2_0_0&highlighted_blocks=166355101_335381877_2_0_0&matching_block_id=166355101_335381877_2_0_0&sr_pri_blocks=166355101_335381877_2_0_0__36000&from=searchresults&map_fdco=1#hotelTmpl\n",
      "417 https://www.booking.com/hotel/us/jazz-on-the-park-hostel.html?label=gen173nr-1FCAEoggI46AdIM1gEaKQCiAEBmAExuAEHyAEM2AEB6AEB-AECiAIBqAIDuALTr8mcBsACAdICJDQzOTBiZWIxLTcxNDQtNDcwNi05NmU4LTVjNGJkYzE2ZmU1N9gCBeACAQ&sid=39d69ef60db6be4413c20e151e506e68&aid=304142&ucfs=1&arphpl=1&checkin=2023-02-08&checkout=2023-02-14&group_adults=2&req_adults=2&no_rooms=1&group_children=0&req_children=0&hpos=16&hapos=416&sr_order=popularity&srpvid=d9d2976b63a500de&srepoch=1670539676&all_sr_blocks=23692622_91913242_2_0_0&highlighted_blocks=23692622_91913242_2_0_0&matching_block_id=23692622_91913242_2_0_0&sr_pri_blocks=23692622_91913242_2_0_0__45441&from=searchresults&map_fdco=1#hotelTmpl\n",
      "421 https://www.booking.com/hotel/us/luxery-two-bedroom-apartment-madison-ave.html?label=gen173nr-1FCAEoggI46AdIM1gEaKQCiAEBmAExuAEHyAEM2AEB6AEB-AECiAIBqAIDuALTr8mcBsACAdICJDQzOTBiZWIxLTcxNDQtNDcwNi05NmU4LTVjNGJkYzE2ZmU1N9gCBeACAQ&sid=39d69ef60db6be4413c20e151e506e68&aid=304142&ucfs=1&arphpl=1&checkin=2023-02-08&checkout=2023-02-14&group_adults=2&req_adults=2&no_rooms=1&group_children=0&req_children=0&hpos=20&hapos=420&sr_order=popularity&srpvid=d9d2976b63a500de&srepoch=1670539676&all_sr_blocks=147030203_101917886_4_0_0&highlighted_blocks=147030203_101917886_4_0_0&matching_block_id=147030203_101917886_4_0_0&sr_pri_blocks=147030203_101917886_4_0_0__179400&from=searchresults&map_fdco=1#hotelTmpl\n",
      "424 https://www.booking.com/hotel/us/mee-kaa-inc.html?label=gen173nr-1FCAEoggI46AdIM1gEaKQCiAEBmAExuAEHyAEM2AEB6AEB-AECiAIBqAIDuALTr8mcBsACAdICJDQzOTBiZWIxLTcxNDQtNDcwNi05NmU4LTVjNGJkYzE2ZmU1N9gCBeACAQ&sid=39d69ef60db6be4413c20e151e506e68&aid=304142&ucfs=1&arphpl=1&checkin=2023-02-08&checkout=2023-02-14&group_adults=2&req_adults=2&no_rooms=1&group_children=0&req_children=0&hpos=23&hapos=423&sr_order=popularity&srpvid=d9d2976b63a500de&srepoch=1670539676&all_sr_blocks=899887001_360675392_3_0_0&highlighted_blocks=899887001_360675392_3_0_0&matching_block_id=899887001_360675392_3_0_0&sr_pri_blocks=899887001_360675392_3_0_0__84000&from=searchresults&map_fdco=1#hotelTmpl\n"
     ]
    },
    {
     "name": "stdout",
     "output_type": "stream",
     "text": [
      "426 https://www.booking.com/hotel/us/exclusive-3br-blocks-from-times-square.html?label=gen173nr-1FCAEoggI46AdIM1gEaKQCiAEBmAExuAEHyAEM2AEB6AEB-AECiAIBqAIDuALTr8mcBsACAdICJDQzOTBiZWIxLTcxNDQtNDcwNi05NmU4LTVjNGJkYzE2ZmU1N9gCBeACAQ&sid=39d69ef60db6be4413c20e151e506e68&aid=304142&ucfs=1&arphpl=1&checkin=2023-02-08&checkout=2023-02-14&group_adults=2&req_adults=2&no_rooms=1&group_children=0&req_children=0&hpos=25&hapos=425&sr_order=popularity&srpvid=d9d2976b63a500de&srepoch=1670539676&all_sr_blocks=886336902_358200961_0_0_0&highlighted_blocks=886336902_358200961_0_0_0&matching_block_id=886336902_358200961_0_0_0&sr_pri_blocks=886336902_358200961_0_0_0__331020&from=searchresults&map_fdco=1#hotelTmpl\n",
      "427 https://www.booking.com/hotel/us/townhouse.html?label=gen173nr-1FCAEoggI46AdIM1gEaKQCiAEBmAExuAEHyAEM2AEB6AEB-AECiAIBqAIDuALTr8mcBsACAdICJDQzOTBiZWIxLTcxNDQtNDcwNi05NmU4LTVjNGJkYzE2ZmU1N9gCBeACAQ&sid=39d69ef60db6be4413c20e151e506e68&aid=304142&ucfs=1&arphpl=1&checkin=2023-02-08&checkout=2023-02-14&group_adults=2&req_adults=2&no_rooms=1&group_children=0&req_children=0&hpos=1&hapos=426&sr_order=popularity&srpvid=d9d2976b63a500de&srepoch=1670539683&all_sr_blocks=177278102_347596359_4_0_0&highlighted_blocks=177278102_347596359_4_0_0&matching_block_id=177278102_347596359_4_0_0&sr_pri_blocks=177278102_347596359_4_0_0__156000&tpi_r=2&from=searchresults&map_fdco=1#hotelTmpl\n",
      "428 https://www.booking.com/hotel/us/windsor-inc.html?label=gen173nr-1FCAEoggI46AdIM1gEaKQCiAEBmAExuAEHyAEM2AEB6AEB-AECiAIBqAIDuALTr8mcBsACAdICJDQzOTBiZWIxLTcxNDQtNDcwNi05NmU4LTVjNGJkYzE2ZmU1N9gCBeACAQ&sid=39d69ef60db6be4413c20e151e506e68&aid=304142&ucfs=1&arphpl=1&checkin=2023-02-08&checkout=2023-02-14&group_adults=2&req_adults=2&no_rooms=1&group_children=0&req_children=0&hpos=2&hapos=427&sr_order=popularity&srpvid=d9d2976b63a500de&srepoch=1670539683&all_sr_blocks=5591301_0_2_0_0&highlighted_blocks=5591301_0_2_0_0&matching_block_id=5591301_0_2_0_0&sr_pri_blocks=5591301_0_2_0_0__50266&tpi_r=1&from=searchresults&map_fdco=1#hotelTmpl\n",
      "429 https://www.booking.com/hotel/us/harlem-brownstone-new-york-city1.html?label=gen173nr-1FCAEoggI46AdIM1gEaKQCiAEBmAExuAEHyAEM2AEB6AEB-AECiAIBqAIDuALTr8mcBsACAdICJDQzOTBiZWIxLTcxNDQtNDcwNi05NmU4LTVjNGJkYzE2ZmU1N9gCBeACAQ&sid=39d69ef60db6be4413c20e151e506e68&aid=304142&ucfs=1&arphpl=1&checkin=2023-02-08&checkout=2023-02-14&group_adults=2&req_adults=2&no_rooms=1&group_children=0&req_children=0&hpos=3&hapos=428&sr_order=popularity&srpvid=d9d2976b63a500de&srepoch=1670539683&all_sr_blocks=346095201_117257101_2_0_0&highlighted_blocks=346095201_117257101_2_0_0&matching_block_id=346095201_117257101_2_0_0&sr_pri_blocks=346095201_117257101_2_0_0__75330&tpi_r=2&from=searchresults&map_fdco=1#hotelTmpl\n",
      "430 https://www.booking.com/hotel/us/charming-west-village.html?label=gen173nr-1FCAEoggI46AdIM1gEaKQCiAEBmAExuAEHyAEM2AEB6AEB-AECiAIBqAIDuALTr8mcBsACAdICJDQzOTBiZWIxLTcxNDQtNDcwNi05NmU4LTVjNGJkYzE2ZmU1N9gCBeACAQ&sid=39d69ef60db6be4413c20e151e506e68&aid=304142&ucfs=1&arphpl=1&checkin=2023-02-08&checkout=2023-02-14&group_adults=2&req_adults=2&no_rooms=1&group_children=0&req_children=0&hpos=4&hapos=429&sr_order=popularity&srpvid=d9d2976b63a500de&srepoch=1670539683&all_sr_blocks=905240701_364632462_2_0_0&highlighted_blocks=905240701_364632462_2_0_0&matching_block_id=905240701_364632462_2_0_0&sr_pri_blocks=905240701_364632462_2_0_0__114000&tpi_r=2&from=searchresults&map_fdco=1#hotelTmpl\n",
      "431 https://www.booking.com/hotel/us/le-meridien-new-york-fifth-avenue.html?label=gen173nr-1FCAEoggI46AdIM1gEaKQCiAEBmAExuAEHyAEM2AEB6AEB-AECiAIBqAIDuALTr8mcBsACAdICJDQzOTBiZWIxLTcxNDQtNDcwNi05NmU4LTVjNGJkYzE2ZmU1N9gCBeACAQ&sid=39d69ef60db6be4413c20e151e506e68&aid=304142&ucfs=1&arphpl=1&checkin=2023-02-08&checkout=2023-02-14&group_adults=2&req_adults=2&no_rooms=1&group_children=0&req_children=0&hpos=5&hapos=430&sr_order=popularity&srpvid=d9d2976b63a500de&srepoch=1670539683&all_sr_blocks=847841607_351882591_0_0_0&highlighted_blocks=847841607_351882591_0_0_0&matching_block_id=847841607_351882591_0_0_0&sr_pri_blocks=847841607_351882591_0_0_0__143400&tpi_r=2&from=searchresults&map_fdco=1#hotelTmpl\n",
      "433 https://www.booking.com/hotel/us/east-harlem-cozy.html?label=gen173nr-1FCAEoggI46AdIM1gEaKQCiAEBmAExuAEHyAEM2AEB6AEB-AECiAIBqAIDuALTr8mcBsACAdICJDQzOTBiZWIxLTcxNDQtNDcwNi05NmU4LTVjNGJkYzE2ZmU1N9gCBeACAQ&sid=39d69ef60db6be4413c20e151e506e68&aid=304142&ucfs=1&arphpl=1&checkin=2023-02-08&checkout=2023-02-14&group_adults=2&req_adults=2&no_rooms=1&group_children=0&req_children=0&hpos=7&hapos=432&sr_order=popularity&srpvid=d9d2976b63a500de&srepoch=1670539683&all_sr_blocks=493926201_165779295_2_0_0&highlighted_blocks=493926201_165779295_2_0_0&matching_block_id=493926201_165779295_2_0_0&sr_pri_blocks=493926201_165779295_2_0_0__146324&tpi_r=2&from=searchresults&map_fdco=1#hotelTmpl\n",
      "437 https://www.booking.com/hotel/us/the-park-ave-north-new-york.html?label=gen173nr-1FCAEoggI46AdIM1gEaKQCiAEBmAExuAEHyAEM2AEB6AEB-AECiAIBqAIDuALTr8mcBsACAdICJDQzOTBiZWIxLTcxNDQtNDcwNi05NmU4LTVjNGJkYzE2ZmU1N9gCBeACAQ&sid=39d69ef60db6be4413c20e151e506e68&aid=304142&ucfs=1&arphpl=1&checkin=2023-02-08&checkout=2023-02-14&group_adults=2&req_adults=2&no_rooms=1&group_children=0&req_children=0&hpos=11&hapos=436&sr_order=popularity&srpvid=d9d2976b63a500de&srepoch=1670539683&all_sr_blocks=166971201_89567537_2_0_0&highlighted_blocks=166971201_89567537_2_0_0&matching_block_id=166971201_89567537_2_0_0&sr_pri_blocks=166971201_89567537_2_0_0__57000&tpi_r=2&from=searchresults&map_fdco=1#hotelTmpl\n",
      "440 https://www.booking.com/hotel/us/yorkville-apts-upper-east-1111.html?label=gen173nr-1FCAEoggI46AdIM1gEaKQCiAEBmAExuAEHyAEM2AEB6AEB-AECiAIBqAIDuALTr8mcBsACAdICJDQzOTBiZWIxLTcxNDQtNDcwNi05NmU4LTVjNGJkYzE2ZmU1N9gCBeACAQ&sid=39d69ef60db6be4413c20e151e506e68&aid=304142&ucfs=1&arphpl=1&checkin=2023-02-08&checkout=2023-02-14&group_adults=2&req_adults=2&no_rooms=1&group_children=0&req_children=0&hpos=14&hapos=439&sr_order=popularity&srpvid=d9d2976b63a500de&srepoch=1670539683&all_sr_blocks=84131501_335366461_0_0_0&highlighted_blocks=84131501_335366461_0_0_0&matching_block_id=84131501_335366461_0_0_0&sr_pri_blocks=84131501_335366461_0_0_0__66000&tpi_r=2&from=searchresults&map_fdco=1#hotelTmpl\n",
      "441 https://www.booking.com/hotel/us/1234-broadway-avenue.html?label=gen173nr-1FCAEoggI46AdIM1gEaKQCiAEBmAExuAEHyAEM2AEB6AEB-AECiAIBqAIDuALTr8mcBsACAdICJDQzOTBiZWIxLTcxNDQtNDcwNi05NmU4LTVjNGJkYzE2ZmU1N9gCBeACAQ&sid=39d69ef60db6be4413c20e151e506e68&aid=304142&ucfs=1&arphpl=1&checkin=2023-02-08&checkout=2023-02-14&group_adults=2&req_adults=2&no_rooms=1&group_children=0&req_children=0&hpos=15&hapos=440&sr_order=popularity&srpvid=d9d2976b63a500de&srepoch=1670539683&all_sr_blocks=664859828_298945307_2_0_0&highlighted_blocks=664859828_298945307_2_0_0&matching_block_id=664859828_298945307_2_0_0&sr_pri_blocks=664859828_298945307_2_0_0__31400&tpi_r=2&from=searchresults&map_fdco=1#hotelTmpl\n",
      "442 https://www.booking.com/hotel/us/charming-studio-new-york.html?label=gen173nr-1FCAEoggI46AdIM1gEaKQCiAEBmAExuAEHyAEM2AEB6AEB-AECiAIBqAIDuALTr8mcBsACAdICJDQzOTBiZWIxLTcxNDQtNDcwNi05NmU4LTVjNGJkYzE2ZmU1N9gCBeACAQ&sid=39d69ef60db6be4413c20e151e506e68&aid=304142&ucfs=1&arphpl=1&checkin=2023-02-08&checkout=2023-02-14&group_adults=2&req_adults=2&no_rooms=1&group_children=0&req_children=0&hpos=16&hapos=441&sr_order=popularity&srpvid=d9d2976b63a500de&srepoch=1670539683&all_sr_blocks=181926207_326846681_0_0_0&highlighted_blocks=181926207_326846681_0_0_0&matching_block_id=181926207_326846681_0_0_0&sr_pri_blocks=181926207_326846681_0_0_0__86400&tpi_r=2&from=searchresults&map_fdco=1#hotelTmpl\n",
      "443 https://www.booking.com/hotel/us/studio-apartment-in-the-center-of-manhattan.html?label=gen173nr-1FCAEoggI46AdIM1gEaKQCiAEBmAExuAEHyAEM2AEB6AEB-AECiAIBqAIDuALTr8mcBsACAdICJDQzOTBiZWIxLTcxNDQtNDcwNi05NmU4LTVjNGJkYzE2ZmU1N9gCBeACAQ&sid=39d69ef60db6be4413c20e151e506e68&aid=304142&ucfs=1&arphpl=1&checkin=2023-02-08&checkout=2023-02-14&group_adults=2&req_adults=2&no_rooms=1&group_children=0&req_children=0&hpos=17&hapos=442&sr_order=popularity&srpvid=d9d2976b63a500de&srepoch=1670539683&all_sr_blocks=829303501_347528713_3_0_0&highlighted_blocks=829303501_347528713_3_0_0&matching_block_id=829303501_347528713_3_0_0&sr_pri_blocks=829303501_347528713_3_0_0__209095&tpi_r=2&from=searchresults&map_fdco=1#hotelTmpl\n"
     ]
    },
    {
     "name": "stdout",
     "output_type": "stream",
     "text": [
      "444 https://www.booking.com/hotel/us/maison-bella-modern-studio-w-charming-juliet-balcony.html?label=gen173nr-1FCAEoggI46AdIM1gEaKQCiAEBmAExuAEHyAEM2AEB6AEB-AECiAIBqAIDuALTr8mcBsACAdICJDQzOTBiZWIxLTcxNDQtNDcwNi05NmU4LTVjNGJkYzE2ZmU1N9gCBeACAQ&sid=39d69ef60db6be4413c20e151e506e68&aid=304142&ucfs=1&arphpl=1&checkin=2023-02-08&checkout=2023-02-14&group_adults=2&req_adults=2&no_rooms=1&group_children=0&req_children=0&hpos=18&hapos=443&sr_order=popularity&srpvid=d9d2976b63a500de&srepoch=1670539683&all_sr_blocks=881335702_363997320_2_0_0&highlighted_blocks=881335702_363997320_2_0_0&matching_block_id=881335702_363997320_2_0_0&sr_pri_blocks=881335702_363997320_2_0_0__183700&tpi_r=2&from=searchresults&map_fdco=1#hotelTmpl\n",
      "445 https://www.booking.com/hotel/us/wall-street-journal-new-york.html?label=gen173nr-1FCAEoggI46AdIM1gEaKQCiAEBmAExuAEHyAEM2AEB6AEB-AECiAIBqAIDuALTr8mcBsACAdICJDQzOTBiZWIxLTcxNDQtNDcwNi05NmU4LTVjNGJkYzE2ZmU1N9gCBeACAQ&sid=39d69ef60db6be4413c20e151e506e68&aid=304142&ucfs=1&arphpl=1&checkin=2023-02-08&checkout=2023-02-14&group_adults=2&req_adults=2&no_rooms=1&group_children=0&req_children=0&hpos=19&hapos=444&sr_order=popularity&srpvid=d9d2976b63a500de&srepoch=1670539683&all_sr_blocks=900605601_360735212_5_0_0&highlighted_blocks=900605601_360735212_5_0_0&matching_block_id=900605601_360735212_5_0_0&sr_pri_blocks=900605601_360735212_5_0_0__306000&tpi_r=2&from=searchresults&map_fdco=1#hotelTmpl\n",
      "446 https://www.booking.com/hotel/us/in-the-heart-of-nyc-time-sq-theater-district-javits-center.html?label=gen173nr-1FCAEoggI46AdIM1gEaKQCiAEBmAExuAEHyAEM2AEB6AEB-AECiAIBqAIDuALTr8mcBsACAdICJDQzOTBiZWIxLTcxNDQtNDcwNi05NmU4LTVjNGJkYzE2ZmU1N9gCBeACAQ&sid=39d69ef60db6be4413c20e151e506e68&aid=304142&ucfs=1&arphpl=1&checkin=2023-02-08&checkout=2023-02-14&group_adults=2&req_adults=2&no_rooms=1&group_children=0&req_children=0&hpos=20&hapos=445&sr_order=popularity&srpvid=d9d2976b63a500de&srepoch=1670539683&all_sr_blocks=933783801_365461976_2_0_0&highlighted_blocks=933783801_365461976_2_0_0&matching_block_id=933783801_365461976_2_0_0&sr_pri_blocks=933783801_365461976_2_0_0__155520&tpi_r=2&from=searchresults&map_fdco=1#hotelTmpl\n",
      "449 https://www.booking.com/hotel/us/5th-amp-55th-residence-club.html?label=gen173nr-1FCAEoggI46AdIM1gEaKQCiAEBmAExuAEHyAEM2AEB6AEB-AECiAIBqAIDuALTr8mcBsACAdICJDQzOTBiZWIxLTcxNDQtNDcwNi05NmU4LTVjNGJkYzE2ZmU1N9gCBeACAQ&sid=39d69ef60db6be4413c20e151e506e68&aid=304142&ucfs=1&arphpl=1&checkin=2023-02-08&checkout=2023-02-14&group_adults=2&req_adults=2&no_rooms=1&group_children=0&req_children=0&hpos=23&hapos=448&sr_order=popularity&srpvid=d9d2976b63a500de&srepoch=1670539683&all_sr_blocks=563561502_365394481_4_42_0&highlighted_blocks=563561502_365394481_4_42_0&matching_block_id=563561502_365394481_4_42_0&sr_pri_blocks=563561502_365394481_4_42_0__456450&tpi_r=2&from=searchresults&map_fdco=1#hotelTmpl\n",
      "450 https://www.booking.com/hotel/us/mid-town-east-28th-street-apartments.html?label=gen173nr-1FCAEoggI46AdIM1gEaKQCiAEBmAExuAEHyAEM2AEB6AEB-AECiAIBqAIDuALTr8mcBsACAdICJDQzOTBiZWIxLTcxNDQtNDcwNi05NmU4LTVjNGJkYzE2ZmU1N9gCBeACAQ&sid=39d69ef60db6be4413c20e151e506e68&aid=304142&ucfs=1&arphpl=1&checkin=2023-02-08&checkout=2023-02-14&group_adults=2&req_adults=2&no_rooms=1&group_children=0&req_children=0&hpos=24&hapos=449&sr_order=popularity&srpvid=d9d2976b63a500de&srepoch=1670539683&all_sr_blocks=147045002_87459015_4_0_0&highlighted_blocks=147045002_87459015_4_0_0&matching_block_id=147045002_87459015_4_0_0&sr_pri_blocks=147045002_87459015_4_0_0__119400&tpi_r=2&from=searchresults&map_fdco=1#hotelTmpl\n",
      "451 https://www.booking.com/hotel/us/cottage-feel-ground-floor-studio.html?label=gen173nr-1FCAEoggI46AdIM1gEaKQCiAEBmAExuAEHyAEM2AEB6AEB-AECiAIBqAIDuALTr8mcBsACAdICJDQzOTBiZWIxLTcxNDQtNDcwNi05NmU4LTVjNGJkYzE2ZmU1N9gCBeACAQ&sid=39d69ef60db6be4413c20e151e506e68&aid=304142&ucfs=1&arphpl=1&checkin=2023-02-08&checkout=2023-02-14&group_adults=2&req_adults=2&no_rooms=1&group_children=0&req_children=0&hpos=25&hapos=450&sr_order=popularity&srpvid=d9d2976b63a500de&srepoch=1670539683&all_sr_blocks=861011601_353987322_3_0_0&highlighted_blocks=861011601_353987322_3_0_0&matching_block_id=861011601_353987322_3_0_0&sr_pri_blocks=861011601_353987322_3_0_0__99750&tpi_r=2&from_sustainable_property_sr=1&from=searchresults&map_fdco=1#hotelTmpl\n",
      "452 https://www.booking.com/hotel/us/modern-studio-with-charming-juliet-balcony.html?label=gen173nr-1FCAEoggI46AdIM1gEaKQCiAEBmAExuAEHyAEM2AEB6AEB-AECiAIBqAIDuALTr8mcBsACAdICJDQzOTBiZWIxLTcxNDQtNDcwNi05NmU4LTVjNGJkYzE2ZmU1N9gCBeACAQ&sid=39d69ef60db6be4413c20e151e506e68&aid=304142&ucfs=1&arphpl=1&checkin=2023-02-08&checkout=2023-02-14&group_adults=2&req_adults=2&no_rooms=1&group_children=0&req_children=0&hpos=1&hapos=451&sr_order=popularity&srpvid=d9d2976b63a500de&srepoch=1670539690&all_sr_blocks=925070002_364310649_2_0_0&highlighted_blocks=925070002_364310649_2_0_0&matching_block_id=925070002_364310649_2_0_0&sr_pri_blocks=925070002_364310649_2_0_0__183700&from=searchresults&map_fdco=1#hotelTmpl\n",
      "453 https://www.booking.com/hotel/us/hansem-stay.html?label=gen173nr-1FCAEoggI46AdIM1gEaKQCiAEBmAExuAEHyAEM2AEB6AEB-AECiAIBqAIDuALTr8mcBsACAdICJDQzOTBiZWIxLTcxNDQtNDcwNi05NmU4LTVjNGJkYzE2ZmU1N9gCBeACAQ&sid=39d69ef60db6be4413c20e151e506e68&aid=304142&ucfs=1&arphpl=1&checkin=2023-02-08&checkout=2023-02-14&group_adults=2&req_adults=2&no_rooms=1&group_children=0&req_children=0&hpos=2&hapos=452&sr_order=popularity&srpvid=d9d2976b63a500de&srepoch=1670539690&all_sr_blocks=772140902_357135700_2_0_0&highlighted_blocks=772140902_357135700_2_0_0&matching_block_id=772140902_357135700_2_0_0&sr_pri_blocks=772140902_357135700_2_0_0__84000&from=searchresults&map_fdco=1#hotelTmpl\n",
      "454 https://www.booking.com/hotel/us/casamia-36-new-york.html?label=gen173nr-1FCAEoggI46AdIM1gEaKQCiAEBmAExuAEHyAEM2AEB6AEB-AECiAIBqAIDuALTr8mcBsACAdICJDQzOTBiZWIxLTcxNDQtNDcwNi05NmU4LTVjNGJkYzE2ZmU1N9gCBeACAQ&sid=39d69ef60db6be4413c20e151e506e68&aid=304142&ucfs=1&arphpl=1&checkin=2023-02-08&checkout=2023-02-14&group_adults=2&req_adults=2&no_rooms=1&group_children=0&req_children=0&hpos=3&hapos=453&sr_order=popularity&srpvid=d9d2976b63a500de&srepoch=1670539690&all_sr_blocks=833773302_348658159_0_1_0&highlighted_blocks=833773302_348658159_0_1_0&matching_block_id=833773302_348658159_0_1_0&sr_pri_blocks=833773302_348658159_0_1_0__75991&from=searchresults&map_fdco=1#hotelTmpl\n",
      "455 https://www.booking.com/hotel/us/park-ave-apartments-mid-town.html?label=gen173nr-1FCAEoggI46AdIM1gEaKQCiAEBmAExuAEHyAEM2AEB6AEB-AECiAIBqAIDuALTr8mcBsACAdICJDQzOTBiZWIxLTcxNDQtNDcwNi05NmU4LTVjNGJkYzE2ZmU1N9gCBeACAQ&sid=39d69ef60db6be4413c20e151e506e68&aid=304142&ucfs=1&arphpl=1&checkin=2023-02-08&checkout=2023-02-14&group_adults=2&req_adults=2&no_rooms=1&group_children=0&req_children=0&hpos=4&hapos=454&sr_order=popularity&srpvid=d9d2976b63a500de&srepoch=1670539690&all_sr_blocks=147046003_87459218_4_0_0&highlighted_blocks=147046003_87459218_4_0_0&matching_block_id=147046003_87459218_4_0_0&sr_pri_blocks=147046003_87459218_4_0_0__149400&from=searchresults&map_fdco=1#hotelTmpl\n",
      "456 https://www.booking.com/hotel/us/entire-apartment-in-upper-west.html?label=gen173nr-1FCAEoggI46AdIM1gEaKQCiAEBmAExuAEHyAEM2AEB6AEB-AECiAIBqAIDuALTr8mcBsACAdICJDQzOTBiZWIxLTcxNDQtNDcwNi05NmU4LTVjNGJkYzE2ZmU1N9gCBeACAQ&sid=39d69ef60db6be4413c20e151e506e68&aid=304142&ucfs=1&arphpl=1&checkin=2023-02-08&checkout=2023-02-14&group_adults=2&req_adults=2&no_rooms=1&group_children=0&req_children=0&hpos=5&hapos=455&sr_order=popularity&srpvid=d9d2976b63a500de&srepoch=1670539690&all_sr_blocks=797157201_339889932_2_0_0&highlighted_blocks=797157201_339889932_2_0_0&matching_block_id=797157201_339889932_2_0_0&sr_pri_blocks=797157201_339889932_2_0_0__198090&from=searchresults&map_fdco=1#hotelTmpl\n",
      "457 https://www.booking.com/hotel/us/privet-loft-in-the-heart-of-fidi-wall-street.html?label=gen173nr-1FCAEoggI46AdIM1gEaKQCiAEBmAExuAEHyAEM2AEB6AEB-AECiAIBqAIDuALTr8mcBsACAdICJDQzOTBiZWIxLTcxNDQtNDcwNi05NmU4LTVjNGJkYzE2ZmU1N9gCBeACAQ&sid=39d69ef60db6be4413c20e151e506e68&aid=304142&ucfs=1&arphpl=1&checkin=2023-02-08&checkout=2023-02-14&group_adults=2&req_adults=2&no_rooms=1&group_children=0&req_children=0&hpos=6&hapos=456&sr_order=popularity&srpvid=d9d2976b63a500de&srepoch=1670539690&all_sr_blocks=924989201_364928933_2_0_0&highlighted_blocks=924989201_364928933_2_0_0&matching_block_id=924989201_364928933_2_0_0&sr_pri_blocks=924989201_364928933_2_0_0__315900&from_sustainable_property_sr=1&from=searchresults&map_fdco=1#hotelTmpl\n"
     ]
    },
    {
     "name": "stdout",
     "output_type": "stream",
     "text": [
      "458 https://www.booking.com/hotel/us/the-bed-amp-breakfast-on-central-park.html?label=gen173nr-1FCAEoggI46AdIM1gEaKQCiAEBmAExuAEHyAEM2AEB6AEB-AECiAIBqAIDuALTr8mcBsACAdICJDQzOTBiZWIxLTcxNDQtNDcwNi05NmU4LTVjNGJkYzE2ZmU1N9gCBeACAQ&sid=39d69ef60db6be4413c20e151e506e68&aid=304142&ucfs=1&arphpl=1&checkin=2023-02-08&checkout=2023-02-14&group_adults=2&req_adults=2&no_rooms=1&group_children=0&req_children=0&hpos=7&hapos=457&sr_order=popularity&srpvid=d9d2976b63a500de&srepoch=1670539690&all_sr_blocks=109590405_89254238_0_0_0&highlighted_blocks=109590405_89254238_0_0_0&matching_block_id=109590405_89254238_0_0_0&sr_pri_blocks=109590405_89254238_0_0_0__57400&from=searchresults&map_fdco=1#hotelTmpl\n",
      "459 https://www.booking.com/hotel/us/comfy-2br-apartment-upper-east-side.html?label=gen173nr-1FCAEoggI46AdIM1gEaKQCiAEBmAExuAEHyAEM2AEB6AEB-AECiAIBqAIDuALTr8mcBsACAdICJDQzOTBiZWIxLTcxNDQtNDcwNi05NmU4LTVjNGJkYzE2ZmU1N9gCBeACAQ&sid=39d69ef60db6be4413c20e151e506e68&aid=304142&ucfs=1&arphpl=1&checkin=2023-02-08&checkout=2023-02-14&group_adults=2&req_adults=2&no_rooms=1&group_children=0&req_children=0&hpos=8&hapos=458&sr_order=popularity&srpvid=d9d2976b63a500de&srepoch=1670539690&all_sr_blocks=886324302_361567694_0_0_0&highlighted_blocks=886324302_361567694_0_0_0&matching_block_id=886324302_361567694_0_0_0&sr_pri_blocks=886324302_361567694_0_0_0__297540&from=searchresults&map_fdco=1#hotelTmpl\n",
      "460 https://www.booking.com/hotel/us/apartment-new-york-new-york2.html?label=gen173nr-1FCAEoggI46AdIM1gEaKQCiAEBmAExuAEHyAEM2AEB6AEB-AECiAIBqAIDuALTr8mcBsACAdICJDQzOTBiZWIxLTcxNDQtNDcwNi05NmU4LTVjNGJkYzE2ZmU1N9gCBeACAQ&sid=39d69ef60db6be4413c20e151e506e68&aid=304142&ucfs=1&arphpl=1&checkin=2023-02-08&checkout=2023-02-14&group_adults=2&req_adults=2&no_rooms=1&group_children=0&req_children=0&hpos=9&hapos=459&sr_order=popularity&srpvid=d9d2976b63a500de&srepoch=1670539690&all_sr_blocks=122915201_295906854_8_0_0&highlighted_blocks=122915201_295906854_8_0_0&matching_block_id=122915201_295906854_8_0_0&sr_pri_blocks=122915201_295906854_8_0_0__380100&from=searchresults&map_fdco=1#hotelTmpl\n",
      "461 https://www.booking.com/hotel/us/top-notch-2br-2ba-minutes-from-central-park.html?label=gen173nr-1FCAEoggI46AdIM1gEaKQCiAEBmAExuAEHyAEM2AEB6AEB-AECiAIBqAIDuALTr8mcBsACAdICJDQzOTBiZWIxLTcxNDQtNDcwNi05NmU4LTVjNGJkYzE2ZmU1N9gCBeACAQ&sid=39d69ef60db6be4413c20e151e506e68&aid=304142&ucfs=1&arphpl=1&checkin=2023-02-08&checkout=2023-02-14&group_adults=2&req_adults=2&no_rooms=1&group_children=0&req_children=0&hpos=10&hapos=460&sr_order=popularity&srpvid=d9d2976b63a500de&srepoch=1670539690&all_sr_blocks=923670202_364122255_6_0_0&highlighted_blocks=923670202_364122255_6_0_0&matching_block_id=923670202_364122255_6_0_0&sr_pri_blocks=923670202_364122255_6_0_0__417000&from=searchresults&map_fdco=1#hotelTmpl\n",
      "462 https://www.booking.com/hotel/us/in-the-heart-of-manhattan-spacious-luxury.html?label=gen173nr-1FCAEoggI46AdIM1gEaKQCiAEBmAExuAEHyAEM2AEB6AEB-AECiAIBqAIDuALTr8mcBsACAdICJDQzOTBiZWIxLTcxNDQtNDcwNi05NmU4LTVjNGJkYzE2ZmU1N9gCBeACAQ&sid=39d69ef60db6be4413c20e151e506e68&aid=304142&ucfs=1&arphpl=1&checkin=2023-02-08&checkout=2023-02-14&group_adults=2&req_adults=2&no_rooms=1&group_children=0&req_children=0&hpos=11&hapos=461&sr_order=popularity&srpvid=d9d2976b63a500de&srepoch=1670539690&all_sr_blocks=903871001_361373315_2_0_0&highlighted_blocks=903871001_361373315_2_0_0&matching_block_id=903871001_361373315_2_0_0&sr_pri_blocks=903871001_361373315_2_0_0__321300&from=searchresults&map_fdco=1#hotelTmpl\n",
      "463 https://www.booking.com/hotel/us/best-lovation-12-street-3-ave-nyc.html?label=gen173nr-1FCAEoggI46AdIM1gEaKQCiAEBmAExuAEHyAEM2AEB6AEB-AECiAIBqAIDuALTr8mcBsACAdICJDQzOTBiZWIxLTcxNDQtNDcwNi05NmU4LTVjNGJkYzE2ZmU1N9gCBeACAQ&sid=39d69ef60db6be4413c20e151e506e68&aid=304142&ucfs=1&arphpl=1&checkin=2023-02-08&checkout=2023-02-14&group_adults=2&req_adults=2&no_rooms=1&group_children=0&req_children=0&hpos=12&hapos=462&sr_order=popularity&srpvid=d9d2976b63a500de&srepoch=1670539690&all_sr_blocks=810781901_343243134_2_0_0&highlighted_blocks=810781901_343243134_2_0_0&matching_block_id=810781901_343243134_2_0_0&sr_pri_blocks=810781901_343243134_2_0_0__341334&from=searchresults&map_fdco=1#hotelTmpl\n",
      "464 https://www.booking.com/hotel/us/unique-3br-and-3ba-apartment-amazing-upper-east-side.html?label=gen173nr-1FCAEoggI46AdIM1gEaKQCiAEBmAExuAEHyAEM2AEB6AEB-AECiAIBqAIDuALTr8mcBsACAdICJDQzOTBiZWIxLTcxNDQtNDcwNi05NmU4LTVjNGJkYzE2ZmU1N9gCBeACAQ&sid=39d69ef60db6be4413c20e151e506e68&aid=304142&ucfs=1&arphpl=1&checkin=2023-02-08&checkout=2023-02-14&group_adults=2&req_adults=2&no_rooms=1&group_children=0&req_children=0&hpos=13&hapos=463&sr_order=popularity&srpvid=d9d2976b63a500de&srepoch=1670539690&all_sr_blocks=886293802_361567883_0_0_0&highlighted_blocks=886293802_361567883_0_0_0&matching_block_id=886293802_361567883_0_0_0&sr_pri_blocks=886293802_361567883_0_0_0__553014&from=searchresults&map_fdco=1#hotelTmpl\n",
      "465 https://www.booking.com/hotel/us/best-western-plus-soho.html?label=gen173nr-1FCAEoggI46AdIM1gEaKQCiAEBmAExuAEHyAEM2AEB6AEB-AECiAIBqAIDuALTr8mcBsACAdICJDQzOTBiZWIxLTcxNDQtNDcwNi05NmU4LTVjNGJkYzE2ZmU1N9gCBeACAQ&sid=39d69ef60db6be4413c20e151e506e68&aid=304142&ucfs=1&arphpl=1&checkin=2023-02-08&checkout=2023-02-14&group_adults=2&req_adults=2&no_rooms=1&group_children=0&req_children=0&hpos=14&hapos=464&sr_order=popularity&srpvid=d9d2976b63a500de&srepoch=1670539690&all_sr_blocks=785131002_346754275_2_1_0&highlighted_blocks=785131002_346754275_2_1_0&matching_block_id=785131002_346754275_2_1_0&sr_pri_blocks=785131002_346754275_2_1_0__104400&from=searchresults&map_fdco=1#hotelTmpl\n",
      "466 https://www.booking.com/hotel/us/quaint-fully-furnished-2br-apartment-midtown-west.html?label=gen173nr-1FCAEoggI46AdIM1gEaKQCiAEBmAExuAEHyAEM2AEB6AEB-AECiAIBqAIDuALTr8mcBsACAdICJDQzOTBiZWIxLTcxNDQtNDcwNi05NmU4LTVjNGJkYzE2ZmU1N9gCBeACAQ&sid=39d69ef60db6be4413c20e151e506e68&aid=304142&ucfs=1&arphpl=1&checkin=2023-02-08&checkout=2023-02-14&group_adults=2&req_adults=2&no_rooms=1&group_children=0&req_children=0&hpos=15&hapos=465&sr_order=popularity&srpvid=d9d2976b63a500de&srepoch=1670539690&all_sr_blocks=886319602_361567809_5_0_0&highlighted_blocks=886319602_361567809_5_0_0&matching_block_id=886319602_361567809_5_0_0&sr_pri_blocks=886319602_361567809_5_0_0__582120&from=searchresults&map_fdco=1#hotelTmpl\n",
      "467 https://www.booking.com/hotel/us/luxury-studio-in-the-west-village.html?label=gen173nr-1FCAEoggI46AdIM1gEaKQCiAEBmAExuAEHyAEM2AEB6AEB-AECiAIBqAIDuALTr8mcBsACAdICJDQzOTBiZWIxLTcxNDQtNDcwNi05NmU4LTVjNGJkYzE2ZmU1N9gCBeACAQ&sid=39d69ef60db6be4413c20e151e506e68&aid=304142&ucfs=1&arphpl=1&checkin=2023-02-08&checkout=2023-02-14&group_adults=2&req_adults=2&no_rooms=1&group_children=0&req_children=0&hpos=16&hapos=466&sr_order=popularity&srpvid=d9d2976b63a500de&srepoch=1670539690&all_sr_blocks=151442502_119152562_0_0_0&highlighted_blocks=151442502_119152562_0_0_0&matching_block_id=151442502_119152562_0_0_0&sr_pri_blocks=151442502_119152562_0_0_0__330000&from_sustainable_property_sr=1&from=searchresults&map_fdco=1#hotelTmpl\n",
      "468 https://www.booking.com/hotel/us/suites-2-stay-affordable-vacations-makes-life-great.html?label=gen173nr-1FCAEoggI46AdIM1gEaKQCiAEBmAExuAEHyAEM2AEB6AEB-AECiAIBqAIDuALTr8mcBsACAdICJDQzOTBiZWIxLTcxNDQtNDcwNi05NmU4LTVjNGJkYzE2ZmU1N9gCBeACAQ&sid=39d69ef60db6be4413c20e151e506e68&aid=304142&ucfs=1&arphpl=1&checkin=2023-02-08&checkout=2023-02-14&group_adults=2&req_adults=2&no_rooms=1&group_children=0&req_children=0&hpos=17&hapos=467&sr_order=popularity&srpvid=d9d2976b63a500de&srepoch=1670539690&all_sr_blocks=860918301_356412490_5_0_0&highlighted_blocks=860918301_356412490_5_0_0&matching_block_id=860918301_356412490_5_0_0&sr_pri_blocks=860918301_356412490_5_0_0__233400&from_sustainable_property_sr=1&from=searchresults&map_fdco=1#hotelTmpl\n",
      "469 https://www.booking.com/hotel/us/hostel-chrystie-street.html?label=gen173nr-1FCAEoggI46AdIM1gEaKQCiAEBmAExuAEHyAEM2AEB6AEB-AECiAIBqAIDuALTr8mcBsACAdICJDQzOTBiZWIxLTcxNDQtNDcwNi05NmU4LTVjNGJkYzE2ZmU1N9gCBeACAQ&sid=39d69ef60db6be4413c20e151e506e68&aid=304142&ucfs=1&arphpl=1&checkin=2023-02-08&checkout=2023-02-14&group_adults=2&req_adults=2&no_rooms=1&group_children=0&req_children=0&hpos=18&hapos=468&sr_order=popularity&srpvid=d9d2976b63a500de&srepoch=1670539690&all_sr_blocks=115105504_335371461_0_0_0&highlighted_blocks=115105504_335371461_0_0_0&matching_block_id=115105504_335371461_0_0_0&sr_pri_blocks=115105504_335371461_0_0_0__60000&from=searchresults&map_fdco=1#hotelTmpl\n"
     ]
    },
    {
     "name": "stdout",
     "output_type": "stream",
     "text": [
      "470 https://www.booking.com/hotel/us/steps-to-times-square-magnificent-2br-apartment.html?label=gen173nr-1FCAEoggI46AdIM1gEaKQCiAEBmAExuAEHyAEM2AEB6AEB-AECiAIBqAIDuALTr8mcBsACAdICJDQzOTBiZWIxLTcxNDQtNDcwNi05NmU4LTVjNGJkYzE2ZmU1N9gCBeACAQ&sid=39d69ef60db6be4413c20e151e506e68&aid=304142&ucfs=1&arphpl=1&checkin=2023-02-08&checkout=2023-02-14&group_adults=2&req_adults=2&no_rooms=1&group_children=0&req_children=0&hpos=19&hapos=469&sr_order=popularity&srpvid=d9d2976b63a500de&srepoch=1670539690&all_sr_blocks=886321202_361567740_0_0_0&highlighted_blocks=886321202_361567740_0_0_0&matching_block_id=886321202_361567740_0_0_0&sr_pri_blocks=886321202_361567740_0_0_0__576180&from=searchresults&map_fdco=1#hotelTmpl\n",
      "471 https://www.booking.com/hotel/us/austin-cove-near-subway-all-shops-restaurants.html?label=gen173nr-1FCAEoggI46AdIM1gEaKQCiAEBmAExuAEHyAEM2AEB6AEB-AECiAIBqAIDuALTr8mcBsACAdICJDQzOTBiZWIxLTcxNDQtNDcwNi05NmU4LTVjNGJkYzE2ZmU1N9gCBeACAQ&sid=39d69ef60db6be4413c20e151e506e68&aid=304142&ucfs=1&arphpl=1&checkin=2023-02-08&checkout=2023-02-14&group_adults=2&req_adults=2&no_rooms=1&group_children=0&req_children=0&hpos=20&hapos=470&sr_order=popularity&srpvid=d9d2976b63a500de&srepoch=1670539690&all_sr_blocks=876708801_359140046_2_0_0&highlighted_blocks=876708801_359140046_2_0_0&matching_block_id=876708801_359140046_2_0_0&sr_pri_blocks=876708801_359140046_2_0_0__243000&from=searchresults&map_fdco=1#hotelTmpl\n",
      "472 https://www.booking.com/hotel/us/one-bedroom-suite-in-classic-nyc-brownstone.html?label=gen173nr-1FCAEoggI46AdIM1gEaKQCiAEBmAExuAEHyAEM2AEB6AEB-AECiAIBqAIDuALTr8mcBsACAdICJDQzOTBiZWIxLTcxNDQtNDcwNi05NmU4LTVjNGJkYzE2ZmU1N9gCBeACAQ&sid=39d69ef60db6be4413c20e151e506e68&aid=304142&ucfs=1&arphpl=1&checkin=2023-02-08&checkout=2023-02-14&group_adults=2&req_adults=2&no_rooms=1&group_children=0&req_children=0&hpos=21&hapos=471&sr_order=popularity&srpvid=d9d2976b63a500de&srepoch=1670539690&all_sr_blocks=698303801_287908480_2_1_0&highlighted_blocks=698303801_287908480_2_1_0&matching_block_id=698303801_287908480_2_1_0&sr_pri_blocks=698303801_287908480_2_1_0__162000&from_sustainable_property_sr=1&from=searchresults&map_fdco=1#hotelTmpl\n",
      "473 https://www.booking.com/hotel/us/one-bedroom-apartment-700.html?label=gen173nr-1FCAEoggI46AdIM1gEaKQCiAEBmAExuAEHyAEM2AEB6AEB-AECiAIBqAIDuALTr8mcBsACAdICJDQzOTBiZWIxLTcxNDQtNDcwNi05NmU4LTVjNGJkYzE2ZmU1N9gCBeACAQ&sid=39d69ef60db6be4413c20e151e506e68&aid=304142&ucfs=1&arphpl=1&checkin=2023-02-08&checkout=2023-02-14&group_adults=2&req_adults=2&no_rooms=1&group_children=0&req_children=0&hpos=22&hapos=472&sr_order=popularity&srpvid=d9d2976b63a500de&srepoch=1670539690&all_sr_blocks=110585103_89386505_6_0_0&highlighted_blocks=110585103_89386505_6_0_0&matching_block_id=110585103_89386505_6_0_0&sr_pri_blocks=110585103_89386505_6_0_0__136500&from=searchresults&map_fdco=1#hotelTmpl\n",
      "474 https://www.booking.com/hotel/us/beautiful-room-in-newly-renovated-apt.html?label=gen173nr-1FCAEoggI46AdIM1gEaKQCiAEBmAExuAEHyAEM2AEB6AEB-AECiAIBqAIDuALTr8mcBsACAdICJDQzOTBiZWIxLTcxNDQtNDcwNi05NmU4LTVjNGJkYzE2ZmU1N9gCBeACAQ&sid=39d69ef60db6be4413c20e151e506e68&aid=304142&ucfs=1&arphpl=1&checkin=2023-02-08&checkout=2023-02-14&group_adults=2&req_adults=2&no_rooms=1&group_children=0&req_children=0&hpos=23&hapos=473&sr_order=popularity&srpvid=d9d2976b63a500de&srepoch=1670539690&all_sr_blocks=582439001_335341256_2_0_0&highlighted_blocks=582439001_335341256_2_0_0&matching_block_id=582439001_335341256_2_0_0&sr_pri_blocks=582439001_335341256_2_0_0__111150&from=searchresults&map_fdco=1#hotelTmpl\n",
      "475 https://www.booking.com/hotel/us/apartment-new-york-new-york4.html?label=gen173nr-1FCAEoggI46AdIM1gEaKQCiAEBmAExuAEHyAEM2AEB6AEB-AECiAIBqAIDuALTr8mcBsACAdICJDQzOTBiZWIxLTcxNDQtNDcwNi05NmU4LTVjNGJkYzE2ZmU1N9gCBeACAQ&sid=39d69ef60db6be4413c20e151e506e68&aid=304142&ucfs=1&arphpl=1&checkin=2023-02-08&checkout=2023-02-14&group_adults=2&req_adults=2&no_rooms=1&group_children=0&req_children=0&hpos=24&hapos=474&sr_order=popularity&srpvid=d9d2976b63a500de&srepoch=1670539690&all_sr_blocks=122915401_295906797_6_0_0&highlighted_blocks=122915401_295906797_6_0_0&matching_block_id=122915401_295906797_6_0_0&sr_pri_blocks=122915401_295906797_6_0_0__292200&from=searchresults&map_fdco=1#hotelTmpl\n",
      "476 https://www.booking.com/hotel/us/cozy-studio-09-near-empire-state-bldg.html?label=gen173nr-1FCAEoggI46AdIM1gEaKQCiAEBmAExuAEHyAEM2AEB6AEB-AECiAIBqAIDuALTr8mcBsACAdICJDQzOTBiZWIxLTcxNDQtNDcwNi05NmU4LTVjNGJkYzE2ZmU1N9gCBeACAQ&sid=39d69ef60db6be4413c20e151e506e68&aid=304142&ucfs=1&arphpl=1&checkin=2023-02-08&checkout=2023-02-14&group_adults=2&req_adults=2&no_rooms=1&group_children=0&req_children=0&hpos=25&hapos=475&sr_order=popularity&srpvid=d9d2976b63a500de&srepoch=1670539690&all_sr_blocks=123472416_89386497_4_0_0&highlighted_blocks=123472416_89386497_4_0_0&matching_block_id=123472416_89386497_4_0_0&sr_pri_blocks=123472416_89386497_4_0_0__114000&from=searchresults&map_fdco=1#hotelTmpl\n",
      "477 https://www.booking.com/hotel/us/midtown-best-location-28th-street.html?label=gen173nr-1FCAEoggI46AdIM1gEaKQCiAEBmAExuAEHyAEM2AEB6AEB-AECiAIBqAIDuALTr8mcBsACAdICJDQzOTBiZWIxLTcxNDQtNDcwNi05NmU4LTVjNGJkYzE2ZmU1N9gCBeACAQ&sid=39d69ef60db6be4413c20e151e506e68&aid=304142&ucfs=1&arphpl=1&checkin=2023-02-08&checkout=2023-02-14&group_adults=2&req_adults=2&no_rooms=1&group_children=0&req_children=0&hpos=1&hapos=476&sr_order=popularity&srpvid=d9d2976b63a500de&srepoch=1670539697&all_sr_blocks=173535802_90446184_4_0_0&highlighted_blocks=173535802_90446184_4_0_0&matching_block_id=173535802_90446184_4_0_0&sr_pri_blocks=173535802_90446184_4_0_0__179400&from=searchresults&map_fdco=1#hotelTmpl\n",
      "478 https://www.booking.com/hotel/us/spacious-2br-2ba-duplex-minutes-to-central-park.html?label=gen173nr-1FCAEoggI46AdIM1gEaKQCiAEBmAExuAEHyAEM2AEB6AEB-AECiAIBqAIDuALTr8mcBsACAdICJDQzOTBiZWIxLTcxNDQtNDcwNi05NmU4LTVjNGJkYzE2ZmU1N9gCBeACAQ&sid=39d69ef60db6be4413c20e151e506e68&aid=304142&ucfs=1&arphpl=1&checkin=2023-02-08&checkout=2023-02-14&group_adults=2&req_adults=2&no_rooms=1&group_children=0&req_children=0&hpos=2&hapos=477&sr_order=popularity&srpvid=d9d2976b63a500de&srepoch=1670539697&all_sr_blocks=925078602_364310542_8_0_0&highlighted_blocks=925078602_364310542_8_0_0&matching_block_id=925078602_364310542_8_0_0&sr_pri_blocks=925078602_364310542_8_0_0__417100&from=searchresults&map_fdco=1#hotelTmpl\n",
      "479 https://www.booking.com/hotel/us/time-square-43rd-street.html?label=gen173nr-1FCAEoggI46AdIM1gEaKQCiAEBmAExuAEHyAEM2AEB6AEB-AECiAIBqAIDuALTr8mcBsACAdICJDQzOTBiZWIxLTcxNDQtNDcwNi05NmU4LTVjNGJkYzE2ZmU1N9gCBeACAQ&sid=39d69ef60db6be4413c20e151e506e68&aid=304142&ucfs=1&arphpl=1&checkin=2023-02-08&checkout=2023-02-14&group_adults=2&req_adults=2&no_rooms=1&group_children=0&req_children=0&hpos=3&hapos=478&sr_order=popularity&srpvid=d9d2976b63a500de&srepoch=1670539697&all_sr_blocks=456267101_364246847_2_0_0&highlighted_blocks=456267101_364246847_2_0_0&matching_block_id=456267101_364246847_2_0_0&sr_pri_blocks=456267101_364246847_2_0_0__76200&from=searchresults&map_fdco=1#hotelTmpl\n",
      "480 https://www.booking.com/hotel/us/luxury-4br-apartment-at-upper-west-side.html?label=gen173nr-1FCAEoggI46AdIM1gEaKQCiAEBmAExuAEHyAEM2AEB6AEB-AECiAIBqAIDuALTr8mcBsACAdICJDQzOTBiZWIxLTcxNDQtNDcwNi05NmU4LTVjNGJkYzE2ZmU1N9gCBeACAQ&sid=39d69ef60db6be4413c20e151e506e68&aid=304142&ucfs=1&arphpl=1&checkin=2023-02-08&checkout=2023-02-14&group_adults=2&req_adults=2&no_rooms=1&group_children=0&req_children=0&hpos=4&hapos=479&sr_order=popularity&srpvid=d9d2976b63a500de&srepoch=1670539697&all_sr_blocks=934369301_365537899_8_0_0&highlighted_blocks=934369301_365537899_8_0_0&matching_block_id=934369301_365537899_8_0_0&sr_pri_blocks=934369301_365537899_8_0_0__645000&from=searchresults&map_fdco=1#hotelTmpl\n",
      "481 https://www.booking.com/hotel/us/unique-3-bedroom-at-upper-west-side.html?label=gen173nr-1FCAEoggI46AdIM1gEaKQCiAEBmAExuAEHyAEM2AEB6AEB-AECiAIBqAIDuALTr8mcBsACAdICJDQzOTBiZWIxLTcxNDQtNDcwNi05NmU4LTVjNGJkYzE2ZmU1N9gCBeACAQ&sid=39d69ef60db6be4413c20e151e506e68&aid=304142&ucfs=1&arphpl=1&checkin=2023-02-08&checkout=2023-02-14&group_adults=2&req_adults=2&no_rooms=1&group_children=0&req_children=0&hpos=5&hapos=480&sr_order=popularity&srpvid=d9d2976b63a500de&srepoch=1670539697&all_sr_blocks=934404401_365540483_7_0_0&highlighted_blocks=934404401_365540483_7_0_0&matching_block_id=934404401_365540483_7_0_0&sr_pri_blocks=934404401_365540483_7_0_0__501000&from=searchresults&map_fdco=1#hotelTmpl\n"
     ]
    },
    {
     "name": "stdout",
     "output_type": "stream",
     "text": [
      "482 https://www.booking.com/hotel/us/immaculate-3-bedroom-apartment-at-midtown-east.html?label=gen173nr-1FCAEoggI46AdIM1gEaKQCiAEBmAExuAEHyAEM2AEB6AEB-AECiAIBqAIDuALTr8mcBsACAdICJDQzOTBiZWIxLTcxNDQtNDcwNi05NmU4LTVjNGJkYzE2ZmU1N9gCBeACAQ&sid=39d69ef60db6be4413c20e151e506e68&aid=304142&ucfs=1&arphpl=1&checkin=2023-02-08&checkout=2023-02-14&group_adults=2&req_adults=2&no_rooms=1&group_children=0&req_children=0&hpos=6&hapos=481&sr_order=popularity&srpvid=d9d2976b63a500de&srepoch=1670539697&all_sr_blocks=934393301_365539178_6_0_0&highlighted_blocks=934393301_365539178_6_0_0&matching_block_id=934393301_365539178_6_0_0&sr_pri_blocks=934393301_365539178_6_0_0__519000&from=searchresults&map_fdco=1#hotelTmpl\n",
      "483 https://www.booking.com/hotel/us/stunning-3bd-apartment-at-midtown-east.html?label=gen173nr-1FCAEoggI46AdIM1gEaKQCiAEBmAExuAEHyAEM2AEB6AEB-AECiAIBqAIDuALTr8mcBsACAdICJDQzOTBiZWIxLTcxNDQtNDcwNi05NmU4LTVjNGJkYzE2ZmU1N9gCBeACAQ&sid=39d69ef60db6be4413c20e151e506e68&aid=304142&ucfs=1&arphpl=1&checkin=2023-02-08&checkout=2023-02-14&group_adults=2&req_adults=2&no_rooms=1&group_children=0&req_children=0&hpos=7&hapos=482&sr_order=popularity&srpvid=d9d2976b63a500de&srepoch=1670539697&all_sr_blocks=934378601_365538438_6_0_0&highlighted_blocks=934378601_365538438_6_0_0&matching_block_id=934378601_365538438_6_0_0&sr_pri_blocks=934378601_365538438_6_0_0__567000&from=searchresults&map_fdco=1#hotelTmpl\n",
      "484 https://www.booking.com/hotel/us/perfectly-located-near-restaurants-shops-sites.html?label=gen173nr-1FCAEoggI46AdIM1gEaKQCiAEBmAExuAEHyAEM2AEB6AEB-AECiAIBqAIDuALTr8mcBsACAdICJDQzOTBiZWIxLTcxNDQtNDcwNi05NmU4LTVjNGJkYzE2ZmU1N9gCBeACAQ&sid=39d69ef60db6be4413c20e151e506e68&aid=304142&ucfs=1&arphpl=1&checkin=2023-02-08&checkout=2023-02-14&group_adults=2&req_adults=2&no_rooms=1&group_children=0&req_children=0&hpos=8&hapos=483&sr_order=popularity&srpvid=d9d2976b63a500de&srepoch=1670539697&all_sr_blocks=512063101_356671891_5_0_0&highlighted_blocks=512063101_356671891_5_0_0&matching_block_id=512063101_356671891_5_0_0&sr_pri_blocks=512063101_356671891_5_0_0__240300&from=searchresults&map_fdco=1#hotelTmpl\n",
      "485 https://www.booking.com/hotel/us/pleasant-2br-lennox-hill-apartment.html?label=gen173nr-1FCAEoggI46AdIM1gEaKQCiAEBmAExuAEHyAEM2AEB6AEB-AECiAIBqAIDuALTr8mcBsACAdICJDQzOTBiZWIxLTcxNDQtNDcwNi05NmU4LTVjNGJkYzE2ZmU1N9gCBeACAQ&sid=39d69ef60db6be4413c20e151e506e68&aid=304142&ucfs=1&arphpl=1&checkin=2023-02-08&checkout=2023-02-14&group_adults=2&req_adults=2&no_rooms=1&group_children=0&req_children=0&hpos=9&hapos=484&sr_order=popularity&srpvid=d9d2976b63a500de&srepoch=1670539697&all_sr_blocks=886318102_358199587_0_0_0&highlighted_blocks=886318102_358199587_0_0_0&matching_block_id=886318102_358199587_0_0_0&sr_pri_blocks=886318102_358199587_0_0_0__298188&from=searchresults&map_fdco=1#hotelTmpl\n",
      "486 https://www.booking.com/hotel/us/your-next-vacation-should-be-here-walk-to-times-sq.html?label=gen173nr-1FCAEoggI46AdIM1gEaKQCiAEBmAExuAEHyAEM2AEB6AEB-AECiAIBqAIDuALTr8mcBsACAdICJDQzOTBiZWIxLTcxNDQtNDcwNi05NmU4LTVjNGJkYzE2ZmU1N9gCBeACAQ&sid=39d69ef60db6be4413c20e151e506e68&aid=304142&ucfs=1&arphpl=1&checkin=2023-02-08&checkout=2023-02-14&group_adults=2&req_adults=2&no_rooms=1&group_children=0&req_children=0&hpos=10&hapos=485&sr_order=popularity&srpvid=d9d2976b63a500de&srepoch=1670539697&all_sr_blocks=505625701_356672007_6_0_0&highlighted_blocks=505625701_356672007_6_0_0&matching_block_id=505625701_356672007_6_0_0&sr_pri_blocks=505625701_356672007_6_0_0__206500&from_sustainable_property_sr=1&from=searchresults&map_fdco=1#hotelTmpl\n",
      "487 https://www.booking.com/hotel/us/studio-plus-47-in-perfect-location.html?label=gen173nr-1FCAEoggI46AdIM1gEaKQCiAEBmAExuAEHyAEM2AEB6AEB-AECiAIBqAIDuALTr8mcBsACAdICJDQzOTBiZWIxLTcxNDQtNDcwNi05NmU4LTVjNGJkYzE2ZmU1N9gCBeACAQ&sid=39d69ef60db6be4413c20e151e506e68&aid=304142&ucfs=1&arphpl=1&checkin=2023-02-08&checkout=2023-02-14&group_adults=2&req_adults=2&no_rooms=1&group_children=0&req_children=0&hpos=11&hapos=486&sr_order=popularity&srpvid=d9d2976b63a500de&srepoch=1670539697&all_sr_blocks=434898707_130419867_4_0_0&highlighted_blocks=434898707_130419867_4_0_0&matching_block_id=434898707_130419867_4_0_0&sr_pri_blocks=434898707_130419867_4_0_0__120000&from=searchresults&map_fdco=1#hotelTmpl\n",
      "488 https://www.booking.com/hotel/us/apartment-new-york-8845.html?label=gen173nr-1FCAEoggI46AdIM1gEaKQCiAEBmAExuAEHyAEM2AEB6AEB-AECiAIBqAIDuALTr8mcBsACAdICJDQzOTBiZWIxLTcxNDQtNDcwNi05NmU4LTVjNGJkYzE2ZmU1N9gCBeACAQ&sid=39d69ef60db6be4413c20e151e506e68&aid=304142&ucfs=1&arphpl=1&checkin=2023-02-08&checkout=2023-02-14&group_adults=2&req_adults=2&no_rooms=1&group_children=0&req_children=0&hpos=12&hapos=487&sr_order=popularity&srpvid=d9d2976b63a500de&srepoch=1670539697&all_sr_blocks=165533601_295901585_10_0_0&highlighted_blocks=165533601_295901585_10_0_0&matching_block_id=165533601_295901585_10_0_0&sr_pri_blocks=165533601_295901585_10_0_0__458100&from=searchresults&map_fdco=1#hotelTmpl\n",
      "489 https://www.booking.com/hotel/us/the-nomad-suites.html?label=gen173nr-1FCAEoggI46AdIM1gEaKQCiAEBmAExuAEHyAEM2AEB6AEB-AECiAIBqAIDuALTr8mcBsACAdICJDQzOTBiZWIxLTcxNDQtNDcwNi05NmU4LTVjNGJkYzE2ZmU1N9gCBeACAQ&sid=39d69ef60db6be4413c20e151e506e68&aid=304142&ucfs=1&arphpl=1&checkin=2023-02-08&checkout=2023-02-14&group_adults=2&req_adults=2&no_rooms=1&group_children=0&req_children=0&hpos=13&hapos=488&sr_order=popularity&srpvid=d9d2976b63a500de&srepoch=1670539697&all_sr_blocks=180292113_200632716_3_0_0&highlighted_blocks=180292113_200632716_3_0_0&matching_block_id=180292113_200632716_3_0_0&sr_pri_blocks=180292113_200632716_3_0_0__361500&from=searchresults&map_fdco=1#hotelTmpl\n",
      "490 https://www.booking.com/hotel/us/contemporary-furnished-2br-apartment-in-nyc.html?label=gen173nr-1FCAEoggI46AdIM1gEaKQCiAEBmAExuAEHyAEM2AEB6AEB-AECiAIBqAIDuALTr8mcBsACAdICJDQzOTBiZWIxLTcxNDQtNDcwNi05NmU4LTVjNGJkYzE2ZmU1N9gCBeACAQ&sid=39d69ef60db6be4413c20e151e506e68&aid=304142&ucfs=1&arphpl=1&checkin=2023-02-08&checkout=2023-02-14&group_adults=2&req_adults=2&no_rooms=1&group_children=0&req_children=0&hpos=14&hapos=489&sr_order=popularity&srpvid=d9d2976b63a500de&srepoch=1670539697&all_sr_blocks=886322802_361567702_0_0_0&highlighted_blocks=886322802_361567702_0_0_0&matching_block_id=886322802_361567702_0_0_0&sr_pri_blocks=886322802_361567702_0_0_0__297540&from=searchresults&map_fdco=1#hotelTmpl\n",
      "491 https://www.booking.com/hotel/us/apartment-new-york-new-york1.html?label=gen173nr-1FCAEoggI46AdIM1gEaKQCiAEBmAExuAEHyAEM2AEB6AEB-AECiAIBqAIDuALTr8mcBsACAdICJDQzOTBiZWIxLTcxNDQtNDcwNi05NmU4LTVjNGJkYzE2ZmU1N9gCBeACAQ&sid=39d69ef60db6be4413c20e151e506e68&aid=304142&ucfs=1&arphpl=1&checkin=2023-02-08&checkout=2023-02-14&group_adults=2&req_adults=2&no_rooms=1&group_children=0&req_children=0&hpos=15&hapos=490&sr_order=popularity&srpvid=d9d2976b63a500de&srepoch=1670539697&all_sr_blocks=122915101_295906827_8_0_0&highlighted_blocks=122915101_295906827_8_0_0&matching_block_id=122915101_295906827_8_0_0&sr_pri_blocks=122915101_295906827_8_0_0__380100&from=searchresults&map_fdco=1#hotelTmpl\n",
      "492 https://www.booking.com/hotel/us/delightful-3br-traditional-apartment-in-nyc.html?label=gen173nr-1FCAEoggI46AdIM1gEaKQCiAEBmAExuAEHyAEM2AEB6AEB-AECiAIBqAIDuALTr8mcBsACAdICJDQzOTBiZWIxLTcxNDQtNDcwNi05NmU4LTVjNGJkYzE2ZmU1N9gCBeACAQ&sid=39d69ef60db6be4413c20e151e506e68&aid=304142&ucfs=1&arphpl=1&checkin=2023-02-08&checkout=2023-02-14&group_adults=2&req_adults=2&no_rooms=1&group_children=0&req_children=0&hpos=16&hapos=491&sr_order=popularity&srpvid=d9d2976b63a500de&srepoch=1670539697&all_sr_blocks=886337402_358200990_6_0_0&highlighted_blocks=886337402_358200990_6_0_0&matching_block_id=886337402_358200990_6_0_0&sr_pri_blocks=886337402_358200990_6_0_0__367800&from=searchresults&map_fdco=1#hotelTmpl\n",
      "493 https://www.booking.com/hotel/us/apartment-new-york-new-york.html?label=gen173nr-1FCAEoggI46AdIM1gEaKQCiAEBmAExuAEHyAEM2AEB6AEB-AECiAIBqAIDuALTr8mcBsACAdICJDQzOTBiZWIxLTcxNDQtNDcwNi05NmU4LTVjNGJkYzE2ZmU1N9gCBeACAQ&sid=39d69ef60db6be4413c20e151e506e68&aid=304142&ucfs=1&arphpl=1&checkin=2023-02-08&checkout=2023-02-14&group_adults=2&req_adults=2&no_rooms=1&group_children=0&req_children=0&hpos=17&hapos=492&sr_order=popularity&srpvid=d9d2976b63a500de&srepoch=1670539697&all_sr_blocks=122915001_295906805_8_0_0&highlighted_blocks=122915001_295906805_8_0_0&matching_block_id=122915001_295906805_8_0_0&sr_pri_blocks=122915001_295906805_8_0_0__380100&from=searchresults&map_fdco=1#hotelTmpl\n"
     ]
    },
    {
     "name": "stdout",
     "output_type": "stream",
     "text": [
      "494 https://www.booking.com/hotel/us/great-studio-apts.html?label=gen173nr-1FCAEoggI46AdIM1gEaKQCiAEBmAExuAEHyAEM2AEB6AEB-AECiAIBqAIDuALTr8mcBsACAdICJDQzOTBiZWIxLTcxNDQtNDcwNi05NmU4LTVjNGJkYzE2ZmU1N9gCBeACAQ&sid=39d69ef60db6be4413c20e151e506e68&aid=304142&ucfs=1&arphpl=1&checkin=2023-02-08&checkout=2023-02-14&group_adults=2&req_adults=2&no_rooms=1&group_children=0&req_children=0&hpos=18&hapos=493&sr_order=popularity&srpvid=d9d2976b63a500de&srepoch=1670539697&all_sr_blocks=571927501_363621225_2_0_0&highlighted_blocks=571927501_363621225_2_0_0&matching_block_id=571927501_363621225_2_0_0&sr_pri_blocks=571927501_363621225_2_0_0__299400&from=searchresults&map_fdco=1#hotelTmpl\n",
      "495 https://www.booking.com/hotel/us/modish-2br-apartment-in-nyc.html?label=gen173nr-1FCAEoggI46AdIM1gEaKQCiAEBmAExuAEHyAEM2AEB6AEB-AECiAIBqAIDuALTr8mcBsACAdICJDQzOTBiZWIxLTcxNDQtNDcwNi05NmU4LTVjNGJkYzE2ZmU1N9gCBeACAQ&sid=39d69ef60db6be4413c20e151e506e68&aid=304142&ucfs=1&arphpl=1&checkin=2023-02-08&checkout=2023-02-14&group_adults=2&req_adults=2&no_rooms=1&group_children=0&req_children=0&hpos=19&hapos=494&sr_order=popularity&srpvid=d9d2976b63a500de&srepoch=1670539697&all_sr_blocks=886326502_361567673_0_0_0&highlighted_blocks=886326502_361567673_0_0_0&matching_block_id=886326502_361567673_0_0_0&sr_pri_blocks=886326502_361567673_0_0_0__271080&from=searchresults&map_fdco=1#hotelTmpl\n",
      "496 https://www.booking.com/hotel/us/entire-apartment-in-hells-kitchen.html?label=gen173nr-1FCAEoggI46AdIM1gEaKQCiAEBmAExuAEHyAEM2AEB6AEB-AECiAIBqAIDuALTr8mcBsACAdICJDQzOTBiZWIxLTcxNDQtNDcwNi05NmU4LTVjNGJkYzE2ZmU1N9gCBeACAQ&sid=39d69ef60db6be4413c20e151e506e68&aid=304142&ucfs=1&arphpl=1&checkin=2023-02-08&checkout=2023-02-14&group_adults=2&req_adults=2&no_rooms=1&group_children=0&req_children=0&hpos=20&hapos=495&sr_order=popularity&srpvid=d9d2976b63a500de&srepoch=1670539697&all_sr_blocks=757242501_332673704_3_0_0&highlighted_blocks=757242501_332673704_3_0_0&matching_block_id=757242501_332673704_3_0_0&sr_pri_blocks=757242501_332673704_3_0_0__198090&from=searchresults&map_fdco=1#hotelTmpl\n",
      "497 https://www.booking.com/hotel/us/beautiful-3br-1ba-apartment-in-kips-bay.html?label=gen173nr-1FCAEoggI46AdIM1gEaKQCiAEBmAExuAEHyAEM2AEB6AEB-AECiAIBqAIDuALTr8mcBsACAdICJDQzOTBiZWIxLTcxNDQtNDcwNi05NmU4LTVjNGJkYzE2ZmU1N9gCBeACAQ&sid=39d69ef60db6be4413c20e151e506e68&aid=304142&ucfs=1&arphpl=1&checkin=2023-02-08&checkout=2023-02-14&group_adults=2&req_adults=2&no_rooms=1&group_children=0&req_children=0&hpos=21&hapos=496&sr_order=popularity&srpvid=d9d2976b63a500de&srepoch=1670539697&all_sr_blocks=909597101_362177015_6_0_0&highlighted_blocks=909597101_362177015_6_0_0&matching_block_id=909597101_362177015_6_0_0&sr_pri_blocks=909597101_362177015_6_0_0__450000&from=searchresults&map_fdco=1#hotelTmpl\n",
      "498 https://www.booking.com/hotel/us/cozy-entire-apartment-in-upper-east.html?label=gen173nr-1FCAEoggI46AdIM1gEaKQCiAEBmAExuAEHyAEM2AEB6AEB-AECiAIBqAIDuALTr8mcBsACAdICJDQzOTBiZWIxLTcxNDQtNDcwNi05NmU4LTVjNGJkYzE2ZmU1N9gCBeACAQ&sid=39d69ef60db6be4413c20e151e506e68&aid=304142&ucfs=1&arphpl=1&checkin=2023-02-08&checkout=2023-02-14&group_adults=2&req_adults=2&no_rooms=1&group_children=0&req_children=0&hpos=22&hapos=497&sr_order=popularity&srpvid=d9d2976b63a500de&srepoch=1670539697&all_sr_blocks=800628501_341267695_3_0_0&highlighted_blocks=800628501_341267695_3_0_0&matching_block_id=800628501_341267695_3_0_0&sr_pri_blocks=800628501_341267695_3_0_0__198090&from=searchresults&map_fdco=1#hotelTmpl\n",
      "499 https://www.booking.com/hotel/us/studio-plus-2-bedroom-apartment-in-midtown.html?label=gen173nr-1FCAEoggI46AdIM1gEaKQCiAEBmAExuAEHyAEM2AEB6AEB-AECiAIBqAIDuALTr8mcBsACAdICJDQzOTBiZWIxLTcxNDQtNDcwNi05NmU4LTVjNGJkYzE2ZmU1N9gCBeACAQ&sid=39d69ef60db6be4413c20e151e506e68&aid=304142&ucfs=1&arphpl=1&checkin=2023-02-08&checkout=2023-02-14&group_adults=2&req_adults=2&no_rooms=1&group_children=0&req_children=0&hpos=23&hapos=498&sr_order=popularity&srpvid=d9d2976b63a500de&srepoch=1670539697&all_sr_blocks=611078802_239265861_6_0_0&highlighted_blocks=611078802_239265861_6_0_0&matching_block_id=611078802_239265861_6_0_0&sr_pri_blocks=611078802_239265861_6_0_0__204000&from=searchresults&map_fdco=1#hotelTmpl\n",
      "500 https://www.booking.com/hotel/us/classy-2br-apartment-within-steps-to-time-square.html?label=gen173nr-1FCAEoggI46AdIM1gEaKQCiAEBmAExuAEHyAEM2AEB6AEB-AECiAIBqAIDuALTr8mcBsACAdICJDQzOTBiZWIxLTcxNDQtNDcwNi05NmU4LTVjNGJkYzE2ZmU1N9gCBeACAQ&sid=39d69ef60db6be4413c20e151e506e68&aid=304142&ucfs=1&arphpl=1&checkin=2023-02-08&checkout=2023-02-14&group_adults=2&req_adults=2&no_rooms=1&group_children=0&req_children=0&hpos=24&hapos=499&sr_order=popularity&srpvid=d9d2976b63a500de&srepoch=1670539697&all_sr_blocks=886325002_361567684_0_0_0&highlighted_blocks=886325002_361567684_0_0_0&matching_block_id=886325002_361567684_0_0_0&sr_pri_blocks=886325002_361567684_0_0_0__343980&from=searchresults&map_fdco=1#hotelTmpl\n",
      "501 https://www.booking.com/hotel/us/apartamento-familiar-en-excelente-sector-de-nueva-york.html?label=gen173nr-1FCAEoggI46AdIM1gEaKQCiAEBmAExuAEHyAEM2AEB6AEB-AECiAIBqAIDuALTr8mcBsACAdICJDQzOTBiZWIxLTcxNDQtNDcwNi05NmU4LTVjNGJkYzE2ZmU1N9gCBeACAQ&sid=39d69ef60db6be4413c20e151e506e68&aid=304142&ucfs=1&arphpl=1&checkin=2023-02-08&checkout=2023-02-14&group_adults=2&req_adults=2&no_rooms=1&group_children=0&req_children=0&hpos=25&hapos=500&sr_order=popularity&srpvid=d9d2976b63a500de&srepoch=1670539697&all_sr_blocks=877230901_356712016_4_0_0&highlighted_blocks=877230901_356712016_4_0_0&matching_block_id=877230901_356712016_4_0_0&sr_pri_blocks=877230901_356712016_4_0_0__931500&from=searchresults&map_fdco=1#hotelTmpl\n",
      "502 https://www.booking.com/hotel/us/massive-loft-in-the-heart-of-new-york.html?label=gen173nr-1FCAEoggI46AdIM1gEaKQCiAEBmAExuAEHyAEM2AEB6AEB-AECiAIBqAIDuALTr8mcBsACAdICJDQzOTBiZWIxLTcxNDQtNDcwNi05NmU4LTVjNGJkYzE2ZmU1N9gCBeACAQ&sid=39d69ef60db6be4413c20e151e506e68&aid=304142&ucfs=1&arphpl=1&checkin=2023-02-08&checkout=2023-02-14&group_adults=2&req_adults=2&no_rooms=1&group_children=0&req_children=0&hpos=1&hapos=501&sr_order=popularity&srpvid=d9d2976b63a500de&srepoch=1670539703&all_sr_blocks=774827002_335753581_5_0_0&highlighted_blocks=774827002_335753581_5_0_0&matching_block_id=774827002_335753581_5_0_0&sr_pri_blocks=774827002_335753581_5_0_0__741600&from=searchresults&map_fdco=1#hotelTmpl\n",
      "503 https://www.booking.com/hotel/us/private-room-in-harlem.html?label=gen173nr-1FCAEoggI46AdIM1gEaKQCiAEBmAExuAEHyAEM2AEB6AEB-AECiAIBqAIDuALTr8mcBsACAdICJDQzOTBiZWIxLTcxNDQtNDcwNi05NmU4LTVjNGJkYzE2ZmU1N9gCBeACAQ&sid=39d69ef60db6be4413c20e151e506e68&aid=304142&ucfs=1&arphpl=1&checkin=2023-02-08&checkout=2023-02-14&group_adults=2&req_adults=2&no_rooms=1&group_children=0&req_children=0&hpos=2&hapos=502&sr_order=popularity&srpvid=d9d2976b63a500de&srepoch=1670539703&all_sr_blocks=840999301_350796975_2_0_0&highlighted_blocks=840999301_350796975_2_0_0&matching_block_id=840999301_350796975_2_0_0&sr_pri_blocks=840999301_350796975_2_0_0__86400&from=searchresults&map_fdco=1#hotelTmpl\n",
      "504 https://www.booking.com/hotel/us/wonderful-2br-apartment-in-the-heart-of-nyc.html?label=gen173nr-1FCAEoggI46AdIM1gEaKQCiAEBmAExuAEHyAEM2AEB6AEB-AECiAIBqAIDuALTr8mcBsACAdICJDQzOTBiZWIxLTcxNDQtNDcwNi05NmU4LTVjNGJkYzE2ZmU1N9gCBeACAQ&sid=39d69ef60db6be4413c20e151e506e68&aid=304142&ucfs=1&arphpl=1&checkin=2023-02-08&checkout=2023-02-14&group_adults=2&req_adults=2&no_rooms=1&group_children=0&req_children=0&hpos=3&hapos=503&sr_order=popularity&srpvid=d9d2976b63a500de&srepoch=1670539703&all_sr_blocks=886328002_361567557_0_0_0&highlighted_blocks=886328002_361567557_0_0_0&matching_block_id=886328002_361567557_0_0_0&sr_pri_blocks=886328002_361567557_0_0_0__283932&from=searchresults&map_fdco=1#hotelTmpl\n",
      "505 https://www.booking.com/hotel/us/lovely-2-bedroom-in-brooklyn-sleeps-5-new-york.html?label=gen173nr-1FCAEoggI46AdIM1gEaKQCiAEBmAExuAEHyAEM2AEB6AEB-AECiAIBqAIDuALTr8mcBsACAdICJDQzOTBiZWIxLTcxNDQtNDcwNi05NmU4LTVjNGJkYzE2ZmU1N9gCBeACAQ&sid=39d69ef60db6be4413c20e151e506e68&aid=304142&ucfs=1&arphpl=1&checkin=2023-02-08&checkout=2023-02-14&group_adults=2&req_adults=2&no_rooms=1&group_children=0&req_children=0&hpos=4&hapos=504&sr_order=popularity&srpvid=d9d2976b63a500de&srepoch=1670539703&all_sr_blocks=847813202_351878152_2_0_0&highlighted_blocks=847813202_351878152_2_0_0&matching_block_id=847813202_351878152_2_0_0&sr_pri_blocks=847813202_351878152_2_0_0__283752&from=searchresults&map_fdco=1#hotelTmpl\n"
     ]
    },
    {
     "name": "stdout",
     "output_type": "stream",
     "text": [
      "506 https://www.booking.com/hotel/us/pink-paradise-pavilion-nyc-most-insta-worthy-spot.html?label=gen173nr-1FCAEoggI46AdIM1gEaKQCiAEBmAExuAEHyAEM2AEB6AEB-AECiAIBqAIDuALTr8mcBsACAdICJDQzOTBiZWIxLTcxNDQtNDcwNi05NmU4LTVjNGJkYzE2ZmU1N9gCBeACAQ&sid=39d69ef60db6be4413c20e151e506e68&aid=304142&ucfs=1&arphpl=1&checkin=2023-02-08&checkout=2023-02-14&group_adults=2&req_adults=2&no_rooms=1&group_children=0&req_children=0&hpos=5&hapos=505&sr_order=popularity&srpvid=d9d2976b63a500de&srepoch=1670539703&all_sr_blocks=902538801_361579743_2_0_0&highlighted_blocks=902538801_361579743_2_0_0&matching_block_id=902538801_361579743_2_0_0&sr_pri_blocks=902538801_361579743_2_0_0__427680&from=searchresults&map_fdco=1#hotelTmpl\n",
      "507 https://www.booking.com/hotel/us/apartment-new-york-new-york3.html?label=gen173nr-1FCAEoggI46AdIM1gEaKQCiAEBmAExuAEHyAEM2AEB6AEB-AECiAIBqAIDuALTr8mcBsACAdICJDQzOTBiZWIxLTcxNDQtNDcwNi05NmU4LTVjNGJkYzE2ZmU1N9gCBeACAQ&sid=39d69ef60db6be4413c20e151e506e68&aid=304142&ucfs=1&arphpl=1&checkin=2023-02-08&checkout=2023-02-14&group_adults=2&req_adults=2&no_rooms=1&group_children=0&req_children=0&hpos=6&hapos=506&sr_order=popularity&srpvid=d9d2976b63a500de&srepoch=1670539703&all_sr_blocks=122915301_295906809_8_0_0&highlighted_blocks=122915301_295906809_8_0_0&matching_block_id=122915301_295906809_8_0_0&sr_pri_blocks=122915301_295906809_8_0_0__380100&from=searchresults&map_fdco=1#hotelTmpl\n",
      "508 https://www.booking.com/hotel/us/fantastic-2br-no-living-room-upper-east-side.html?label=gen173nr-1FCAEoggI46AdIM1gEaKQCiAEBmAExuAEHyAEM2AEB6AEB-AECiAIBqAIDuALTr8mcBsACAdICJDQzOTBiZWIxLTcxNDQtNDcwNi05NmU4LTVjNGJkYzE2ZmU1N9gCBeACAQ&sid=39d69ef60db6be4413c20e151e506e68&aid=304142&ucfs=1&arphpl=1&checkin=2023-02-08&checkout=2023-02-14&group_adults=2&req_adults=2&no_rooms=1&group_children=0&req_children=0&hpos=7&hapos=507&sr_order=popularity&srpvid=d9d2976b63a500de&srepoch=1670539703&all_sr_blocks=886321902_361567720_0_0_0&highlighted_blocks=886321902_361567720_0_0_0&matching_block_id=886321902_361567720_0_0_0&sr_pri_blocks=886321902_361567720_0_0_0__327294&from=searchresults&map_fdco=1#hotelTmpl\n",
      "509 https://www.booking.com/hotel/us/3-bed-penthouse-with-massive-private-rooftop.html?label=gen173nr-1FCAEoggI46AdIM1gEaKQCiAEBmAExuAEHyAEM2AEB6AEB-AECiAIBqAIDuALTr8mcBsACAdICJDQzOTBiZWIxLTcxNDQtNDcwNi05NmU4LTVjNGJkYzE2ZmU1N9gCBeACAQ&sid=39d69ef60db6be4413c20e151e506e68&aid=304142&ucfs=1&arphpl=1&checkin=2023-02-08&checkout=2023-02-14&group_adults=2&req_adults=2&no_rooms=1&group_children=0&req_children=0&hpos=8&hapos=508&sr_order=popularity&srpvid=d9d2976b63a500de&srepoch=1670539703&all_sr_blocks=925079502_364310569_8_0_0&highlighted_blocks=925079502_364310569_8_0_0&matching_block_id=925079502_364310569_8_0_0&sr_pri_blocks=925079502_364310569_8_0_0__720100&from=searchresults&map_fdco=1#hotelTmpl\n",
      "510 https://www.booking.com/hotel/us/espectacular-casa-vacacional-con-excelente-ubicacion-en-nueva-york.html?label=gen173nr-1FCAEoggI46AdIM1gEaKQCiAEBmAExuAEHyAEM2AEB6AEB-AECiAIBqAIDuALTr8mcBsACAdICJDQzOTBiZWIxLTcxNDQtNDcwNi05NmU4LTVjNGJkYzE2ZmU1N9gCBeACAQ&sid=39d69ef60db6be4413c20e151e506e68&aid=304142&ucfs=1&arphpl=1&checkin=2023-02-08&checkout=2023-02-14&group_adults=2&req_adults=2&no_rooms=1&group_children=0&req_children=0&hpos=9&hapos=509&sr_order=popularity&srpvid=d9d2976b63a500de&srepoch=1670539703&all_sr_blocks=877214001_356711136_12_0_0&highlighted_blocks=877214001_356711136_12_0_0&matching_block_id=877214001_356711136_12_0_0&sr_pri_blocks=877214001_356711136_12_0_0__1459620&from=searchresults&map_fdco=1#hotelTmpl\n",
      "511 https://www.booking.com/hotel/us/comfortable-3br-nyc-apartment.html?label=gen173nr-1FCAEoggI46AdIM1gEaKQCiAEBmAExuAEHyAEM2AEB6AEB-AECiAIBqAIDuALTr8mcBsACAdICJDQzOTBiZWIxLTcxNDQtNDcwNi05NmU4LTVjNGJkYzE2ZmU1N9gCBeACAQ&sid=39d69ef60db6be4413c20e151e506e68&aid=304142&ucfs=1&arphpl=1&checkin=2023-02-08&checkout=2023-02-14&group_adults=2&req_adults=2&no_rooms=1&group_children=0&req_children=0&hpos=10&hapos=510&sr_order=popularity&srpvid=d9d2976b63a500de&srepoch=1670539703&all_sr_blocks=886331202_358200267_6_0_0&highlighted_blocks=886331202_358200267_6_0_0&matching_block_id=886331202_358200267_6_0_0&sr_pri_blocks=886331202_358200267_6_0_0__468000&from=searchresults&map_fdco=1#hotelTmpl\n",
      "512 https://www.booking.com/hotel/us/sky-private-booking.html?label=gen173nr-1FCAEoggI46AdIM1gEaKQCiAEBmAExuAEHyAEM2AEB6AEB-AECiAIBqAIDuALTr8mcBsACAdICJDQzOTBiZWIxLTcxNDQtNDcwNi05NmU4LTVjNGJkYzE2ZmU1N9gCBeACAQ&sid=39d69ef60db6be4413c20e151e506e68&aid=304142&ucfs=1&arphpl=1&checkin=2023-02-08&checkout=2023-02-14&group_adults=2&req_adults=2&no_rooms=1&group_children=0&req_children=0&hpos=11&hapos=511&sr_order=popularity&srpvid=d9d2976b63a500de&srepoch=1670539703&all_sr_blocks=930771001_365099533_3_0_0&highlighted_blocks=930771001_365099533_3_0_0&matching_block_id=930771001_365099533_3_0_0&sr_pri_blocks=930771001_365099533_3_0_0__360000&from=searchresults&map_fdco=1#hotelTmpl\n",
      "513 https://www.booking.com/hotel/us/unbeatable-3br-2ba-with-private-patio.html?label=gen173nr-1FCAEoggI46AdIM1gEaKQCiAEBmAExuAEHyAEM2AEB6AEB-AECiAIBqAIDuALTr8mcBsACAdICJDQzOTBiZWIxLTcxNDQtNDcwNi05NmU4LTVjNGJkYzE2ZmU1N9gCBeACAQ&sid=39d69ef60db6be4413c20e151e506e68&aid=304142&ucfs=1&arphpl=1&checkin=2023-02-08&checkout=2023-02-14&group_adults=2&req_adults=2&no_rooms=1&group_children=0&req_children=0&hpos=12&hapos=512&sr_order=popularity&srpvid=d9d2976b63a500de&srepoch=1670539703&all_sr_blocks=925079202_364310561_8_0_0&highlighted_blocks=925079202_364310561_8_0_0&matching_block_id=925079202_364310561_8_0_0&sr_pri_blocks=925079202_364310561_8_0_0__593900&from=searchresults&map_fdco=1#hotelTmpl\n",
      "514 https://www.booking.com/hotel/us/moderno-apartamento-vacacional-con-ubicacion-estrategica-en-nueva-york.html?label=gen173nr-1FCAEoggI46AdIM1gEaKQCiAEBmAExuAEHyAEM2AEB6AEB-AECiAIBqAIDuALTr8mcBsACAdICJDQzOTBiZWIxLTcxNDQtNDcwNi05NmU4LTVjNGJkYzE2ZmU1N9gCBeACAQ&sid=39d69ef60db6be4413c20e151e506e68&aid=304142&ucfs=1&arphpl=1&checkin=2023-02-08&checkout=2023-02-14&group_adults=2&req_adults=2&no_rooms=1&group_children=0&req_children=0&hpos=13&hapos=513&sr_order=popularity&srpvid=d9d2976b63a500de&srepoch=1670539703&all_sr_blocks=877255901_356713759_7_0_0&highlighted_blocks=877255901_356713759_7_0_0&matching_block_id=877255901_356713759_7_0_0&sr_pri_blocks=877255901_356713759_7_0_0__1427018&from=searchresults&map_fdco=1#hotelTmpl\n",
      "515 https://www.booking.com/hotel/us/lovely-3-bedroom-condo-near-central-park.html?label=gen173nr-1FCAEoggI46AdIM1gEaKQCiAEBmAExuAEHyAEM2AEB6AEB-AECiAIBqAIDuALTr8mcBsACAdICJDQzOTBiZWIxLTcxNDQtNDcwNi05NmU4LTVjNGJkYzE2ZmU1N9gCBeACAQ&sid=39d69ef60db6be4413c20e151e506e68&aid=304142&ucfs=1&arphpl=1&checkin=2023-02-08&checkout=2023-02-14&group_adults=2&req_adults=2&no_rooms=1&group_children=0&req_children=0&hpos=14&hapos=514&sr_order=popularity&srpvid=d9d2976b63a500de&srepoch=1670539703&all_sr_blocks=927257001_364485633_6_0_0&highlighted_blocks=927257001_364485633_6_0_0&matching_block_id=927257001_364485633_6_0_0&sr_pri_blocks=927257001_364485633_6_0_0__840000&from=searchresults&map_fdco=1#hotelTmpl\n",
      "516 https://www.booking.com/hotel/us/decent-amp-cozy-1bd-apartment-near-central-park.html?label=gen173nr-1FCAEoggI46AdIM1gEaKQCiAEBmAExuAEHyAEM2AEB6AEB-AECiAIBqAIDuALTr8mcBsACAdICJDQzOTBiZWIxLTcxNDQtNDcwNi05NmU4LTVjNGJkYzE2ZmU1N9gCBeACAQ&sid=39d69ef60db6be4413c20e151e506e68&aid=304142&ucfs=1&arphpl=1&checkin=2023-02-08&checkout=2023-02-14&group_adults=2&req_adults=2&no_rooms=1&group_children=0&req_children=0&hpos=15&hapos=515&sr_order=popularity&srpvid=d9d2976b63a500de&srepoch=1670539703&all_sr_blocks=931067401_365123968_3_0_0&highlighted_blocks=931067401_365123968_3_0_0&matching_block_id=931067401_365123968_3_0_0&sr_pri_blocks=931067401_365123968_3_0_0__285000&from=searchresults&map_fdco=1#hotelTmpl\n",
      "517 https://www.booking.com/hotel/us/4bedrooms-apartment-d-amp-g-style-in-new-york.html?label=gen173nr-1FCAEoggI46AdIM1gEaKQCiAEBmAExuAEHyAEM2AEB6AEB-AECiAIBqAIDuALTr8mcBsACAdICJDQzOTBiZWIxLTcxNDQtNDcwNi05NmU4LTVjNGJkYzE2ZmU1N9gCBeACAQ&sid=39d69ef60db6be4413c20e151e506e68&aid=304142&ucfs=1&arphpl=1&checkin=2023-02-08&checkout=2023-02-14&group_adults=2&req_adults=2&no_rooms=1&group_children=0&req_children=0&hpos=16&hapos=516&sr_order=popularity&srpvid=d9d2976b63a500de&srepoch=1670539703&all_sr_blocks=918570001_363434243_2_0_0&highlighted_blocks=918570001_363434243_2_0_0&matching_block_id=918570001_363434243_2_0_0&sr_pri_blocks=918570001_363434243_2_0_0__398520&from=searchresults&map_fdco=1#hotelTmpl\n"
     ]
    },
    {
     "name": "stdout",
     "output_type": "stream",
     "text": [
      "518 https://www.booking.com/hotel/us/4bedroom-apartment-dg-style-on-manhattan.html?label=gen173nr-1FCAEoggI46AdIM1gEaKQCiAEBmAExuAEHyAEM2AEB6AEB-AECiAIBqAIDuALTr8mcBsACAdICJDQzOTBiZWIxLTcxNDQtNDcwNi05NmU4LTVjNGJkYzE2ZmU1N9gCBeACAQ&sid=39d69ef60db6be4413c20e151e506e68&aid=304142&ucfs=1&arphpl=1&checkin=2023-02-08&checkout=2023-02-14&group_adults=2&req_adults=2&no_rooms=1&group_children=0&req_children=0&hpos=17&hapos=517&sr_order=popularity&srpvid=d9d2976b63a500de&srepoch=1670539703&all_sr_blocks=918590101_363436170_2_0_0&highlighted_blocks=918590101_363436170_2_0_0&matching_block_id=918590101_363436170_2_0_0&sr_pri_blocks=918590101_363436170_2_0_0__437400&from=searchresults&map_fdco=1#hotelTmpl\n",
      "519 https://www.booking.com/hotel/us/2-bedroom-in-upper-west-side.html?label=gen173nr-1FCAEoggI46AdIM1gEaKQCiAEBmAExuAEHyAEM2AEB6AEB-AECiAIBqAIDuALTr8mcBsACAdICJDQzOTBiZWIxLTcxNDQtNDcwNi05NmU4LTVjNGJkYzE2ZmU1N9gCBeACAQ&sid=39d69ef60db6be4413c20e151e506e68&aid=304142&ucfs=1&arphpl=1&checkin=2023-02-08&checkout=2023-02-14&group_adults=2&req_adults=2&no_rooms=1&group_children=0&req_children=0&hpos=18&hapos=518&sr_order=popularity&srpvid=d9d2976b63a500de&srepoch=1670539703&all_sr_blocks=421386701_295495254_4_0_0&highlighted_blocks=421386701_295495254_4_0_0&matching_block_id=421386701_295495254_4_0_0&sr_pri_blocks=421386701_295495254_4_0_0__537000&from=searchresults&map_fdco=1#hotelTmpl\n",
      "520 https://www.booking.com/hotel/us/lovely-3br-near-central-park.html?label=gen173nr-1FCAEoggI46AdIM1gEaKQCiAEBmAExuAEHyAEM2AEB6AEB-AECiAIBqAIDuALTr8mcBsACAdICJDQzOTBiZWIxLTcxNDQtNDcwNi05NmU4LTVjNGJkYzE2ZmU1N9gCBeACAQ&sid=39d69ef60db6be4413c20e151e506e68&aid=304142&ucfs=1&arphpl=1&checkin=2023-02-08&checkout=2023-02-14&group_adults=2&req_adults=2&no_rooms=1&group_children=0&req_children=0&hpos=19&hapos=519&sr_order=popularity&srpvid=d9d2976b63a500de&srepoch=1670539703&all_sr_blocks=932563901_365346105_7_0_0&highlighted_blocks=932563901_365346105_7_0_0&matching_block_id=932563901_365346105_7_0_0&sr_pri_blocks=932563901_365346105_7_0_0__588000&from=searchresults&map_fdco=1#hotelTmpl\n",
      "522 https://www.booking.com/hotel/us/bowery-grand.html?label=gen173nr-1FCAEoggI46AdIM1gEaKQCiAEBmAExuAEHyAEM2AEB6AEB-AECiAIBqAIDuALTr8mcBsACAdICJDQzOTBiZWIxLTcxNDQtNDcwNi05NmU4LTVjNGJkYzE2ZmU1N9gCBeACAQ&sid=39d69ef60db6be4413c20e151e506e68&aid=304142&ucfs=1&arphpl=1&checkin=2023-02-08&checkout=2023-02-14&group_adults=2&req_adults=2&no_rooms=1&group_children=0&req_children=0&hpos=21&hapos=521&sr_order=popularity&srpvid=d9d2976b63a500de&srepoch=1670539703&all_sr_blocks=43578703_91928700_0_0_0%2C43578703_91928700_0_0_0&highlighted_blocks=43578703_91928700_0_0_0%2C43578703_91928700_0_0_0&matching_block_id=43578703_91928700_0_0_0&sr_pri_blocks=43578703_91928700_0_0_0__22000%2C43578703_91928700_0_0_0__22000&from=searchresults&map_fdco=1#hotelTmpl\n",
      "524 https://www.booking.com/hotel/us/corporate-suites-on-upper-east-side.html?label=gen173nr-1FCAEoggI46AdIM1gEaKQCiAEBmAExuAEHyAEM2AEB6AEB-AECiAIBqAIDuALTr8mcBsACAdICJDQzOTBiZWIxLTcxNDQtNDcwNi05NmU4LTVjNGJkYzE2ZmU1N9gCBeACAQ&sid=39d69ef60db6be4413c20e151e506e68&aid=304142&ucfs=1&arphpl=1&checkin=2023-02-08&checkout=2023-02-14&group_adults=2&req_adults=2&no_rooms=1&group_children=0&req_children=0&hpos=23&hapos=523&sr_order=popularity&srpvid=d9d2976b63a500de&srepoch=1670539703&all_sr_blocks=420510202_127745417_1_0_0%2C420510202_127745417_1_0_0&highlighted_blocks=420510202_127745417_1_0_0%2C420510202_127745417_1_0_0&matching_block_id=420510202_127745417_1_0_0&sr_pri_blocks=420510202_127745417_1_0_0__68640%2C420510202_127745417_1_0_0__68640&from=searchresults&map_fdco=1#hotelTmpl\n",
      "526 https://www.booking.com/hotel/us/two-private-rooms-in-a-family-apartment.html?label=gen173nr-1FCAEoggI46AdIM1gEaKQCiAEBmAExuAEHyAEM2AEB6AEB-AECiAIBqAIDuALTr8mcBsACAdICJDQzOTBiZWIxLTcxNDQtNDcwNi05NmU4LTVjNGJkYzE2ZmU1N9gCBeACAQ&sid=39d69ef60db6be4413c20e151e506e68&aid=304142&ucfs=1&arphpl=1&checkin=2023-02-08&checkout=2023-02-14&group_adults=2&req_adults=2&no_rooms=1&group_children=0&req_children=0&hpos=25&hapos=525&sr_order=popularity&srpvid=d9d2976b63a500de&srepoch=1670539703&all_sr_blocks=533236705_335445745_1_0_0%2C533236701_335445745_1_0_0&highlighted_blocks=533236705_335445745_1_0_0%2C533236701_335445745_1_0_0&matching_block_id=533236705_335445745_1_0_0&sr_pri_blocks=533236705_335445745_1_0_0__40800%2C533236701_335445745_1_0_0__43800&from=searchresults&map_fdco=1#hotelTmpl\n"
     ]
    }
   ],
   "source": [
    "all_properties = []\n",
    "c = 0\n",
    "for link in all_detail_links:\n",
    "    browser.get(link)\n",
    "    c += 1\n",
    "    try:\n",
    "        soup = BeautifulSoup(browser.page_source,'html.parser')\n",
    "        hotel_label = soup.find('h2',class_ = 'pp-header__title').text\n",
    "        location = soup.find('span',class_ = 'hp_address_subtitle').text\n",
    "        total_images = soup.find('span', class_=\"bh-photo-grid-thumb-more\").text\n",
    "        rating_block = soup.find(\"div\", {\"data-testid\" : \"review-score-right-component\"})\n",
    "        rating_score = rating_block.findChild().text\n",
    "        sub_block = rating_block.findChildren()[1]\n",
    "        rating_label = sub_block.findChild().text\n",
    "        total_reviews = sub_block.findChildren()[1].text\n",
    "        best_facility = soup.find('p',class_ = 'best-review-score-label').text\n",
    "        best_review_score_badge = soup.find('span',class_='review-score-badge').text\n",
    "        deatil = soup.find('div',class_ = 'hp_desc_main_content').text\n",
    "        couple_review = soup.find('p',class_ = 'hp-desc-review-highlight').text\n",
    "        important_facility = soup.find('div',class_ = 'hp_desc_important_facilities').text\n",
    "        price = soup.find('span',class_ = 'prco-valign-middle-helper').text\n",
    "    except:\n",
    "        print(c,link)\n",
    "        continue\n",
    "    data = dict(hotel_label=hotel_label,\n",
    "                location=location,\n",
    "                total_images=total_images,\n",
    "                rating_score=rating_score,\n",
    "                rating_label=rating_label,\n",
    "                total_reviews=total_reviews,\n",
    "                best_facility=best_facility,\n",
    "                best_review_score_badge=best_review_score_badge,\n",
    "                deatil=deatil,\n",
    "                couple_review=couple_review,\n",
    "                important_facility=important_facility,\n",
    "                price=price,\n",
    "               source=str(soup))\n",
    "    save_file(data, c)\n",
    "    time.sleep(random.randint(3,5))"
   ]
  },
  {
   "cell_type": "code",
   "execution_count": 3,
   "id": "88f50908",
   "metadata": {},
   "outputs": [],
   "source": [
    "import os"
   ]
  },
  {
   "cell_type": "code",
   "execution_count": 4,
   "id": "b5d2b55e",
   "metadata": {},
   "outputs": [],
   "source": [
    "files = os.listdir('scraped_hotels/')"
   ]
  },
  {
   "cell_type": "code",
   "execution_count": 5,
   "id": "23e70f6a",
   "metadata": {},
   "outputs": [],
   "source": [
    "def load_file(filename):\n",
    "    with open(filename) as f:\n",
    "        data = json.loads(f.read())\n",
    "    return data"
   ]
  },
  {
   "cell_type": "code",
   "execution_count": 6,
   "id": "bd12082f",
   "metadata": {},
   "outputs": [],
   "source": [
    "hotels = [load_file('scraped_hotels/' + file) for file in files]"
   ]
  },
  {
   "cell_type": "code",
   "execution_count": 8,
   "id": "ed0db4fd",
   "metadata": {},
   "outputs": [],
   "source": [
    "df = pd.DataFrame(hotels)"
   ]
  },
  {
   "cell_type": "code",
   "execution_count": 10,
   "id": "c2631061",
   "metadata": {},
   "outputs": [],
   "source": [
    "df.drop('source', axis=1, inplace=True)"
   ]
  },
  {
   "cell_type": "code",
   "execution_count": 11,
   "id": "859dfc07",
   "metadata": {},
   "outputs": [
    {
     "data": {
      "text/html": [
       "<div>\n",
       "<style scoped>\n",
       "    .dataframe tbody tr th:only-of-type {\n",
       "        vertical-align: middle;\n",
       "    }\n",
       "\n",
       "    .dataframe tbody tr th {\n",
       "        vertical-align: top;\n",
       "    }\n",
       "\n",
       "    .dataframe thead th {\n",
       "        text-align: right;\n",
       "    }\n",
       "</style>\n",
       "<table border=\"1\" class=\"dataframe\">\n",
       "  <thead>\n",
       "    <tr style=\"text-align: right;\">\n",
       "      <th></th>\n",
       "      <th>hotel_label</th>\n",
       "      <th>location</th>\n",
       "      <th>total_images</th>\n",
       "      <th>rating_score</th>\n",
       "      <th>rating_label</th>\n",
       "      <th>total_reviews</th>\n",
       "      <th>best_facility</th>\n",
       "      <th>best_review_score_badge</th>\n",
       "      <th>deatil</th>\n",
       "      <th>couple_review</th>\n",
       "      <th>important_facility</th>\n",
       "      <th>price</th>\n",
       "    </tr>\n",
       "  </thead>\n",
       "  <tbody>\n",
       "    <tr>\n",
       "      <th>0</th>\n",
       "      <td>Redford Hotel</td>\n",
       "      <td>\\n136 Ludlow Street, Lower East Side, New York...</td>\n",
       "      <td>\\n\\n\\n+27 photos\\n\\n\\n</td>\n",
       "      <td>6.9</td>\n",
       "      <td>Pleasant</td>\n",
       "      <td>351 reviews</td>\n",
       "      <td>\\nGreat location!\\n</td>\n",
       "      <td>\\n8.5\\n</td>\n",
       "      <td>\\n\\n\\n\\n\\n\\nYou're eligible for a Genius disco...</td>\n",
       "      <td>\\nCouples in particular like the location – th...</td>\n",
       "      <td>\\n\\nMost popular amenities\\n\\n\\n\\nNon-smoking ...</td>\n",
       "      <td>\\n$841\\n</td>\n",
       "    </tr>\n",
       "    <tr>\n",
       "      <th>1</th>\n",
       "      <td>Aloft Manhattan Downtown - Financial District</td>\n",
       "      <td>\\n49-53 Ann Street, Wall Street - Financial Di...</td>\n",
       "      <td>\\n\\n\\n+29 photos\\n\\n\\n</td>\n",
       "      <td>7.5</td>\n",
       "      <td>Good</td>\n",
       "      <td>1,070 reviews</td>\n",
       "      <td>\\nGreat location!\\n</td>\n",
       "      <td>\\n8.5\\n</td>\n",
       "      <td>\\n\\n\\n\\n\\n\\nLocated in the Financial District,...</td>\n",
       "      <td>\\nCouples in particular like the location – th...</td>\n",
       "      <td>\\n\\nMost popular amenities\\n\\n\\n\\nNon-smoking ...</td>\n",
       "      <td>\\n$819\\n</td>\n",
       "    </tr>\n",
       "    <tr>\n",
       "      <th>2</th>\n",
       "      <td>The Peninsula New York</td>\n",
       "      <td>\\n700 Fifth Avenue at 55th Street, New York, N...</td>\n",
       "      <td>\\n\\n\\n+57 photos\\n\\n\\n</td>\n",
       "      <td>8.8</td>\n",
       "      <td>Excellent</td>\n",
       "      <td>599 reviews</td>\n",
       "      <td>\\nExcellent location!\\n</td>\n",
       "      <td>\\n9.7\\n</td>\n",
       "      <td>\\n\\n\\n\\nStay in the heart of New York\\n\\n–\\n\\n...</td>\n",
       "      <td>\\nCouples in particular like the location – th...</td>\n",
       "      <td>\\n\\nMost popular amenities\\n\\n\\n\\n1 swimming p...</td>\n",
       "      <td>\\n$4,056\\n</td>\n",
       "    </tr>\n",
       "    <tr>\n",
       "      <th>3</th>\n",
       "      <td>Fully Furnished Entire Floor Apartment in Hist...</td>\n",
       "      <td>\\n517 Manhattan Avenue, apartment #1, Harlem, ...</td>\n",
       "      <td>\\n\\n\\n+17 photos\\n\\n\\n</td>\n",
       "      <td>9.1</td>\n",
       "      <td>Wonderful</td>\n",
       "      <td>43 reviews</td>\n",
       "      <td>\\nFree WiFi\\n</td>\n",
       "      <td>\\n10\\n</td>\n",
       "      <td>\\n\\n\\n\\n\\n\\nYou're eligible for a Genius disco...</td>\n",
       "      <td>\\nCouples in particular like the location – th...</td>\n",
       "      <td>\\n\\nMost popular amenities\\n\\n\\n\\nFree WiFi\\n\\...</td>\n",
       "      <td>\\n$900\\n</td>\n",
       "    </tr>\n",
       "    <tr>\n",
       "      <th>4</th>\n",
       "      <td>The Bernic Hotel New York City,Tapestry Collec...</td>\n",
       "      <td>\\n145 East 47th Street, Midtown East, New York...</td>\n",
       "      <td>\\n\\n\\n+49 photos\\n\\n\\n</td>\n",
       "      <td>8.2</td>\n",
       "      <td>Very Good</td>\n",
       "      <td>1,205 reviews</td>\n",
       "      <td>\\nStaff\\n</td>\n",
       "      <td>\\n8.8\\n</td>\n",
       "      <td>\\n\\n\\n\\nStay in the heart of New York\\n\\n–\\n\\n...</td>\n",
       "      <td>\\nCouples in particular like the location – th...</td>\n",
       "      <td>\\n\\nMost popular amenities\\n\\n\\n\\nNon-smoking ...</td>\n",
       "      <td>\\n$1,044\\n</td>\n",
       "    </tr>\n",
       "    <tr>\n",
       "      <th>...</th>\n",
       "      <td>...</td>\n",
       "      <td>...</td>\n",
       "      <td>...</td>\n",
       "      <td>...</td>\n",
       "      <td>...</td>\n",
       "      <td>...</td>\n",
       "      <td>...</td>\n",
       "      <td>...</td>\n",
       "      <td>...</td>\n",
       "      <td>...</td>\n",
       "      <td>...</td>\n",
       "      <td>...</td>\n",
       "    </tr>\n",
       "    <tr>\n",
       "      <th>395</th>\n",
       "      <td>YOTEL New York Times Square</td>\n",
       "      <td>\\n570 10th Avenue, Hell's Kitchen, New York, N...</td>\n",
       "      <td>\\n\\n\\n+45 photos\\n\\n\\n</td>\n",
       "      <td>7.2</td>\n",
       "      <td>Good</td>\n",
       "      <td>3,702 reviews</td>\n",
       "      <td>\\nGreat location!\\n</td>\n",
       "      <td>\\n8.6\\n</td>\n",
       "      <td>\\n\\n\\n\\nStay in the heart of New York\\n\\n–\\n\\n...</td>\n",
       "      <td>\\nCouples in particular like the location – th...</td>\n",
       "      <td>\\n\\nMost popular amenities\\n\\n\\n\\nNon-smoking ...</td>\n",
       "      <td>\\n$843\\n</td>\n",
       "    </tr>\n",
       "    <tr>\n",
       "      <th>396</th>\n",
       "      <td>The Westin New York Grand Central</td>\n",
       "      <td>\\n212 East 42nd Street, Murray Hill, New York,...</td>\n",
       "      <td>\\n\\n\\n+48 photos\\n\\n\\n</td>\n",
       "      <td>8.0</td>\n",
       "      <td>Very Good</td>\n",
       "      <td>507 reviews</td>\n",
       "      <td>\\nExcellent location!\\n</td>\n",
       "      <td>\\n9.2\\n</td>\n",
       "      <td>\\n\\n\\n\\nStay in the heart of New York\\n\\n–\\n\\n...</td>\n",
       "      <td>\\nCouples in particular like the location – th...</td>\n",
       "      <td>\\n\\nMost popular amenities\\n\\n\\n\\nNon-smoking ...</td>\n",
       "      <td>\\n$1,284\\n</td>\n",
       "    </tr>\n",
       "    <tr>\n",
       "      <th>397</th>\n",
       "      <td>Moxy NYC Downtown</td>\n",
       "      <td>\\n26 Ann Street, Wall Street - Financial Distr...</td>\n",
       "      <td>\\n\\n\\n+53 photos\\n\\n\\n</td>\n",
       "      <td>8.4</td>\n",
       "      <td>Very Good</td>\n",
       "      <td>598 reviews</td>\n",
       "      <td>\\nExcellent location!\\n</td>\n",
       "      <td>\\n9.0\\n</td>\n",
       "      <td>\\n\\n\\n\\n\\n\\nLocated in the heart of New York’s...</td>\n",
       "      <td>\\nCouples in particular like the location – th...</td>\n",
       "      <td>\\n\\nMost popular amenities\\n\\n\\n\\nNon-smoking ...</td>\n",
       "      <td>\\n$1,004\\n</td>\n",
       "    </tr>\n",
       "    <tr>\n",
       "      <th>398</th>\n",
       "      <td>Executive Hotel Le Soleil New York</td>\n",
       "      <td>\\n38 West 36th Street, New York, NY 10018, Uni...</td>\n",
       "      <td>\\n\\n\\n+47 photos\\n\\n\\n</td>\n",
       "      <td>8.2</td>\n",
       "      <td>Very Good</td>\n",
       "      <td>2,368 reviews</td>\n",
       "      <td>\\nExcellent location!\\n</td>\n",
       "      <td>\\n9.3\\n</td>\n",
       "      <td>\\n\\n\\n\\n\\n\\nYou're eligible for a Genius disco...</td>\n",
       "      <td>\\nCouples in particular like the location – th...</td>\n",
       "      <td>\\n\\nMost popular amenities\\n\\n\\n\\nNon-smoking ...</td>\n",
       "      <td>\\n$1,414\\n</td>\n",
       "    </tr>\n",
       "    <tr>\n",
       "      <th>399</th>\n",
       "      <td>Archer Hotel New York</td>\n",
       "      <td>\\n45 West 38th Street, New York, NY 10018, Uni...</td>\n",
       "      <td>\\n\\n\\n+54 photos\\n\\n\\n</td>\n",
       "      <td>8.8</td>\n",
       "      <td>Excellent</td>\n",
       "      <td>748 reviews</td>\n",
       "      <td>\\nExcellent location!\\n</td>\n",
       "      <td>\\n9.5\\n</td>\n",
       "      <td>\\n\\n\\n\\nStay in the heart of New York\\n\\n–\\n\\n...</td>\n",
       "      <td>\\nCouples in particular like the location – th...</td>\n",
       "      <td>\\n\\nMost popular amenities\\n\\n\\n\\nNon-smoking ...</td>\n",
       "      <td>\\n$1,462\\n</td>\n",
       "    </tr>\n",
       "  </tbody>\n",
       "</table>\n",
       "<p>400 rows × 12 columns</p>\n",
       "</div>"
      ],
      "text/plain": [
       "                                           hotel_label  \\\n",
       "0                                        Redford Hotel   \n",
       "1        Aloft Manhattan Downtown - Financial District   \n",
       "2                               The Peninsula New York   \n",
       "3    Fully Furnished Entire Floor Apartment in Hist...   \n",
       "4    The Bernic Hotel New York City,Tapestry Collec...   \n",
       "..                                                 ...   \n",
       "395                        YOTEL New York Times Square   \n",
       "396                  The Westin New York Grand Central   \n",
       "397                                  Moxy NYC Downtown   \n",
       "398                 Executive Hotel Le Soleil New York   \n",
       "399                              Archer Hotel New York   \n",
       "\n",
       "                                              location  \\\n",
       "0    \\n136 Ludlow Street, Lower East Side, New York...   \n",
       "1    \\n49-53 Ann Street, Wall Street - Financial Di...   \n",
       "2    \\n700 Fifth Avenue at 55th Street, New York, N...   \n",
       "3    \\n517 Manhattan Avenue, apartment #1, Harlem, ...   \n",
       "4    \\n145 East 47th Street, Midtown East, New York...   \n",
       "..                                                 ...   \n",
       "395  \\n570 10th Avenue, Hell's Kitchen, New York, N...   \n",
       "396  \\n212 East 42nd Street, Murray Hill, New York,...   \n",
       "397  \\n26 Ann Street, Wall Street - Financial Distr...   \n",
       "398  \\n38 West 36th Street, New York, NY 10018, Uni...   \n",
       "399  \\n45 West 38th Street, New York, NY 10018, Uni...   \n",
       "\n",
       "               total_images rating_score rating_label  total_reviews  \\\n",
       "0    \\n\\n\\n+27 photos\\n\\n\\n          6.9    Pleasant     351 reviews   \n",
       "1    \\n\\n\\n+29 photos\\n\\n\\n          7.5        Good   1,070 reviews   \n",
       "2    \\n\\n\\n+57 photos\\n\\n\\n          8.8   Excellent     599 reviews   \n",
       "3    \\n\\n\\n+17 photos\\n\\n\\n          9.1   Wonderful      43 reviews   \n",
       "4    \\n\\n\\n+49 photos\\n\\n\\n          8.2   Very Good   1,205 reviews   \n",
       "..                      ...          ...          ...            ...   \n",
       "395  \\n\\n\\n+45 photos\\n\\n\\n          7.2        Good   3,702 reviews   \n",
       "396  \\n\\n\\n+48 photos\\n\\n\\n          8.0   Very Good     507 reviews   \n",
       "397  \\n\\n\\n+53 photos\\n\\n\\n          8.4   Very Good     598 reviews   \n",
       "398  \\n\\n\\n+47 photos\\n\\n\\n          8.2   Very Good   2,368 reviews   \n",
       "399  \\n\\n\\n+54 photos\\n\\n\\n          8.8   Excellent     748 reviews   \n",
       "\n",
       "               best_facility best_review_score_badge  \\\n",
       "0        \\nGreat location!\\n                 \\n8.5\\n   \n",
       "1        \\nGreat location!\\n                 \\n8.5\\n   \n",
       "2    \\nExcellent location!\\n                 \\n9.7\\n   \n",
       "3              \\nFree WiFi\\n                  \\n10\\n   \n",
       "4                  \\nStaff\\n                 \\n8.8\\n   \n",
       "..                       ...                     ...   \n",
       "395      \\nGreat location!\\n                 \\n8.6\\n   \n",
       "396  \\nExcellent location!\\n                 \\n9.2\\n   \n",
       "397  \\nExcellent location!\\n                 \\n9.0\\n   \n",
       "398  \\nExcellent location!\\n                 \\n9.3\\n   \n",
       "399  \\nExcellent location!\\n                 \\n9.5\\n   \n",
       "\n",
       "                                                deatil  \\\n",
       "0    \\n\\n\\n\\n\\n\\nYou're eligible for a Genius disco...   \n",
       "1    \\n\\n\\n\\n\\n\\nLocated in the Financial District,...   \n",
       "2    \\n\\n\\n\\nStay in the heart of New York\\n\\n–\\n\\n...   \n",
       "3    \\n\\n\\n\\n\\n\\nYou're eligible for a Genius disco...   \n",
       "4    \\n\\n\\n\\nStay in the heart of New York\\n\\n–\\n\\n...   \n",
       "..                                                 ...   \n",
       "395  \\n\\n\\n\\nStay in the heart of New York\\n\\n–\\n\\n...   \n",
       "396  \\n\\n\\n\\nStay in the heart of New York\\n\\n–\\n\\n...   \n",
       "397  \\n\\n\\n\\n\\n\\nLocated in the heart of New York’s...   \n",
       "398  \\n\\n\\n\\n\\n\\nYou're eligible for a Genius disco...   \n",
       "399  \\n\\n\\n\\nStay in the heart of New York\\n\\n–\\n\\n...   \n",
       "\n",
       "                                         couple_review  \\\n",
       "0    \\nCouples in particular like the location – th...   \n",
       "1    \\nCouples in particular like the location – th...   \n",
       "2    \\nCouples in particular like the location – th...   \n",
       "3    \\nCouples in particular like the location – th...   \n",
       "4    \\nCouples in particular like the location – th...   \n",
       "..                                                 ...   \n",
       "395  \\nCouples in particular like the location – th...   \n",
       "396  \\nCouples in particular like the location – th...   \n",
       "397  \\nCouples in particular like the location – th...   \n",
       "398  \\nCouples in particular like the location – th...   \n",
       "399  \\nCouples in particular like the location – th...   \n",
       "\n",
       "                                    important_facility       price  \n",
       "0    \\n\\nMost popular amenities\\n\\n\\n\\nNon-smoking ...    \\n$841\\n  \n",
       "1    \\n\\nMost popular amenities\\n\\n\\n\\nNon-smoking ...    \\n$819\\n  \n",
       "2    \\n\\nMost popular amenities\\n\\n\\n\\n1 swimming p...  \\n$4,056\\n  \n",
       "3    \\n\\nMost popular amenities\\n\\n\\n\\nFree WiFi\\n\\...    \\n$900\\n  \n",
       "4    \\n\\nMost popular amenities\\n\\n\\n\\nNon-smoking ...  \\n$1,044\\n  \n",
       "..                                                 ...         ...  \n",
       "395  \\n\\nMost popular amenities\\n\\n\\n\\nNon-smoking ...    \\n$843\\n  \n",
       "396  \\n\\nMost popular amenities\\n\\n\\n\\nNon-smoking ...  \\n$1,284\\n  \n",
       "397  \\n\\nMost popular amenities\\n\\n\\n\\nNon-smoking ...  \\n$1,004\\n  \n",
       "398  \\n\\nMost popular amenities\\n\\n\\n\\nNon-smoking ...  \\n$1,414\\n  \n",
       "399  \\n\\nMost popular amenities\\n\\n\\n\\nNon-smoking ...  \\n$1,462\\n  \n",
       "\n",
       "[400 rows x 12 columns]"
      ]
     },
     "execution_count": 11,
     "metadata": {},
     "output_type": "execute_result"
    }
   ],
   "source": [
    "df"
   ]
  },
  {
   "cell_type": "markdown",
   "id": "40014862",
   "metadata": {},
   "source": [
    "# need to put the clean code here like remove the \\n from both side and all then run last one for getting the data into csv"
   ]
  },
  {
   "cell_type": "code",
   "execution_count": null,
   "id": "623874b5",
   "metadata": {},
   "outputs": [],
   "source": [
    "df.to_csv('scraped_hotels.csv')"
   ]
  }
 ],
 "metadata": {
  "kernelspec": {
   "display_name": "Python 3 (ipykernel)",
   "language": "python",
   "name": "python3"
  },
  "language_info": {
   "codemirror_mode": {
    "name": "ipython",
    "version": 3
   },
   "file_extension": ".py",
   "mimetype": "text/x-python",
   "name": "python",
   "nbconvert_exporter": "python",
   "pygments_lexer": "ipython3",
   "version": "3.7.9"
  },
  "vscode": {
   "interpreter": {
    "hash": "f9ea14177cf1887d905bcc4c1741a4f85872cff7a55682a2e2830df8b8b1f9cd"
   }
  }
 },
 "nbformat": 4,
 "nbformat_minor": 5
}

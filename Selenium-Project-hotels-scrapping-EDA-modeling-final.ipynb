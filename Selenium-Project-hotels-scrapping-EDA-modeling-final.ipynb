{
 "cells": [
  {
   "cell_type": "code",
   "execution_count": 38,
   "id": "3dfaf086",
   "metadata": {},
   "outputs": [],
   "source": [
    "# url = 'https://www.booking.com/searchresults.en-us.html?ss={}&ssne={}&ssne_untouched={}&label=gen173nr-1FCAEoggI46AdIM1gEaKcCiAEBmAExuAEHyAEM2AEB6AEB-AECiAIBqAIDuALAzp6cBsACAdICJDFhMjc3YWQ4LTY3ZjktNDNhNy05NTI0LTUxMWY3NWQ2ODFmNdgCBeACAQ&sid=2126271f814d7c3f7af3ef0e5ea6d865&aid=304142&lang=en-us&sb=1&src_elem=sb&src=index&dest_id=2469&dest_type=region&checkin={}&checkout={}&group_adults=2&no_rooms=1&group_children=0&sb_travel_purpose=leisure'"
   ]
  },
  {
   "cell_type": "code",
   "execution_count": 39,
   "id": "96e51d89",
   "metadata": {},
   "outputs": [],
   "source": [
    "import pandas as pd\n",
    "import requests\n",
    "import re\n",
    "from bs4 import BeautifulSoup\n",
    "import selenium\n",
    "from selenium.webdriver.common.by import By\n",
    "import random"
   ]
  },
  {
   "cell_type": "code",
   "execution_count": 40,
   "id": "8fa25c55",
   "metadata": {},
   "outputs": [],
   "source": [
    "from selenium.webdriver.common.keys import Keys"
   ]
  },
  {
   "cell_type": "code",
   "execution_count": 41,
   "id": "f8dd7bd3",
   "metadata": {},
   "outputs": [],
   "source": [
    "from selenium.webdriver import Chrome"
   ]
  },
  {
   "cell_type": "code",
   "execution_count": 42,
   "id": "d8aebe52",
   "metadata": {},
   "outputs": [],
   "source": [
    "path = 'C:\\\\BrowersDriver\\\\chromedriver.exe'"
   ]
  },
  {
   "cell_type": "code",
   "execution_count": 43,
   "id": "e96a0126",
   "metadata": {},
   "outputs": [
    {
     "name": "stderr",
     "output_type": "stream",
     "text": [
      "C:\\Users\\mihir\\AppData\\Local\\Temp\\ipykernel_5240\\2444750185.py:1: DeprecationWarning: executable_path has been deprecated, please pass in a Service object\n",
      "  browser = Chrome(path)\n"
     ]
    }
   ],
   "source": [
    "browser = Chrome(path)"
   ]
  },
  {
   "cell_type": "code",
   "execution_count": 44,
   "id": "b6826292",
   "metadata": {},
   "outputs": [],
   "source": [
    "url = \"https://www.booking.com\""
   ]
  },
  {
   "cell_type": "code",
   "execution_count": 45,
   "id": "d68a98f8",
   "metadata": {},
   "outputs": [],
   "source": [
    "browser.get(url)"
   ]
  },
  {
   "cell_type": "code",
   "execution_count": 46,
   "id": "3be35872",
   "metadata": {},
   "outputs": [],
   "source": [
    "state_name=browser.find_element(By.NAME, \"ss\")"
   ]
  },
  {
   "cell_type": "code",
   "execution_count": 47,
   "id": "83923aae",
   "metadata": {},
   "outputs": [],
   "source": [
    "state_name.send_keys('Boston')"
   ]
  },
  {
   "cell_type": "code",
   "execution_count": 48,
   "id": "170ff940",
   "metadata": {},
   "outputs": [],
   "source": [
    "dates = browser.find_element(By.XPATH, \"//div[@class='xp__dates-inner']\")"
   ]
  },
  {
   "cell_type": "code",
   "execution_count": 49,
   "id": "6d2b7907",
   "metadata": {},
   "outputs": [],
   "source": [
    "dates.click()"
   ]
  },
  {
   "cell_type": "code",
   "execution_count": 50,
   "id": "3f4c3cd7",
   "metadata": {},
   "outputs": [],
   "source": [
    "Month_next = browser.find_element(By.XPATH,\"//div[@data-bui-ref='calendar-next']\")"
   ]
  },
  {
   "cell_type": "code",
   "execution_count": 51,
   "id": "033668ea",
   "metadata": {},
   "outputs": [],
   "source": [
    "Month_next.click()"
   ]
  },
  {
   "cell_type": "code",
   "execution_count": 52,
   "id": "f637fa5b",
   "metadata": {},
   "outputs": [],
   "source": [
    "check_in = browser.find_element(By.XPATH,\"//td[@data-date='2023-02-08']\")"
   ]
  },
  {
   "cell_type": "code",
   "execution_count": 53,
   "id": "0cff23a6",
   "metadata": {},
   "outputs": [],
   "source": [
    "check_out = browser.find_element(By.XPATH,\"//td[@data-date='2023-02-14']\")"
   ]
  },
  {
   "cell_type": "code",
   "execution_count": 54,
   "id": "5d4ddbfa",
   "metadata": {},
   "outputs": [],
   "source": [
    "check_in.click()"
   ]
  },
  {
   "cell_type": "code",
   "execution_count": 55,
   "id": "bce7c35c",
   "metadata": {},
   "outputs": [],
   "source": [
    "check_out.click()"
   ]
  },
  {
   "cell_type": "code",
   "execution_count": 56,
   "id": "714fc2ca",
   "metadata": {},
   "outputs": [],
   "source": [
    "submitbutton = browser.find_element(By.XPATH, \"//button[@type='submit']\")"
   ]
  },
  {
   "cell_type": "code",
   "execution_count": 57,
   "id": "02a0e804",
   "metadata": {},
   "outputs": [],
   "source": [
    "submitbutton.click()"
   ]
  },
  {
   "cell_type": "code",
   "execution_count": 58,
   "id": "6495cc4a",
   "metadata": {},
   "outputs": [],
   "source": [
    "soup = BeautifulSoup(browser.page_source, 'html.parser')"
   ]
  },
  {
   "cell_type": "code",
   "execution_count": 59,
   "id": "85543405",
   "metadata": {},
   "outputs": [],
   "source": [
    "total_pages = int(browser.find_element(By.CSS_SELECTOR, 'div[data-testid=\"pagination\"]  li:last-child').text)\n",
    "# print(f\"Total pages: {total_pages}\")"
   ]
  },
  {
   "cell_type": "code",
   "execution_count": 60,
   "id": "56494b0e",
   "metadata": {},
   "outputs": [],
   "source": [
    "all_detail_links = []"
   ]
  },
  {
   "cell_type": "code",
   "execution_count": 61,
   "id": "b38993fe",
   "metadata": {},
   "outputs": [],
   "source": [
    "def get_links():\n",
    "    soup = BeautifulSoup(browser.page_source, 'html.parser')\n",
    "    all_properties = soup.findAll(\"div\", {\"data-testid\" : \"property-card\"})\n",
    "    for property in all_properties:\n",
    "        h3 = property.find('h3')\n",
    "        link = h3.find('a')['href']\n",
    "        all_detail_links.append(link)"
   ]
  },
  {
   "cell_type": "code",
   "execution_count": 62,
   "id": "cd4577a2",
   "metadata": {},
   "outputs": [],
   "source": [
    "import time"
   ]
  },
  {
   "cell_type": "code",
   "execution_count": 63,
   "id": "28443f48",
   "metadata": {},
   "outputs": [],
   "source": [
    "for current_page in range(1,total_pages+1):\n",
    "    get_links()\n",
    "    next_page_btn = browser.find_element(By.XPATH, '//button[contains(@aria-label, \"Next page\")]')\n",
    "    next_page_btn.click()\n",
    "    time.sleep(6)"
   ]
  },
  {
   "cell_type": "code",
   "execution_count": 64,
   "id": "0e41be56",
   "metadata": {},
   "outputs": [],
   "source": [
    "import json"
   ]
  },
  {
   "cell_type": "markdown",
   "id": "fced6483",
   "metadata": {},
   "source": [
    "# create the scraped_hotels folder if you can create different different folder for different state name it would be great"
   ]
  },
  {
   "cell_type": "code",
   "execution_count": 65,
   "id": "f6f2acaa",
   "metadata": {},
   "outputs": [],
   "source": [
    "def save_file(data,c):\n",
    "    with open(f'Boston/{c}.json', 'w+') as f:\n",
    "        json.dump(data, f, indent=4)"
   ]
  },
  {
   "cell_type": "code",
   "execution_count": 66,
   "id": "017c86b0",
   "metadata": {
    "scrolled": true
   },
   "outputs": [
    {
     "name": "stdout",
     "output_type": "stream",
     "text": [
      "16 https://www.booking.com/hotel/us/hampton-inn-logan-air.html?label=gen173nr-1FCAEoggI46AdIM1gEaKQCiAEBmAExuAEXyAEM2AEB6AEB-AECiAIBqAIDuAL5mdmcBsACAdICJGRkMWIwZTJlLTUzNDktNGViYy05NGFlLTUyMjNmMmVhY2U5NdgCBeACAQ&sid=4ccd5a937ba87ec62f771a6b54652f31&aid=304142&ucfs=1&arphpl=1&checkin=2023-02-08&checkout=2023-02-14&group_adults=2&req_adults=2&no_rooms=1&group_children=0&req_children=0&hpos=16&hapos=16&sr_order=popularity&srpvid=b8ac97be9c510304&srepoch=1670794495&all_sr_blocks=2870615_344383329_2_1_0&highlighted_blocks=2870615_344383329_2_1_0&matching_block_id=2870615_344383329_2_1_0&sr_pri_blocks=2870615_344383329_2_1_0__91201&from=searchresults&map_fdco=1#hotelTmpl\n",
      "26 https://www.booking.com/hotel/us/chic-spacious-2br-on-washington-st-by-stay-gia.html?label=gen173nr-1FCAEoggI46AdIM1gEaKQCiAEBmAExuAEXyAEM2AEB6AEB-AECiAIBqAIDuAL5mdmcBsACAdICJGRkMWIwZTJlLTUzNDktNGViYy05NGFlLTUyMjNmMmVhY2U5NdgCBeACAQ&sid=4ccd5a937ba87ec62f771a6b54652f31&aid=304142&ucfs=1&arphpl=1&checkin=2023-02-08&checkout=2023-02-14&group_adults=2&req_adults=2&no_rooms=1&group_children=0&req_children=0&hpos=1&hapos=26&sr_order=popularity&srpvid=b8ac97be9c510304&srepoch=1670794502&all_sr_blocks=919715902_364009611_4_0_0&highlighted_blocks=919715902_364009611_4_0_0&matching_block_id=919715902_364009611_4_0_0&sr_pri_blocks=919715902_364009611_4_0_0__118200&tpi_r=2&from=searchresults&map_fdco=1#hotelTmpl\n",
      "38 https://www.booking.com/hotel/us/c-i-boston-massachusettes.html?label=gen173nr-1FCAEoggI46AdIM1gEaKQCiAEBmAExuAEXyAEM2AEB6AEB-AECiAIBqAIDuAL5mdmcBsACAdICJGRkMWIwZTJlLTUzNDktNGViYy05NGFlLTUyMjNmMmVhY2U5NdgCBeACAQ&sid=4ccd5a937ba87ec62f771a6b54652f31&aid=304142&ucfs=1&arphpl=1&checkin=2023-02-08&checkout=2023-02-14&group_adults=2&req_adults=2&no_rooms=1&group_children=0&req_children=0&hpos=13&hapos=38&sr_order=popularity&srpvid=b8ac97be9c510304&srepoch=1670794502&all_sr_blocks=5808308_332279051_2_1_0&highlighted_blocks=5808308_332279051_2_1_0&matching_block_id=5808308_332279051_2_1_0&sr_pri_blocks=5808308_332279051_2_1_0__71352&tpi_r=2&from_sustainable_property_sr=1&from=searchresults&map_fdco=1#hotelTmpl\n",
      "41 https://www.booking.com/hotel/us/holiday-inn-express-boston.html?label=gen173nr-1FCAEoggI46AdIM1gEaKQCiAEBmAExuAEXyAEM2AEB6AEB-AECiAIBqAIDuAL5mdmcBsACAdICJGRkMWIwZTJlLTUzNDktNGViYy05NGFlLTUyMjNmMmVhY2U5NdgCBeACAQ&sid=4ccd5a937ba87ec62f771a6b54652f31&aid=304142&ucfs=1&arphpl=1&checkin=2023-02-08&checkout=2023-02-14&group_adults=2&req_adults=2&no_rooms=1&group_children=0&req_children=0&hpos=16&hapos=41&sr_order=popularity&srpvid=b8ac97be9c510304&srepoch=1670794502&all_sr_blocks=18257401_118822665_2_1_0&highlighted_blocks=18257401_118822665_2_1_0&matching_block_id=18257401_118822665_2_1_0&sr_pri_blocks=18257401_118822665_2_1_0__74800&tpi_r=2&from=searchresults&map_fdco=1#hotelTmpl\n",
      "60 https://www.booking.com/hotel/us/30min-to-downtown-the-cosmopolitan.html?label=gen173nr-1FCAEoggI46AdIM1gEaKQCiAEBmAExuAEXyAEM2AEB6AEB-AECiAIBqAIDuAL5mdmcBsACAdICJGRkMWIwZTJlLTUzNDktNGViYy05NGFlLTUyMjNmMmVhY2U5NdgCBeACAQ&sid=4ccd5a937ba87ec62f771a6b54652f31&aid=304142&ucfs=1&arphpl=1&checkin=2023-02-08&checkout=2023-02-14&group_adults=2&req_adults=2&no_rooms=1&group_children=0&req_children=0&hpos=10&hapos=60&sr_order=popularity&srpvid=b8ac97be9c510304&srepoch=1670794509&all_sr_blocks=427297002_311357333_4_0_0&highlighted_blocks=427297002_311357333_4_0_0&matching_block_id=427297002_311357333_4_0_0&sr_pri_blocks=427297002_311357333_4_0_0__81300&from=searchresults&map_fdco=1#hotelTmpl\n",
      "61 https://www.booking.com/hotel/us/the-farrington-inn.html?label=gen173nr-1FCAEoggI46AdIM1gEaKQCiAEBmAExuAEXyAEM2AEB6AEB-AECiAIBqAIDuAL5mdmcBsACAdICJGRkMWIwZTJlLTUzNDktNGViYy05NGFlLTUyMjNmMmVhY2U5NdgCBeACAQ&sid=4ccd5a937ba87ec62f771a6b54652f31&aid=304142&ucfs=1&arphpl=1&checkin=2023-02-08&checkout=2023-02-14&group_adults=2&req_adults=2&no_rooms=1&group_children=0&req_children=0&hpos=11&hapos=61&sr_order=popularity&srpvid=b8ac97be9c510304&srepoch=1670794509&all_sr_blocks=5647302_351298769_0_0_0&highlighted_blocks=5647302_351298769_0_0_0&matching_block_id=5647302_351298769_0_0_0&sr_pri_blocks=5647302_351298769_0_0_0__47400&from=searchresults&map_fdco=1#hotelTmpl\n",
      "65 https://www.booking.com/hotel/us/twenty-two-inn.html?label=gen173nr-1FCAEoggI46AdIM1gEaKQCiAEBmAExuAEXyAEM2AEB6AEB-AECiAIBqAIDuAL5mdmcBsACAdICJGRkMWIwZTJlLTUzNDktNGViYy05NGFlLTUyMjNmMmVhY2U5NdgCBeACAQ&sid=4ccd5a937ba87ec62f771a6b54652f31&aid=304142&ucfs=1&arphpl=1&checkin=2023-02-08&checkout=2023-02-14&group_adults=2&req_adults=2&no_rooms=1&group_children=0&req_children=0&hpos=15&hapos=65&sr_order=popularity&srpvid=b8ac97be9c510304&srepoch=1670794509&all_sr_blocks=588078102_278478030_0_0_0&highlighted_blocks=588078102_278478030_0_0_0&matching_block_id=588078102_278478030_0_0_0&sr_pri_blocks=588078102_278478030_0_0_0__62400&from=searchresults&map_fdco=1#hotelTmpl\n",
      "72 https://www.booking.com/hotel/us/sonder-the-magnolia.html?label=gen173nr-1FCAEoggI46AdIM1gEaKQCiAEBmAExuAEXyAEM2AEB6AEB-AECiAIBqAIDuAL5mdmcBsACAdICJGRkMWIwZTJlLTUzNDktNGViYy05NGFlLTUyMjNmMmVhY2U5NdgCBeACAQ&sid=4ccd5a937ba87ec62f771a6b54652f31&aid=304142&ucfs=1&arphpl=1&checkin=2023-02-08&checkout=2023-02-14&group_adults=2&req_adults=2&no_rooms=1&group_children=0&req_children=0&hpos=22&hapos=72&sr_order=popularity&srpvid=b8ac97be9c510304&srepoch=1670794509&all_sr_blocks=885482702_358004964_2_0_0&highlighted_blocks=885482702_358004964_2_0_0&matching_block_id=885482702_358004964_2_0_0&sr_pri_blocks=885482702_358004964_2_0_0__108500&from=searchresults&map_fdco=1#hotelTmpl\n",
      "77 https://www.booking.com/hotel/us/studio-ready-4-students-traveling-professionals-310.html?label=gen173nr-1FCAEoggI46AdIM1gEaKQCiAEBmAExuAEXyAEM2AEB6AEB-AECiAIBqAIDuAL5mdmcBsACAdICJGRkMWIwZTJlLTUzNDktNGViYy05NGFlLTUyMjNmMmVhY2U5NdgCBeACAQ&sid=4ccd5a937ba87ec62f771a6b54652f31&aid=304142&ucfs=1&arphpl=1&checkin=2023-02-08&checkout=2023-02-14&group_adults=2&req_adults=2&no_rooms=1&group_children=0&req_children=0&hpos=2&hapos=77&sr_order=popularity&srpvid=b8ac97be9c510304&srepoch=1670794516&all_sr_blocks=695263202_285675561_3_0_0&highlighted_blocks=695263202_285675561_3_0_0&matching_block_id=695263202_285675561_3_0_0&sr_pri_blocks=695263202_285675561_3_0_0__74800&from=searchresults&map_fdco=1#hotelTmpl\n",
      "80 https://www.booking.com/hotel/us/envision-boston-everett-an-ascend-collection-member.html?label=gen173nr-1FCAEoggI46AdIM1gEaKQCiAEBmAExuAEXyAEM2AEB6AEB-AECiAIBqAIDuAL5mdmcBsACAdICJGRkMWIwZTJlLTUzNDktNGViYy05NGFlLTUyMjNmMmVhY2U5NdgCBeACAQ&sid=4ccd5a937ba87ec62f771a6b54652f31&aid=304142&ucfs=1&arphpl=1&checkin=2023-02-08&checkout=2023-02-14&group_adults=2&req_adults=2&no_rooms=1&group_children=0&req_children=0&hpos=5&hapos=80&sr_order=popularity&srpvid=b8ac97be9c510304&srepoch=1670794516&all_sr_blocks=229458203_99798786_2_0_0&highlighted_blocks=229458203_99798786_2_0_0&matching_block_id=229458203_99798786_2_0_0&sr_pri_blocks=229458203_99798786_2_0_0__146891&from=searchresults&map_fdco=1#hotelTmpl\n",
      "83 https://www.booking.com/hotel/us/hampton-inn-crosstown-center.html?label=gen173nr-1FCAEoggI46AdIM1gEaKQCiAEBmAExuAEXyAEM2AEB6AEB-AECiAIBqAIDuAL5mdmcBsACAdICJGRkMWIwZTJlLTUzNDktNGViYy05NGFlLTUyMjNmMmVhY2U5NdgCBeACAQ&sid=4ccd5a937ba87ec62f771a6b54652f31&aid=304142&ucfs=1&arphpl=1&checkin=2023-02-08&checkout=2023-02-14&group_adults=2&req_adults=2&no_rooms=1&group_children=0&req_children=0&hpos=8&hapos=83&sr_order=popularity&srpvid=b8ac97be9c510304&srepoch=1670794516&all_sr_blocks=2870902_95152678_2_1_0&highlighted_blocks=2870902_95152678_2_1_0&matching_block_id=2870902_95152678_2_1_0&sr_pri_blocks=2870902_95152678_2_1_0__72593&from_sustainable_property_sr=1&from=searchresults&map_fdco=1#hotelTmpl\n",
      "86 https://www.booking.com/hotel/us/stylish-2-bedroom-in-south-end.html?label=gen173nr-1FCAEoggI46AdIM1gEaKQCiAEBmAExuAEXyAEM2AEB6AEB-AECiAIBqAIDuAL5mdmcBsACAdICJGRkMWIwZTJlLTUzNDktNGViYy05NGFlLTUyMjNmMmVhY2U5NdgCBeACAQ&sid=4ccd5a937ba87ec62f771a6b54652f31&aid=304142&ucfs=1&arphpl=1&checkin=2023-02-08&checkout=2023-02-14&group_adults=2&req_adults=2&no_rooms=1&group_children=0&req_children=0&hpos=11&hapos=86&sr_order=popularity&srpvid=b8ac97be9c510304&srepoch=1670794516&all_sr_blocks=439383501_362041217_5_0_0&highlighted_blocks=439383501_362041217_5_0_0&matching_block_id=439383501_362041217_5_0_0&sr_pri_blocks=439383501_362041217_5_0_0__121400&from=searchresults&map_fdco=1#hotelTmpl\n"
     ]
    },
    {
     "name": "stdout",
     "output_type": "stream",
     "text": [
      "100 https://www.booking.com/hotel/us/comfy-beacon-hill-studio-great-for-work-travel-7.html?label=gen173nr-1FCAEoggI46AdIM1gEaKQCiAEBmAExuAEXyAEM2AEB6AEB-AECiAIBqAIDuAL5mdmcBsACAdICJGRkMWIwZTJlLTUzNDktNGViYy05NGFlLTUyMjNmMmVhY2U5NdgCBeACAQ&sid=4ccd5a937ba87ec62f771a6b54652f31&aid=304142&ucfs=1&arphpl=1&checkin=2023-02-08&checkout=2023-02-14&group_adults=2&req_adults=2&no_rooms=1&group_children=0&req_children=0&hpos=25&hapos=100&sr_order=popularity&srpvid=b8ac97be9c510304&srepoch=1670794516&all_sr_blocks=489604201_361933709_2_0_0&highlighted_blocks=489604201_361933709_2_0_0&matching_block_id=489604201_361933709_2_0_0&sr_pri_blocks=489604201_361933709_2_0_0__97600&from=searchresults&map_fdco=1#hotelTmpl\n",
      "101 https://www.booking.com/hotel/us/global-luxury-suites-east-boston.html?label=gen173nr-1FCAEoggI46AdIM1gEaKQCiAEBmAExuAEXyAEM2AEB6AEB-AECiAIBqAIDuAL5mdmcBsACAdICJGRkMWIwZTJlLTUzNDktNGViYy05NGFlLTUyMjNmMmVhY2U5NdgCBeACAQ&sid=4ccd5a937ba87ec62f771a6b54652f31&aid=304142&ucfs=1&arphpl=1&checkin=2023-02-08&checkout=2023-02-14&group_adults=2&req_adults=2&no_rooms=1&group_children=0&req_children=0&hpos=1&hapos=101&sr_order=popularity&srpvid=b8ac97be9c510304&srepoch=1670794523&all_sr_blocks=679717603_277241988_3_0_0&highlighted_blocks=679717603_277241988_3_0_0&matching_block_id=679717603_277241988_3_0_0&sr_pri_blocks=679717603_277241988_3_0_0__124780&from=searchresults&map_fdco=1#hotelTmpl\n",
      "104 https://www.booking.com/hotel/us/fati-three-bedroom-apartment-boston.html?label=gen173nr-1FCAEoggI46AdIM1gEaKQCiAEBmAExuAEXyAEM2AEB6AEB-AECiAIBqAIDuAL5mdmcBsACAdICJGRkMWIwZTJlLTUzNDktNGViYy05NGFlLTUyMjNmMmVhY2U5NdgCBeACAQ&sid=4ccd5a937ba87ec62f771a6b54652f31&aid=304142&ucfs=1&arphpl=1&checkin=2023-02-08&checkout=2023-02-14&group_adults=2&req_adults=2&no_rooms=1&group_children=0&req_children=0&hpos=4&hapos=104&sr_order=popularity&srpvid=b8ac97be9c510304&srepoch=1670794523&all_sr_blocks=905412701_361610275_6_0_0&highlighted_blocks=905412701_361610275_6_0_0&matching_block_id=905412701_361610275_6_0_0&sr_pri_blocks=905412701_361610275_6_0_0__276000&from=searchresults&map_fdco=1#hotelTmpl\n",
      "110 https://www.booking.com/hotel/us/cozy-studio-in-downtown-boston-46.html?label=gen173nr-1FCAEoggI46AdIM1gEaKQCiAEBmAExuAEXyAEM2AEB6AEB-AECiAIBqAIDuAL5mdmcBsACAdICJGRkMWIwZTJlLTUzNDktNGViYy05NGFlLTUyMjNmMmVhY2U5NdgCBeACAQ&sid=4ccd5a937ba87ec62f771a6b54652f31&aid=304142&ucfs=1&arphpl=1&checkin=2023-02-08&checkout=2023-02-14&group_adults=2&req_adults=2&no_rooms=1&group_children=0&req_children=0&hpos=10&hapos=110&sr_order=popularity&srpvid=b8ac97be9c510304&srepoch=1670794523&all_sr_blocks=440940501_361933757_2_0_0&highlighted_blocks=440940501_361933757_2_0_0&matching_block_id=440940501_361933757_2_0_0&sr_pri_blocks=440940501_361933757_2_0_0__80600&from=searchresults&map_fdco=1#hotelTmpl\n",
      "112 https://www.booking.com/hotel/us/beautiful-apartment-5-beds-parking-super-clean-boston1.html?label=gen173nr-1FCAEoggI46AdIM1gEaKQCiAEBmAExuAEXyAEM2AEB6AEB-AECiAIBqAIDuAL5mdmcBsACAdICJGRkMWIwZTJlLTUzNDktNGViYy05NGFlLTUyMjNmMmVhY2U5NdgCBeACAQ&sid=4ccd5a937ba87ec62f771a6b54652f31&aid=304142&ucfs=1&arphpl=1&checkin=2023-02-08&checkout=2023-02-14&group_adults=2&req_adults=2&no_rooms=1&group_children=0&req_children=0&hpos=12&hapos=112&sr_order=popularity&srpvid=b8ac97be9c510304&srepoch=1670794523&all_sr_blocks=604867301_335342236_2_0_0&highlighted_blocks=604867301_335342236_2_0_0&matching_block_id=604867301_335342236_2_0_0&sr_pri_blocks=604867301_335342236_2_0_0__81600&from_sustainable_property_sr=1&from=searchresults&map_fdco=1#hotelTmpl\n",
      "113 https://www.booking.com/hotel/us/stylish-downtown-studio-in-the-southend-cave-43.html?label=gen173nr-1FCAEoggI46AdIM1gEaKQCiAEBmAExuAEXyAEM2AEB6AEB-AECiAIBqAIDuAL5mdmcBsACAdICJGRkMWIwZTJlLTUzNDktNGViYy05NGFlLTUyMjNmMmVhY2U5NdgCBeACAQ&sid=4ccd5a937ba87ec62f771a6b54652f31&aid=304142&ucfs=1&arphpl=1&checkin=2023-02-08&checkout=2023-02-14&group_adults=2&req_adults=2&no_rooms=1&group_children=0&req_children=0&hpos=13&hapos=113&sr_order=popularity&srpvid=b8ac97be9c510304&srepoch=1670794523&all_sr_blocks=491518401_361933695_2_0_0&highlighted_blocks=491518401_361933695_2_0_0&matching_block_id=491518401_361933695_2_0_0&sr_pri_blocks=491518401_361933695_2_0_0__64200&from=searchresults&map_fdco=1#hotelTmpl\n",
      "119 https://www.booking.com/hotel/us/quarters-on-dorchester-by-short-term-rentals-boston.html?label=gen173nr-1FCAEoggI46AdIM1gEaKQCiAEBmAExuAEXyAEM2AEB6AEB-AECiAIBqAIDuAL5mdmcBsACAdICJGRkMWIwZTJlLTUzNDktNGViYy05NGFlLTUyMjNmMmVhY2U5NdgCBeACAQ&sid=4ccd5a937ba87ec62f771a6b54652f31&aid=304142&ucfs=1&arphpl=1&checkin=2023-02-08&checkout=2023-02-14&group_adults=2&req_adults=2&no_rooms=1&group_children=0&req_children=0&hpos=19&hapos=119&sr_order=popularity&srpvid=b8ac97be9c510304&srepoch=1670794523&all_sr_blocks=178879412_131595062_0_0_0&highlighted_blocks=178879412_131595062_0_0_0&matching_block_id=178879412_131595062_0_0_0&sr_pri_blocks=178879412_131595062_0_0_0__70641&from=searchresults&map_fdco=1#hotelTmpl\n",
      "120 https://www.booking.com/hotel/us/boston-luxury-suites.html?label=gen173nr-1FCAEoggI46AdIM1gEaKQCiAEBmAExuAEXyAEM2AEB6AEB-AECiAIBqAIDuAL5mdmcBsACAdICJGRkMWIwZTJlLTUzNDktNGViYy05NGFlLTUyMjNmMmVhY2U5NdgCBeACAQ&sid=4ccd5a937ba87ec62f771a6b54652f31&aid=304142&ucfs=1&arphpl=1&checkin=2023-02-08&checkout=2023-02-14&group_adults=2&req_adults=2&no_rooms=1&group_children=0&req_children=0&hpos=20&hapos=120&sr_order=popularity&srpvid=b8ac97be9c510304&srepoch=1670794523&all_sr_blocks=284375505_335409064_2_2_0&highlighted_blocks=284375505_335409064_2_2_0&matching_block_id=284375505_335409064_2_2_0&sr_pri_blocks=284375505_335409064_2_2_0__78000&from=searchresults&map_fdco=1#hotelTmpl\n",
      "122 https://www.booking.com/hotel/us/roslindale-village-unit-1.html?label=gen173nr-1FCAEoggI46AdIM1gEaKQCiAEBmAExuAEXyAEM2AEB6AEB-AECiAIBqAIDuAL5mdmcBsACAdICJGRkMWIwZTJlLTUzNDktNGViYy05NGFlLTUyMjNmMmVhY2U5NdgCBeACAQ&sid=4ccd5a937ba87ec62f771a6b54652f31&aid=304142&ucfs=1&arphpl=1&checkin=2023-02-08&checkout=2023-02-14&group_adults=2&req_adults=2&no_rooms=1&group_children=0&req_children=0&hpos=22&hapos=122&sr_order=popularity&srpvid=b8ac97be9c510304&srepoch=1670794523&all_sr_blocks=802449801_341525926_0_0_0&highlighted_blocks=802449801_341525926_0_0_0&matching_block_id=802449801_341525926_0_0_0&sr_pri_blocks=802449801_341525926_0_0_0__132581&from_sustainable_property_sr=1&from=searchresults&map_fdco=1#hotelTmpl\n",
      "123 https://www.booking.com/hotel/us/large-studio-building-door-knobs-cleaned-daily-boston.html?label=gen173nr-1FCAEoggI46AdIM1gEaKQCiAEBmAExuAEXyAEM2AEB6AEB-AECiAIBqAIDuAL5mdmcBsACAdICJGRkMWIwZTJlLTUzNDktNGViYy05NGFlLTUyMjNmMmVhY2U5NdgCBeACAQ&sid=4ccd5a937ba87ec62f771a6b54652f31&aid=304142&ucfs=1&arphpl=1&checkin=2023-02-08&checkout=2023-02-14&group_adults=2&req_adults=2&no_rooms=1&group_children=0&req_children=0&hpos=23&hapos=123&sr_order=popularity&srpvid=b8ac97be9c510304&srepoch=1670794523&all_sr_blocks=641437901_259374077_2_0_0&highlighted_blocks=641437901_259374077_2_0_0&matching_block_id=641437901_259374077_2_0_0&sr_pri_blocks=641437901_259374077_2_0_0__55600&from=searchresults&map_fdco=1#hotelTmpl\n",
      "124 https://www.booking.com/hotel/us/spacious-apartments-near-ashmont-evonify-stays.html?label=gen173nr-1FCAEoggI46AdIM1gEaKQCiAEBmAExuAEXyAEM2AEB6AEB-AECiAIBqAIDuAL5mdmcBsACAdICJGRkMWIwZTJlLTUzNDktNGViYy05NGFlLTUyMjNmMmVhY2U5NdgCBeACAQ&sid=4ccd5a937ba87ec62f771a6b54652f31&aid=304142&ucfs=1&arphpl=1&checkin=2023-02-08&checkout=2023-02-14&group_adults=2&req_adults=2&no_rooms=1&group_children=0&req_children=0&hpos=24&hapos=124&sr_order=popularity&srpvid=b8ac97be9c510304&srepoch=1670794523&all_sr_blocks=821150201_344840982_2_0_0&highlighted_blocks=821150201_344840982_2_0_0&matching_block_id=821150201_344840982_2_0_0&sr_pri_blocks=821150201_344840982_2_0_0__98400&from=searchresults&map_fdco=1#hotelTmpl\n",
      "127 https://www.booking.com/hotel/us/r-boston-massachusettes.html?label=gen173nr-1FCAEoggI46AdIM1gEaKQCiAEBmAExuAEXyAEM2AEB6AEB-AECiAIBqAIDuAL5mdmcBsACAdICJGRkMWIwZTJlLTUzNDktNGViYy05NGFlLTUyMjNmMmVhY2U5NdgCBeACAQ&sid=4ccd5a937ba87ec62f771a6b54652f31&aid=304142&ucfs=1&arphpl=1&checkin=2023-02-08&checkout=2023-02-14&group_adults=2&req_adults=2&no_rooms=1&group_children=0&req_children=0&hpos=2&hapos=127&sr_order=popularity&srpvid=b8ac97be9c510304&srepoch=1670794530&all_sr_blocks=5808407_93701092_2_1_0&highlighted_blocks=5808407_93701092_2_1_0&matching_block_id=5808407_93701092_2_1_0&sr_pri_blocks=5808407_93701092_2_1_0__70890&from=searchresults&map_fdco=1#hotelTmpl\n"
     ]
    },
    {
     "name": "stdout",
     "output_type": "stream",
     "text": [
      "137 https://www.booking.com/hotel/us/courtyard-boston-south-boston.html?label=gen173nr-1FCAEoggI46AdIM1gEaKQCiAEBmAExuAEXyAEM2AEB6AEB-AECiAIBqAIDuAL5mdmcBsACAdICJGRkMWIwZTJlLTUzNDktNGViYy05NGFlLTUyMjNmMmVhY2U5NdgCBeACAQ&sid=4ccd5a937ba87ec62f771a6b54652f31&aid=304142&ucfs=1&arphpl=1&checkin=2023-02-08&checkout=2023-02-14&group_adults=2&req_adults=2&no_rooms=1&group_children=0&req_children=0&hpos=12&hapos=137&sr_order=popularity&srpvid=b8ac97be9c510304&srepoch=1670794530&all_sr_blocks=26519701_94374730_0_2_0&highlighted_blocks=26519701_94374730_0_2_0&matching_block_id=26519701_94374730_0_2_0&sr_pri_blocks=26519701_94374730_0_2_0__67520&from_sustainable_property_sr=1&from=searchresults&map_fdco=1#hotelTmpl\n",
      "138 https://www.booking.com/hotel/us/stylish-downtown-studio-in-the-boston-cave-34.html?label=gen173nr-1FCAEoggI46AdIM1gEaKQCiAEBmAExuAEXyAEM2AEB6AEB-AECiAIBqAIDuAL5mdmcBsACAdICJGRkMWIwZTJlLTUzNDktNGViYy05NGFlLTUyMjNmMmVhY2U5NdgCBeACAQ&sid=4ccd5a937ba87ec62f771a6b54652f31&aid=304142&ucfs=1&arphpl=1&checkin=2023-02-08&checkout=2023-02-14&group_adults=2&req_adults=2&no_rooms=1&group_children=0&req_children=0&hpos=13&hapos=138&sr_order=popularity&srpvid=b8ac97be9c510304&srepoch=1670794530&all_sr_blocks=491920301_361933692_2_0_0&highlighted_blocks=491920301_361933692_2_0_0&matching_block_id=491920301_361933692_2_0_0&sr_pri_blocks=491920301_361933692_2_0_0__64200&from=searchresults&map_fdco=1#hotelTmpl\n",
      "139 https://www.booking.com/hotel/us/charming-amp-stylish-studio-on-beacon-hill-2.html?label=gen173nr-1FCAEoggI46AdIM1gEaKQCiAEBmAExuAEXyAEM2AEB6AEB-AECiAIBqAIDuAL5mdmcBsACAdICJGRkMWIwZTJlLTUzNDktNGViYy05NGFlLTUyMjNmMmVhY2U5NdgCBeACAQ&sid=4ccd5a937ba87ec62f771a6b54652f31&aid=304142&ucfs=1&arphpl=1&checkin=2023-02-08&checkout=2023-02-14&group_adults=2&req_adults=2&no_rooms=1&group_children=0&req_children=0&hpos=14&hapos=139&sr_order=popularity&srpvid=b8ac97be9c510304&srepoch=1670794530&all_sr_blocks=489070201_361933712_2_0_0&highlighted_blocks=489070201_361933712_2_0_0&matching_block_id=489070201_361933712_2_0_0&sr_pri_blocks=489070201_361933712_2_0_0__83500&from=searchresults&map_fdco=1#hotelTmpl\n",
      "141 https://www.booking.com/hotel/us/1p-lil-italy-freedom-trail-td-garden-north-end.html?label=gen173nr-1FCAEoggI46AdIM1gEaKQCiAEBmAExuAEXyAEM2AEB6AEB-AECiAIBqAIDuAL5mdmcBsACAdICJGRkMWIwZTJlLTUzNDktNGViYy05NGFlLTUyMjNmMmVhY2U5NdgCBeACAQ&sid=4ccd5a937ba87ec62f771a6b54652f31&aid=304142&ucfs=1&arphpl=1&checkin=2023-02-08&checkout=2023-02-14&group_adults=2&req_adults=2&no_rooms=1&group_children=0&req_children=0&hpos=16&hapos=141&sr_order=popularity&srpvid=b8ac97be9c510304&srepoch=1670794530&all_sr_blocks=878575701_362858601_4_0_0&highlighted_blocks=878575701_362858601_4_0_0&matching_block_id=878575701_362858601_4_0_0&sr_pri_blocks=878575701_362858601_4_0_0__210000&from=searchresults&map_fdco=1#hotelTmpl\n",
      "146 https://www.booking.com/hotel/us/charming-studio-in-boston-brownstone-c-ave-33.html?label=gen173nr-1FCAEoggI46AdIM1gEaKQCiAEBmAExuAEXyAEM2AEB6AEB-AECiAIBqAIDuAL5mdmcBsACAdICJGRkMWIwZTJlLTUzNDktNGViYy05NGFlLTUyMjNmMmVhY2U5NdgCBeACAQ&sid=4ccd5a937ba87ec62f771a6b54652f31&aid=304142&ucfs=1&arphpl=1&checkin=2023-02-08&checkout=2023-02-14&group_adults=2&req_adults=2&no_rooms=1&group_children=0&req_children=0&hpos=21&hapos=146&sr_order=popularity&srpvid=b8ac97be9c510304&srepoch=1670794530&all_sr_blocks=491488201_361933696_2_0_0&highlighted_blocks=491488201_361933696_2_0_0&matching_block_id=491488201_361933696_2_0_0&sr_pri_blocks=491488201_361933696_2_0_0__64200&from=searchresults&map_fdco=1#hotelTmpl\n",
      "148 https://www.booking.com/hotel/us/the-ritz-carlton-boston-commons.html?label=gen173nr-1FCAEoggI46AdIM1gEaKQCiAEBmAExuAEXyAEM2AEB6AEB-AECiAIBqAIDuAL5mdmcBsACAdICJGRkMWIwZTJlLTUzNDktNGViYy05NGFlLTUyMjNmMmVhY2U5NdgCBeACAQ&sid=4ccd5a937ba87ec62f771a6b54652f31&aid=304142&ucfs=1&arphpl=1&checkin=2023-02-08&checkout=2023-02-14&group_adults=2&req_adults=2&no_rooms=1&group_children=0&req_children=0&hpos=23&hapos=148&sr_order=popularity&srpvid=b8ac97be9c510304&srepoch=1670794530&all_sr_blocks=2542903_246418038_0_2_0&highlighted_blocks=2542903_246418038_0_2_0&matching_block_id=2542903_246418038_0_2_0&sr_pri_blocks=2542903_246418038_0_2_0__417000&from_sustainable_property_sr=1&from=searchresults&map_fdco=1#hotelTmpl\n",
      "149 https://www.booking.com/hotel/us/3-cortes-22-ii.html?label=gen173nr-1FCAEoggI46AdIM1gEaKQCiAEBmAExuAEXyAEM2AEB6AEB-AECiAIBqAIDuAL5mdmcBsACAdICJGRkMWIwZTJlLTUzNDktNGViYy05NGFlLTUyMjNmMmVhY2U5NdgCBeACAQ&sid=4ccd5a937ba87ec62f771a6b54652f31&aid=304142&ucfs=1&arphpl=1&checkin=2023-02-08&checkout=2023-02-14&group_adults=2&req_adults=2&no_rooms=1&group_children=0&req_children=0&hpos=24&hapos=149&sr_order=popularity&srpvid=b8ac97be9c510304&srepoch=1670794530&all_sr_blocks=463473102_310269245_2_0_0&highlighted_blocks=463473102_310269245_2_0_0&matching_block_id=463473102_310269245_2_0_0&sr_pri_blocks=463473102_310269245_2_0_0__96200&from=searchresults&map_fdco=1#hotelTmpl\n",
      "150 https://www.booking.com/hotel/us/5-23-perfect-downtown-studio-for-two-boston.html?label=gen173nr-1FCAEoggI46AdIM1gEaKQCiAEBmAExuAEXyAEM2AEB6AEB-AECiAIBqAIDuAL5mdmcBsACAdICJGRkMWIwZTJlLTUzNDktNGViYy05NGFlLTUyMjNmMmVhY2U5NdgCBeACAQ&sid=4ccd5a937ba87ec62f771a6b54652f31&aid=304142&ucfs=1&arphpl=1&checkin=2023-02-08&checkout=2023-02-14&group_adults=2&req_adults=2&no_rooms=1&group_children=0&req_children=0&hpos=25&hapos=150&sr_order=popularity&srpvid=b8ac97be9c510304&srepoch=1670794530&all_sr_blocks=640354902_310269104_2_0_0&highlighted_blocks=640354902_310269104_2_0_0&matching_block_id=640354902_310269104_2_0_0&sr_pri_blocks=640354902_310269104_2_0_0__97100&from=searchresults&map_fdco=1#hotelTmpl\n",
      "153 https://www.booking.com/hotel/us/cheap-furnished-studio-in-downtown-boston-7.html?label=gen173nr-1FCAEoggI46AdIM1gEaKQCiAEBmAExuAEXyAEM2AEB6AEB-AECiAIBqAIDuAL5mdmcBsACAdICJGRkMWIwZTJlLTUzNDktNGViYy05NGFlLTUyMjNmMmVhY2U5NdgCBeACAQ&sid=4ccd5a937ba87ec62f771a6b54652f31&aid=304142&ucfs=1&arphpl=1&checkin=2023-02-08&checkout=2023-02-14&group_adults=2&req_adults=2&no_rooms=1&group_children=0&req_children=0&hpos=3&hapos=153&sr_order=popularity&srpvid=b8ac97be9c510304&srepoch=1670794537&all_sr_blocks=438563601_361933762_2_0_0&highlighted_blocks=438563601_361933762_2_0_0&matching_block_id=438563601_361933762_2_0_0&sr_pri_blocks=438563601_361933762_2_0_0__80600&from=searchresults&map_fdco=1#hotelTmpl\n",
      "154 https://www.booking.com/hotel/us/enjoy-spring-time-in-boston-406.html?label=gen173nr-1FCAEoggI46AdIM1gEaKQCiAEBmAExuAEXyAEM2AEB6AEB-AECiAIBqAIDuAL5mdmcBsACAdICJGRkMWIwZTJlLTUzNDktNGViYy05NGFlLTUyMjNmMmVhY2U5NdgCBeACAQ&sid=4ccd5a937ba87ec62f771a6b54652f31&aid=304142&ucfs=1&arphpl=1&checkin=2023-02-08&checkout=2023-02-14&group_adults=2&req_adults=2&no_rooms=1&group_children=0&req_children=0&hpos=4&hapos=154&sr_order=popularity&srpvid=b8ac97be9c510304&srepoch=1670794537&all_sr_blocks=732707102_326734194_2_0_0&highlighted_blocks=732707102_326734194_2_0_0&matching_block_id=732707102_326734194_2_0_0&sr_pri_blocks=732707102_326734194_2_0_0__113900&from=searchresults&map_fdco=1#hotelTmpl\n",
      "155 https://www.booking.com/hotel/us/comfortable-studio-in-back-bay-newbury-st-7.html?label=gen173nr-1FCAEoggI46AdIM1gEaKQCiAEBmAExuAEXyAEM2AEB6AEB-AECiAIBqAIDuAL5mdmcBsACAdICJGRkMWIwZTJlLTUzNDktNGViYy05NGFlLTUyMjNmMmVhY2U5NdgCBeACAQ&sid=4ccd5a937ba87ec62f771a6b54652f31&aid=304142&ucfs=1&arphpl=1&checkin=2023-02-08&checkout=2023-02-14&group_adults=2&req_adults=2&no_rooms=1&group_children=0&req_children=0&hpos=5&hapos=155&sr_order=popularity&srpvid=b8ac97be9c510304&srepoch=1670794537&all_sr_blocks=467964101_361933748_2_0_0&highlighted_blocks=467964101_361933748_2_0_0&matching_block_id=467964101_361933748_2_0_0&sr_pri_blocks=467964101_361933748_2_0_0__82000&from=searchresults&map_fdco=1#hotelTmpl\n",
      "156 https://www.booking.com/hotel/us/south-end-studio-ideal-for-boston-travelers-23.html?label=gen173nr-1FCAEoggI46AdIM1gEaKQCiAEBmAExuAEXyAEM2AEB6AEB-AECiAIBqAIDuAL5mdmcBsACAdICJGRkMWIwZTJlLTUzNDktNGViYy05NGFlLTUyMjNmMmVhY2U5NdgCBeACAQ&sid=4ccd5a937ba87ec62f771a6b54652f31&aid=304142&ucfs=1&arphpl=1&checkin=2023-02-08&checkout=2023-02-14&group_adults=2&req_adults=2&no_rooms=1&group_children=0&req_children=0&hpos=6&hapos=156&sr_order=popularity&srpvid=b8ac97be9c510304&srepoch=1670794537&all_sr_blocks=491487901_361933697_2_0_0&highlighted_blocks=491487901_361933697_2_0_0&matching_block_id=491487901_361933697_2_0_0&sr_pri_blocks=491487901_361933697_2_0_0__64300&from=searchresults&map_fdco=1#hotelTmpl\n"
     ]
    },
    {
     "name": "stdout",
     "output_type": "stream",
     "text": [
      "157 https://www.booking.com/hotel/us/renovated-lower-allston-3-bedroom.html?label=gen173nr-1FCAEoggI46AdIM1gEaKQCiAEBmAExuAEXyAEM2AEB6AEB-AECiAIBqAIDuAL5mdmcBsACAdICJGRkMWIwZTJlLTUzNDktNGViYy05NGFlLTUyMjNmMmVhY2U5NdgCBeACAQ&sid=4ccd5a937ba87ec62f771a6b54652f31&aid=304142&ucfs=1&arphpl=1&checkin=2023-02-08&checkout=2023-02-14&group_adults=2&req_adults=2&no_rooms=1&group_children=0&req_children=0&hpos=7&hapos=157&sr_order=popularity&srpvid=b8ac97be9c510304&srepoch=1670794537&all_sr_blocks=673595601_275552041_6_0_0&highlighted_blocks=673595601_275552041_6_0_0&matching_block_id=673595601_275552041_6_0_0&sr_pri_blocks=673595601_275552041_6_0_0__153270&from=searchresults&map_fdco=1#hotelTmpl\n",
      "159 https://www.booking.com/hotel/us/brand-new-modern-3bds-2-baths-sleep-9-people-minutes-away-from-boston.html?label=gen173nr-1FCAEoggI46AdIM1gEaKQCiAEBmAExuAEXyAEM2AEB6AEB-AECiAIBqAIDuAL5mdmcBsACAdICJGRkMWIwZTJlLTUzNDktNGViYy05NGFlLTUyMjNmMmVhY2U5NdgCBeACAQ&sid=4ccd5a937ba87ec62f771a6b54652f31&aid=304142&ucfs=1&arphpl=1&checkin=2023-02-08&checkout=2023-02-14&group_adults=2&req_adults=2&no_rooms=1&group_children=0&req_children=0&hpos=9&hapos=159&sr_order=popularity&srpvid=b8ac97be9c510304&srepoch=1670794537&all_sr_blocks=925034501_364307276_0_0_0&highlighted_blocks=925034501_364307276_0_0_0&matching_block_id=925034501_364307276_0_0_0&sr_pri_blocks=925034501_364307276_0_0_0__242250&from=searchresults&map_fdco=1#hotelTmpl\n",
      "160 https://www.booking.com/hotel/us/great-stay-awaits-in-historic-boston-5-b1.html?label=gen173nr-1FCAEoggI46AdIM1gEaKQCiAEBmAExuAEXyAEM2AEB6AEB-AECiAIBqAIDuAL5mdmcBsACAdICJGRkMWIwZTJlLTUzNDktNGViYy05NGFlLTUyMjNmMmVhY2U5NdgCBeACAQ&sid=4ccd5a937ba87ec62f771a6b54652f31&aid=304142&ucfs=1&arphpl=1&checkin=2023-02-08&checkout=2023-02-14&group_adults=2&req_adults=2&no_rooms=1&group_children=0&req_children=0&hpos=10&hapos=160&sr_order=popularity&srpvid=b8ac97be9c510304&srepoch=1670794537&all_sr_blocks=825258302_346817934_2_0_0&highlighted_blocks=825258302_346817934_2_0_0&matching_block_id=825258302_346817934_2_0_0&sr_pri_blocks=825258302_346817934_2_0_0__95100&from=searchresults&map_fdco=1#hotelTmpl\n",
      "161 https://www.booking.com/hotel/us/charming-amp-stylish-studio-on-beacon-hill-9.html?label=gen173nr-1FCAEoggI46AdIM1gEaKQCiAEBmAExuAEXyAEM2AEB6AEB-AECiAIBqAIDuAL5mdmcBsACAdICJGRkMWIwZTJlLTUzNDktNGViYy05NGFlLTUyMjNmMmVhY2U5NdgCBeACAQ&sid=4ccd5a937ba87ec62f771a6b54652f31&aid=304142&ucfs=1&arphpl=1&checkin=2023-02-08&checkout=2023-02-14&group_adults=2&req_adults=2&no_rooms=1&group_children=0&req_children=0&hpos=11&hapos=161&sr_order=popularity&srpvid=b8ac97be9c510304&srepoch=1670794537&all_sr_blocks=489627001_361933707_2_0_0&highlighted_blocks=489627001_361933707_2_0_0&matching_block_id=489627001_361933707_2_0_0&sr_pri_blocks=489627001_361933707_2_0_0__83500&from=searchresults&map_fdco=1#hotelTmpl\n",
      "162 https://www.booking.com/hotel/us/stylish-downtown-studio-in-the-south-end-c-ave-1.html?label=gen173nr-1FCAEoggI46AdIM1gEaKQCiAEBmAExuAEXyAEM2AEB6AEB-AECiAIBqAIDuAL5mdmcBsACAdICJGRkMWIwZTJlLTUzNDktNGViYy05NGFlLTUyMjNmMmVhY2U5NdgCBeACAQ&sid=4ccd5a937ba87ec62f771a6b54652f31&aid=304142&ucfs=1&arphpl=1&checkin=2023-02-08&checkout=2023-02-14&group_adults=2&req_adults=2&no_rooms=1&group_children=0&req_children=0&hpos=12&hapos=162&sr_order=popularity&srpvid=b8ac97be9c510304&srepoch=1670794537&all_sr_blocks=469635301_361933746_2_0_0&highlighted_blocks=469635301_361933746_2_0_0&matching_block_id=469635301_361933746_2_0_0&sr_pri_blocks=469635301_361933746_2_0_0__64900&from=searchresults&map_fdco=1#hotelTmpl\n",
      "164 https://www.booking.com/hotel/us/charming-amp-stylish-studio-on-beacon-hill-6.html?label=gen173nr-1FCAEoggI46AdIM1gEaKQCiAEBmAExuAEXyAEM2AEB6AEB-AECiAIBqAIDuAL5mdmcBsACAdICJGRkMWIwZTJlLTUzNDktNGViYy05NGFlLTUyMjNmMmVhY2U5NdgCBeACAQ&sid=4ccd5a937ba87ec62f771a6b54652f31&aid=304142&ucfs=1&arphpl=1&checkin=2023-02-08&checkout=2023-02-14&group_adults=2&req_adults=2&no_rooms=1&group_children=0&req_children=0&hpos=14&hapos=164&sr_order=popularity&srpvid=b8ac97be9c510304&srepoch=1670794537&all_sr_blocks=489122301_361933710_2_0_0&highlighted_blocks=489122301_361933710_2_0_0&matching_block_id=489122301_361933710_2_0_0&sr_pri_blocks=489122301_361933710_2_0_0__83500&from=searchresults&map_fdco=1#hotelTmpl\n",
      "167 https://www.booking.com/hotel/us/perfect-boston-studio-3-22.html?label=gen173nr-1FCAEoggI46AdIM1gEaKQCiAEBmAExuAEXyAEM2AEB6AEB-AECiAIBqAIDuAL5mdmcBsACAdICJGRkMWIwZTJlLTUzNDktNGViYy05NGFlLTUyMjNmMmVhY2U5NdgCBeACAQ&sid=4ccd5a937ba87ec62f771a6b54652f31&aid=304142&ucfs=1&arphpl=1&checkin=2023-02-08&checkout=2023-02-14&group_adults=2&req_adults=2&no_rooms=1&group_children=0&req_children=0&hpos=17&hapos=167&sr_order=popularity&srpvid=b8ac97be9c510304&srepoch=1670794537&all_sr_blocks=729556102_327172190_2_0_0&highlighted_blocks=729556102_327172190_2_0_0&matching_block_id=729556102_327172190_2_0_0&sr_pri_blocks=729556102_327172190_2_0_0__99900&from=searchresults&map_fdco=1#hotelTmpl\n",
      "168 https://www.booking.com/hotel/us/prices-and-location-cannot-be-beat-1b1.html?label=gen173nr-1FCAEoggI46AdIM1gEaKQCiAEBmAExuAEXyAEM2AEB6AEB-AECiAIBqAIDuAL5mdmcBsACAdICJGRkMWIwZTJlLTUzNDktNGViYy05NGFlLTUyMjNmMmVhY2U5NdgCBeACAQ&sid=4ccd5a937ba87ec62f771a6b54652f31&aid=304142&ucfs=1&arphpl=1&checkin=2023-02-08&checkout=2023-02-14&group_adults=2&req_adults=2&no_rooms=1&group_children=0&req_children=0&hpos=18&hapos=168&sr_order=popularity&srpvid=b8ac97be9c510304&srepoch=1670794537&all_sr_blocks=790646702_339035124_2_0_0&highlighted_blocks=790646702_339035124_2_0_0&matching_block_id=790646702_339035124_2_0_0&sr_pri_blocks=790646702_339035124_2_0_0__95800&from=searchresults&map_fdco=1#hotelTmpl\n",
      "169 https://www.booking.com/hotel/us/sweet-apartment-roslindale.html?label=gen173nr-1FCAEoggI46AdIM1gEaKQCiAEBmAExuAEXyAEM2AEB6AEB-AECiAIBqAIDuAL5mdmcBsACAdICJGRkMWIwZTJlLTUzNDktNGViYy05NGFlLTUyMjNmMmVhY2U5NdgCBeACAQ&sid=4ccd5a937ba87ec62f771a6b54652f31&aid=304142&ucfs=1&arphpl=1&checkin=2023-02-08&checkout=2023-02-14&group_adults=2&req_adults=2&no_rooms=1&group_children=0&req_children=0&hpos=19&hapos=169&sr_order=popularity&srpvid=b8ac97be9c510304&srepoch=1670794537&all_sr_blocks=893438201_359724047_2_0_0&highlighted_blocks=893438201_359724047_2_0_0&matching_block_id=893438201_359724047_2_0_0&sr_pri_blocks=893438201_359724047_2_0_0__174420&from=searchresults&map_fdco=1#hotelTmpl\n",
      "170 https://www.booking.com/hotel/us/cheap-furnished-two-bedroom-apartment-downtown-boston-garden-unit.html?label=gen173nr-1FCAEoggI46AdIM1gEaKQCiAEBmAExuAEXyAEM2AEB6AEB-AECiAIBqAIDuAL5mdmcBsACAdICJGRkMWIwZTJlLTUzNDktNGViYy05NGFlLTUyMjNmMmVhY2U5NdgCBeACAQ&sid=4ccd5a937ba87ec62f771a6b54652f31&aid=304142&ucfs=1&arphpl=1&checkin=2023-02-08&checkout=2023-02-14&group_adults=2&req_adults=2&no_rooms=1&group_children=0&req_children=0&hpos=20&hapos=170&sr_order=popularity&srpvid=b8ac97be9c510304&srepoch=1670794537&all_sr_blocks=439377401_340070226_4_0_0&highlighted_blocks=439377401_340070226_4_0_0&matching_block_id=439377401_340070226_4_0_0&sr_pri_blocks=439377401_340070226_4_0_0__121500&from=searchresults&map_fdco=1#hotelTmpl\n",
      "171 https://www.booking.com/hotel/us/stylish-downtown-studio-in-the-southend-cave-31.html?label=gen173nr-1FCAEoggI46AdIM1gEaKQCiAEBmAExuAEXyAEM2AEB6AEB-AECiAIBqAIDuAL5mdmcBsACAdICJGRkMWIwZTJlLTUzNDktNGViYy05NGFlLTUyMjNmMmVhY2U5NdgCBeACAQ&sid=4ccd5a937ba87ec62f771a6b54652f31&aid=304142&ucfs=1&arphpl=1&checkin=2023-02-08&checkout=2023-02-14&group_adults=2&req_adults=2&no_rooms=1&group_children=0&req_children=0&hpos=21&hapos=171&sr_order=popularity&srpvid=b8ac97be9c510304&srepoch=1670794537&all_sr_blocks=491468601_361933699_2_0_0&highlighted_blocks=491468601_361933699_2_0_0&matching_block_id=491468601_361933699_2_0_0&sr_pri_blocks=491468601_361933699_2_0_0__94100&from=searchresults&map_fdco=1#hotelTmpl\n",
      "172 https://www.booking.com/hotel/us/comfy-beacon-hill-studio-great-for-work-travel-13.html?label=gen173nr-1FCAEoggI46AdIM1gEaKQCiAEBmAExuAEXyAEM2AEB6AEB-AECiAIBqAIDuAL5mdmcBsACAdICJGRkMWIwZTJlLTUzNDktNGViYy05NGFlLTUyMjNmMmVhY2U5NdgCBeACAQ&sid=4ccd5a937ba87ec62f771a6b54652f31&aid=304142&ucfs=1&arphpl=1&checkin=2023-02-08&checkout=2023-02-14&group_adults=2&req_adults=2&no_rooms=1&group_children=0&req_children=0&hpos=22&hapos=172&sr_order=popularity&srpvid=b8ac97be9c510304&srepoch=1670794537&all_sr_blocks=489662901_361933703_2_0_0&highlighted_blocks=489662901_361933703_2_0_0&matching_block_id=489662901_361933703_2_0_0&sr_pri_blocks=489662901_361933703_2_0_0__83500&from=searchresults&map_fdco=1#hotelTmpl\n"
     ]
    },
    {
     "name": "stdout",
     "output_type": "stream",
     "text": [
      "173 https://www.booking.com/hotel/us/1-cortes-32.html?label=gen173nr-1FCAEoggI46AdIM1gEaKQCiAEBmAExuAEXyAEM2AEB6AEB-AECiAIBqAIDuAL5mdmcBsACAdICJGRkMWIwZTJlLTUzNDktNGViYy05NGFlLTUyMjNmMmVhY2U5NdgCBeACAQ&sid=4ccd5a937ba87ec62f771a6b54652f31&aid=304142&ucfs=1&arphpl=1&checkin=2023-02-08&checkout=2023-02-14&group_adults=2&req_adults=2&no_rooms=1&group_children=0&req_children=0&hpos=23&hapos=173&sr_order=popularity&srpvid=b8ac97be9c510304&srepoch=1670794537&all_sr_blocks=463442601_310269967_2_0_0&highlighted_blocks=463442601_310269967_2_0_0&matching_block_id=463442601_310269967_2_0_0&sr_pri_blocks=463442601_310269967_2_0_0__107900&from=searchresults&map_fdco=1#hotelTmpl\n",
      "175 https://www.booking.com/hotel/us/pet-friendly-30min-to-downtown-the-bostonian.html?label=gen173nr-1FCAEoggI46AdIM1gEaKQCiAEBmAExuAEXyAEM2AEB6AEB-AECiAIBqAIDuAL5mdmcBsACAdICJGRkMWIwZTJlLTUzNDktNGViYy05NGFlLTUyMjNmMmVhY2U5NdgCBeACAQ&sid=4ccd5a937ba87ec62f771a6b54652f31&aid=304142&ucfs=1&arphpl=1&checkin=2023-02-08&checkout=2023-02-14&group_adults=2&req_adults=2&no_rooms=1&group_children=0&req_children=0&hpos=25&hapos=175&sr_order=popularity&srpvid=b8ac97be9c510304&srepoch=1670794537&all_sr_blocks=427297402_197517311_4_0_0&highlighted_blocks=427297402_197517311_4_0_0&matching_block_id=427297402_197517311_4_0_0&sr_pri_blocks=427297402_197517311_4_0_0__82500&from=searchresults&map_fdco=1#hotelTmpl\n",
      "176 https://www.booking.com/hotel/us/pet-friendly-30min-to-downtown-the-bostonian.html?label=gen173nr-1FCAEoggI46AdIM1gEaKQCiAEBmAExuAEXyAEM2AEB6AEB-AECiAIBqAIDuAL5mdmcBsACAdICJGRkMWIwZTJlLTUzNDktNGViYy05NGFlLTUyMjNmMmVhY2U5NdgCBeACAQ&sid=4ccd5a937ba87ec62f771a6b54652f31&aid=304142&ucfs=1&arphpl=1&checkin=2023-02-08&checkout=2023-02-14&group_adults=2&req_adults=2&no_rooms=1&group_children=0&req_children=0&hpos=1&hapos=176&sr_order=popularity&srpvid=b8ac97be9c510304&srepoch=1670794543&all_sr_blocks=427297402_197517311_4_0_0&highlighted_blocks=427297402_197517311_4_0_0&matching_block_id=427297402_197517311_4_0_0&sr_pri_blocks=427297402_197517311_4_0_0__82500&from=searchresults&map_fdco=1#hotelTmpl\n",
      "178 https://www.booking.com/hotel/us/stylish-downtown-studio-in-the-south-end-8.html?label=gen173nr-1FCAEoggI46AdIM1gEaKQCiAEBmAExuAEXyAEM2AEB6AEB-AECiAIBqAIDuAL5mdmcBsACAdICJGRkMWIwZTJlLTUzNDktNGViYy05NGFlLTUyMjNmMmVhY2U5NdgCBeACAQ&sid=4ccd5a937ba87ec62f771a6b54652f31&aid=304142&ucfs=1&arphpl=1&checkin=2023-02-08&checkout=2023-02-14&group_adults=2&req_adults=2&no_rooms=1&group_children=0&req_children=0&hpos=3&hapos=178&sr_order=popularity&srpvid=b8ac97be9c510304&srepoch=1670794543&all_sr_blocks=472894201_361933744_2_0_0&highlighted_blocks=472894201_361933744_2_0_0&matching_block_id=472894201_361933744_2_0_0&sr_pri_blocks=472894201_361933744_2_0_0__80600&from=searchresults&map_fdco=1#hotelTmpl\n",
      "179 https://www.booking.com/hotel/us/stylish-studio-in-boston-brownstone-cave-21.html?label=gen173nr-1FCAEoggI46AdIM1gEaKQCiAEBmAExuAEXyAEM2AEB6AEB-AECiAIBqAIDuAL5mdmcBsACAdICJGRkMWIwZTJlLTUzNDktNGViYy05NGFlLTUyMjNmMmVhY2U5NdgCBeACAQ&sid=4ccd5a937ba87ec62f771a6b54652f31&aid=304142&ucfs=1&arphpl=1&checkin=2023-02-08&checkout=2023-02-14&group_adults=2&req_adults=2&no_rooms=1&group_children=0&req_children=0&hpos=4&hapos=179&sr_order=popularity&srpvid=b8ac97be9c510304&srepoch=1670794543&all_sr_blocks=491451901_361933700_2_0_0&highlighted_blocks=491451901_361933700_2_0_0&matching_block_id=491451901_361933700_2_0_0&sr_pri_blocks=491451901_361933700_2_0_0__80600&from=searchresults&map_fdco=1#hotelTmpl\n",
      "180 https://www.booking.com/hotel/us/downtown-beacon-hill-convenient-comfy-studio-1.html?label=gen173nr-1FCAEoggI46AdIM1gEaKQCiAEBmAExuAEXyAEM2AEB6AEB-AECiAIBqAIDuAL5mdmcBsACAdICJGRkMWIwZTJlLTUzNDktNGViYy05NGFlLTUyMjNmMmVhY2U5NdgCBeACAQ&sid=4ccd5a937ba87ec62f771a6b54652f31&aid=304142&ucfs=1&arphpl=1&checkin=2023-02-08&checkout=2023-02-14&group_adults=2&req_adults=2&no_rooms=1&group_children=0&req_children=0&hpos=5&hapos=180&sr_order=popularity&srpvid=b8ac97be9c510304&srepoch=1670794543&all_sr_blocks=489035701_361933713_2_0_0&highlighted_blocks=489035701_361933713_2_0_0&matching_block_id=489035701_361933713_2_0_0&sr_pri_blocks=489035701_361933713_2_0_0__83500&from=searchresults&map_fdco=1#hotelTmpl\n",
      "181 https://www.booking.com/hotel/us/egleston-square-condo-jamaica-plain.html?label=gen173nr-1FCAEoggI46AdIM1gEaKQCiAEBmAExuAEXyAEM2AEB6AEB-AECiAIBqAIDuAL5mdmcBsACAdICJGRkMWIwZTJlLTUzNDktNGViYy05NGFlLTUyMjNmMmVhY2U5NdgCBeACAQ&sid=4ccd5a937ba87ec62f771a6b54652f31&aid=304142&ucfs=1&arphpl=1&checkin=2023-02-08&checkout=2023-02-14&group_adults=2&req_adults=2&no_rooms=1&group_children=0&req_children=0&hpos=6&hapos=181&sr_order=popularity&srpvid=b8ac97be9c510304&srepoch=1670794543&all_sr_blocks=173054701_194698228_4_0_0&highlighted_blocks=173054701_194698228_4_0_0&matching_block_id=173054701_194698228_4_0_0&sr_pri_blocks=173054701_194698228_4_0_0__196812&from_sustainable_property_sr=1&from=searchresults&map_fdco=1#hotelTmpl\n",
      "182 https://www.booking.com/hotel/us/charming-studio-in-boston-brownstone-cave-5.html?label=gen173nr-1FCAEoggI46AdIM1gEaKQCiAEBmAExuAEXyAEM2AEB6AEB-AECiAIBqAIDuAL5mdmcBsACAdICJGRkMWIwZTJlLTUzNDktNGViYy05NGFlLTUyMjNmMmVhY2U5NdgCBeACAQ&sid=4ccd5a937ba87ec62f771a6b54652f31&aid=304142&ucfs=1&arphpl=1&checkin=2023-02-08&checkout=2023-02-14&group_adults=2&req_adults=2&no_rooms=1&group_children=0&req_children=0&hpos=7&hapos=182&sr_order=popularity&srpvid=b8ac97be9c510304&srepoch=1670794543&all_sr_blocks=488983101_361933714_2_0_0&highlighted_blocks=488983101_361933714_2_0_0&matching_block_id=488983101_361933714_2_0_0&sr_pri_blocks=488983101_361933714_2_0_0__94100&from=searchresults&map_fdco=1#hotelTmpl\n",
      "183 https://www.booking.com/hotel/us/cozy-up-in-5br-apt-near-charming-oak-square.html?label=gen173nr-1FCAEoggI46AdIM1gEaKQCiAEBmAExuAEXyAEM2AEB6AEB-AECiAIBqAIDuAL5mdmcBsACAdICJGRkMWIwZTJlLTUzNDktNGViYy05NGFlLTUyMjNmMmVhY2U5NdgCBeACAQ&sid=4ccd5a937ba87ec62f771a6b54652f31&aid=304142&ucfs=1&arphpl=1&checkin=2023-02-08&checkout=2023-02-14&group_adults=2&req_adults=2&no_rooms=1&group_children=0&req_children=0&hpos=8&hapos=183&sr_order=popularity&srpvid=b8ac97be9c510304&srepoch=1670794543&all_sr_blocks=857466906_353425596_2_0_0&highlighted_blocks=857466906_353425596_2_0_0&matching_block_id=857466906_353425596_2_0_0&sr_pri_blocks=857466906_353425596_2_0_0__33200&from=searchresults&map_fdco=1#hotelTmpl\n",
      "184 https://www.booking.com/hotel/us/stylish-downtown-studio-in-the-southend-cave-24.html?label=gen173nr-1FCAEoggI46AdIM1gEaKQCiAEBmAExuAEXyAEM2AEB6AEB-AECiAIBqAIDuAL5mdmcBsACAdICJGRkMWIwZTJlLTUzNDktNGViYy05NGFlLTUyMjNmMmVhY2U5NdgCBeACAQ&sid=4ccd5a937ba87ec62f771a6b54652f31&aid=304142&ucfs=1&arphpl=1&checkin=2023-02-08&checkout=2023-02-14&group_adults=2&req_adults=2&no_rooms=1&group_children=0&req_children=0&hpos=9&hapos=184&sr_order=popularity&srpvid=b8ac97be9c510304&srepoch=1670794543&all_sr_blocks=491518801_361933694_2_0_0&highlighted_blocks=491518801_361933694_2_0_0&matching_block_id=491518801_361933694_2_0_0&sr_pri_blocks=491518801_361933694_2_0_0__64000&from=searchresults&map_fdco=1#hotelTmpl\n",
      "185 https://www.booking.com/hotel/us/apt-near-grocery-store-tufts-medical.html?label=gen173nr-1FCAEoggI46AdIM1gEaKQCiAEBmAExuAEXyAEM2AEB6AEB-AECiAIBqAIDuAL5mdmcBsACAdICJGRkMWIwZTJlLTUzNDktNGViYy05NGFlLTUyMjNmMmVhY2U5NdgCBeACAQ&sid=4ccd5a937ba87ec62f771a6b54652f31&aid=304142&ucfs=1&arphpl=1&checkin=2023-02-08&checkout=2023-02-14&group_adults=2&req_adults=2&no_rooms=1&group_children=0&req_children=0&hpos=10&hapos=185&sr_order=popularity&srpvid=b8ac97be9c510304&srepoch=1670794543&all_sr_blocks=641433701_259354955_2_0_0&highlighted_blocks=641433701_259354955_2_0_0&matching_block_id=641433701_259354955_2_0_0&sr_pri_blocks=641433701_259354955_2_0_0__72200&from=searchresults&map_fdco=1#hotelTmpl\n",
      "186 https://www.booking.com/hotel/us/spacious-room-in-shared-apartment.html?label=gen173nr-1FCAEoggI46AdIM1gEaKQCiAEBmAExuAEXyAEM2AEB6AEB-AECiAIBqAIDuAL5mdmcBsACAdICJGRkMWIwZTJlLTUzNDktNGViYy05NGFlLTUyMjNmMmVhY2U5NdgCBeACAQ&sid=4ccd5a937ba87ec62f771a6b54652f31&aid=304142&ucfs=1&arphpl=1&checkin=2023-02-08&checkout=2023-02-14&group_adults=2&req_adults=2&no_rooms=1&group_children=0&req_children=0&hpos=11&hapos=186&sr_order=popularity&srpvid=b8ac97be9c510304&srepoch=1670794543&all_sr_blocks=792495105_344881601_2_0_0&highlighted_blocks=792495105_344881601_2_0_0&matching_block_id=792495105_344881601_2_0_0&sr_pri_blocks=792495105_344881601_2_0_0__38100&from=searchresults&map_fdco=1#hotelTmpl\n"
     ]
    },
    {
     "name": "stdout",
     "output_type": "stream",
     "text": [
      "188 https://www.booking.com/hotel/us/cozy-private-room-in-coliving-apt.html?label=gen173nr-1FCAEoggI46AdIM1gEaKQCiAEBmAExuAEXyAEM2AEB6AEB-AECiAIBqAIDuAL5mdmcBsACAdICJGRkMWIwZTJlLTUzNDktNGViYy05NGFlLTUyMjNmMmVhY2U5NdgCBeACAQ&sid=4ccd5a937ba87ec62f771a6b54652f31&aid=304142&ucfs=1&arphpl=1&checkin=2023-02-08&checkout=2023-02-14&group_adults=2&req_adults=2&no_rooms=1&group_children=0&req_children=0&hpos=13&hapos=188&sr_order=popularity&srpvid=b8ac97be9c510304&srepoch=1670794543&all_sr_blocks=792317004_344881626_2_0_0&highlighted_blocks=792317004_344881626_2_0_0&matching_block_id=792317004_344881626_2_0_0&sr_pri_blocks=792317004_344881626_2_0_0__38100&from=searchresults&map_fdco=1#hotelTmpl\n",
      "189 https://www.booking.com/hotel/us/bright-spacious-private-room-with-shared-bath.html?label=gen173nr-1FCAEoggI46AdIM1gEaKQCiAEBmAExuAEXyAEM2AEB6AEB-AECiAIBqAIDuAL5mdmcBsACAdICJGRkMWIwZTJlLTUzNDktNGViYy05NGFlLTUyMjNmMmVhY2U5NdgCBeACAQ&sid=4ccd5a937ba87ec62f771a6b54652f31&aid=304142&ucfs=1&arphpl=1&checkin=2023-02-08&checkout=2023-02-14&group_adults=2&req_adults=2&no_rooms=1&group_children=0&req_children=0&hpos=14&hapos=189&sr_order=popularity&srpvid=b8ac97be9c510304&srepoch=1670794543&all_sr_blocks=792310405_344881852_2_0_0&highlighted_blocks=792310405_344881852_2_0_0&matching_block_id=792310405_344881852_2_0_0&sr_pri_blocks=792310405_344881852_2_0_0__41800&from=searchresults&map_fdco=1#hotelTmpl\n",
      "190 https://www.booking.com/hotel/us/great-studio-for-social-distance-natural-light.html?label=gen173nr-1FCAEoggI46AdIM1gEaKQCiAEBmAExuAEXyAEM2AEB6AEB-AECiAIBqAIDuAL5mdmcBsACAdICJGRkMWIwZTJlLTUzNDktNGViYy05NGFlLTUyMjNmMmVhY2U5NdgCBeACAQ&sid=4ccd5a937ba87ec62f771a6b54652f31&aid=304142&ucfs=1&arphpl=1&checkin=2023-02-08&checkout=2023-02-14&group_adults=2&req_adults=2&no_rooms=1&group_children=0&req_children=0&hpos=15&hapos=190&sr_order=popularity&srpvid=b8ac97be9c510304&srepoch=1670794543&all_sr_blocks=641430901_259348271_2_0_0&highlighted_blocks=641430901_259348271_2_0_0&matching_block_id=641430901_259348271_2_0_0&sr_pri_blocks=641430901_259348271_2_0_0__61200&from=searchresults&map_fdco=1#hotelTmpl\n",
      "191 https://www.booking.com/hotel/us/minimalist-style-room-near-nu-in-boston.html?label=gen173nr-1FCAEoggI46AdIM1gEaKQCiAEBmAExuAEXyAEM2AEB6AEB-AECiAIBqAIDuAL5mdmcBsACAdICJGRkMWIwZTJlLTUzNDktNGViYy05NGFlLTUyMjNmMmVhY2U5NdgCBeACAQ&sid=4ccd5a937ba87ec62f771a6b54652f31&aid=304142&ucfs=1&arphpl=1&checkin=2023-02-08&checkout=2023-02-14&group_adults=2&req_adults=2&no_rooms=1&group_children=0&req_children=0&hpos=16&hapos=191&sr_order=popularity&srpvid=b8ac97be9c510304&srepoch=1670794543&all_sr_blocks=817387203_348185883_2_0_0&highlighted_blocks=817387203_348185883_2_0_0&matching_block_id=817387203_348185883_2_0_0&sr_pri_blocks=817387203_348185883_2_0_0__41900&from=searchresults&map_fdco=1#hotelTmpl\n",
      "192 https://www.booking.com/hotel/us/naughton-house.html?label=gen173nr-1FCAEoggI46AdIM1gEaKQCiAEBmAExuAEXyAEM2AEB6AEB-AECiAIBqAIDuAL5mdmcBsACAdICJGRkMWIwZTJlLTUzNDktNGViYy05NGFlLTUyMjNmMmVhY2U5NdgCBeACAQ&sid=4ccd5a937ba87ec62f771a6b54652f31&aid=304142&ucfs=1&arphpl=1&checkin=2023-02-08&checkout=2023-02-14&group_adults=2&req_adults=2&no_rooms=1&group_children=0&req_children=0&hpos=17&hapos=192&sr_order=popularity&srpvid=b8ac97be9c510304&srepoch=1670794543&all_sr_blocks=773519201_335308446_7_0_0&highlighted_blocks=773519201_335308446_7_0_0&matching_block_id=773519201_335308446_7_0_0&sr_pri_blocks=773519201_335308446_7_0_0__164340&from=searchresults&map_fdco=1#hotelTmpl\n",
      "193 https://www.booking.com/hotel/us/studio-by-tufts-medical-door-knobs-wiped-daily.html?label=gen173nr-1FCAEoggI46AdIM1gEaKQCiAEBmAExuAEXyAEM2AEB6AEB-AECiAIBqAIDuAL5mdmcBsACAdICJGRkMWIwZTJlLTUzNDktNGViYy05NGFlLTUyMjNmMmVhY2U5NdgCBeACAQ&sid=4ccd5a937ba87ec62f771a6b54652f31&aid=304142&ucfs=1&arphpl=1&checkin=2023-02-08&checkout=2023-02-14&group_adults=2&req_adults=2&no_rooms=1&group_children=0&req_children=0&hpos=18&hapos=193&sr_order=popularity&srpvid=b8ac97be9c510304&srepoch=1670794543&all_sr_blocks=641433801_259356303_2_0_0&highlighted_blocks=641433801_259356303_2_0_0&matching_block_id=641433801_259356303_2_0_0&sr_pri_blocks=641433801_259356303_2_0_0__59800&from=searchresults&map_fdco=1#hotelTmpl\n",
      "194 https://www.booking.com/hotel/us/5-33-modern-private-studio-awaits-you-boston.html?label=gen173nr-1FCAEoggI46AdIM1gEaKQCiAEBmAExuAEXyAEM2AEB6AEB-AECiAIBqAIDuAL5mdmcBsACAdICJGRkMWIwZTJlLTUzNDktNGViYy05NGFlLTUyMjNmMmVhY2U5NdgCBeACAQ&sid=4ccd5a937ba87ec62f771a6b54652f31&aid=304142&ucfs=1&arphpl=1&checkin=2023-02-08&checkout=2023-02-14&group_adults=2&req_adults=2&no_rooms=1&group_children=0&req_children=0&hpos=19&hapos=194&sr_order=popularity&srpvid=b8ac97be9c510304&srepoch=1670794543&all_sr_blocks=640355202_310269077_2_0_0&highlighted_blocks=640355202_310269077_2_0_0&matching_block_id=640355202_310269077_2_0_0&sr_pri_blocks=640355202_310269077_2_0_0__97100&from=searchresults&map_fdco=1#hotelTmpl\n",
      "195 https://www.booking.com/hotel/us/medical-workers-welcome-near-tufts-med-bmc-mgh.html?label=gen173nr-1FCAEoggI46AdIM1gEaKQCiAEBmAExuAEXyAEM2AEB6AEB-AECiAIBqAIDuAL5mdmcBsACAdICJGRkMWIwZTJlLTUzNDktNGViYy05NGFlLTUyMjNmMmVhY2U5NdgCBeACAQ&sid=4ccd5a937ba87ec62f771a6b54652f31&aid=304142&ucfs=1&arphpl=1&checkin=2023-02-08&checkout=2023-02-14&group_adults=2&req_adults=2&no_rooms=1&group_children=0&req_children=0&hpos=20&hapos=195&sr_order=popularity&srpvid=b8ac97be9c510304&srepoch=1670794543&all_sr_blocks=641438701_338098944_2_0_0&highlighted_blocks=641438701_338098944_2_0_0&matching_block_id=641438701_338098944_2_0_0&sr_pri_blocks=641438701_338098944_2_0_0__60800&from=searchresults&map_fdco=1#hotelTmpl\n",
      "196 https://www.booking.com/hotel/us/executive-suite-loft-harvard-allston-campus.html?label=gen173nr-1FCAEoggI46AdIM1gEaKQCiAEBmAExuAEXyAEM2AEB6AEB-AECiAIBqAIDuAL5mdmcBsACAdICJGRkMWIwZTJlLTUzNDktNGViYy05NGFlLTUyMjNmMmVhY2U5NdgCBeACAQ&sid=4ccd5a937ba87ec62f771a6b54652f31&aid=304142&ucfs=1&arphpl=1&checkin=2023-02-08&checkout=2023-02-14&group_adults=2&req_adults=2&no_rooms=1&group_children=0&req_children=0&hpos=21&hapos=196&sr_order=popularity&srpvid=b8ac97be9c510304&srepoch=1670794543&all_sr_blocks=776576201_335961866_4_0_0&highlighted_blocks=776576201_335961866_4_0_0&matching_block_id=776576201_335961866_4_0_0&sr_pri_blocks=776576201_335961866_4_0_0__102060&from_sustainable_property_sr=1&from=searchresults&map_fdco=1#hotelTmpl\n",
      "197 https://www.booking.com/hotel/us/chic-sunlit-private-room-near-historic-district.html?label=gen173nr-1FCAEoggI46AdIM1gEaKQCiAEBmAExuAEXyAEM2AEB6AEB-AECiAIBqAIDuAL5mdmcBsACAdICJGRkMWIwZTJlLTUzNDktNGViYy05NGFlLTUyMjNmMmVhY2U5NdgCBeACAQ&sid=4ccd5a937ba87ec62f771a6b54652f31&aid=304142&ucfs=1&arphpl=1&checkin=2023-02-08&checkout=2023-02-14&group_adults=2&req_adults=2&no_rooms=1&group_children=0&req_children=0&hpos=22&hapos=197&sr_order=popularity&srpvid=b8ac97be9c510304&srepoch=1670794543&all_sr_blocks=843265404_351081873_2_0_0&highlighted_blocks=843265404_351081873_2_0_0&matching_block_id=843265404_351081873_2_0_0&sr_pri_blocks=843265404_351081873_2_0_0__41900&from=searchresults&map_fdco=1#hotelTmpl\n",
      "198 https://www.booking.com/hotel/us/comfy-private-room-in-shared-apt.html?label=gen173nr-1FCAEoggI46AdIM1gEaKQCiAEBmAExuAEXyAEM2AEB6AEB-AECiAIBqAIDuAL5mdmcBsACAdICJGRkMWIwZTJlLTUzNDktNGViYy05NGFlLTUyMjNmMmVhY2U5NdgCBeACAQ&sid=4ccd5a937ba87ec62f771a6b54652f31&aid=304142&ucfs=1&arphpl=1&checkin=2023-02-08&checkout=2023-02-14&group_adults=2&req_adults=2&no_rooms=1&group_children=0&req_children=0&hpos=23&hapos=198&sr_order=popularity&srpvid=b8ac97be9c510304&srepoch=1670794543&all_sr_blocks=792316602_344881627_4_0_0&highlighted_blocks=792316602_344881627_4_0_0&matching_block_id=792316602_344881627_4_0_0&sr_pri_blocks=792316602_344881627_4_0_0__116300&from=searchresults&map_fdco=1#hotelTmpl\n",
      "199 https://www.booking.com/hotel/us/new-five75-lux-bos-mins-from-downtown-boston.html?label=gen173nr-1FCAEoggI46AdIM1gEaKQCiAEBmAExuAEXyAEM2AEB6AEB-AECiAIBqAIDuAL5mdmcBsACAdICJGRkMWIwZTJlLTUzNDktNGViYy05NGFlLTUyMjNmMmVhY2U5NdgCBeACAQ&sid=4ccd5a937ba87ec62f771a6b54652f31&aid=304142&ucfs=1&arphpl=1&checkin=2023-02-08&checkout=2023-02-14&group_adults=2&req_adults=2&no_rooms=1&group_children=0&req_children=0&hpos=24&hapos=199&sr_order=popularity&srpvid=b8ac97be9c510304&srepoch=1670794543&all_sr_blocks=916279701_363118836_2_0_0&highlighted_blocks=916279701_363118836_2_0_0&matching_block_id=916279701_363118836_2_0_0&sr_pri_blocks=916279701_363118836_2_0_0__249090&from=searchresults&map_fdco=1#hotelTmpl\n"
     ]
    },
    {
     "name": "stdout",
     "output_type": "stream",
     "text": [
      "200 https://www.booking.com/hotel/us/hermoso-apartamento-vacacional-en-boston.html?label=gen173nr-1FCAEoggI46AdIM1gEaKQCiAEBmAExuAEXyAEM2AEB6AEB-AECiAIBqAIDuAL5mdmcBsACAdICJGRkMWIwZTJlLTUzNDktNGViYy05NGFlLTUyMjNmMmVhY2U5NdgCBeACAQ&sid=4ccd5a937ba87ec62f771a6b54652f31&aid=304142&ucfs=1&arphpl=1&checkin=2023-02-08&checkout=2023-02-14&group_adults=2&req_adults=2&no_rooms=1&group_children=0&req_children=0&hpos=25&hapos=200&sr_order=popularity&srpvid=b8ac97be9c510304&srepoch=1670794543&all_sr_blocks=884050001_357777868_4_0_0&highlighted_blocks=884050001_357777868_4_0_0&matching_block_id=884050001_357777868_4_0_0&sr_pri_blocks=884050001_357777868_4_0_0__535815&from=searchresults&map_fdco=1#hotelTmpl\n",
      "201 https://www.booking.com/hotel/us/134-beach-steet.html?label=gen173nr-1FCAEoggI46AdIM1gEaKQCiAEBmAExuAEXyAEM2AEB6AEB-AECiAIBqAIDuAL5mdmcBsACAdICJGRkMWIwZTJlLTUzNDktNGViYy05NGFlLTUyMjNmMmVhY2U5NdgCBeACAQ&sid=4ccd5a937ba87ec62f771a6b54652f31&aid=304142&ucfs=1&arphpl=1&checkin=2023-02-08&checkout=2023-02-14&group_adults=2&req_adults=2&no_rooms=1&group_children=0&req_children=0&hpos=1&hapos=201&sr_order=popularity&srpvid=b8ac97be9c510304&srepoch=1670794550&all_sr_blocks=924482301_364239256_2_0_0&highlighted_blocks=924482301_364239256_2_0_0&matching_block_id=924482301_364239256_2_0_0&sr_pri_blocks=924482301_364239256_2_0_0__145530&from=searchresults&map_fdco=1#hotelTmpl\n",
      "202 https://www.booking.com/hotel/us/apartaestudio-para-parejas-en-boston-massachusetts.html?label=gen173nr-1FCAEoggI46AdIM1gEaKQCiAEBmAExuAEXyAEM2AEB6AEB-AECiAIBqAIDuAL5mdmcBsACAdICJGRkMWIwZTJlLTUzNDktNGViYy05NGFlLTUyMjNmMmVhY2U5NdgCBeACAQ&sid=4ccd5a937ba87ec62f771a6b54652f31&aid=304142&ucfs=1&arphpl=1&checkin=2023-02-08&checkout=2023-02-14&group_adults=2&req_adults=2&no_rooms=1&group_children=0&req_children=0&hpos=2&hapos=202&sr_order=popularity&srpvid=b8ac97be9c510304&srepoch=1670794550&all_sr_blocks=884045401_357998756_3_0_0&highlighted_blocks=884045401_357998756_3_0_0&matching_block_id=884045401_357998756_3_0_0&sr_pri_blocks=884045401_357998756_3_0_0__387990&from=searchresults&map_fdco=1#hotelTmpl\n",
      "203 https://www.booking.com/hotel/us/gorgeous-unique-3br-47-3ba-duplex-north-end-m-g.html?label=gen173nr-1FCAEoggI46AdIM1gEaKQCiAEBmAExuAEXyAEM2AEB6AEB-AECiAIBqAIDuAL5mdmcBsACAdICJGRkMWIwZTJlLTUzNDktNGViYy05NGFlLTUyMjNmMmVhY2U5NdgCBeACAQ&sid=4ccd5a937ba87ec62f771a6b54652f31&aid=304142&ucfs=1&arphpl=1&checkin=2023-02-08&checkout=2023-02-14&group_adults=2&req_adults=2&no_rooms=1&group_children=0&req_children=0&hpos=3&hapos=203&sr_order=popularity&srpvid=b8ac97be9c510304&srepoch=1670794550&all_sr_blocks=259692501_146323095_6_0_0&highlighted_blocks=259692501_146323095_6_0_0&matching_block_id=259692501_146323095_6_0_0&sr_pri_blocks=259692501_146323095_6_0_0__469872&from_sustainable_property_sr=1&from=searchresults&map_fdco=1#hotelTmpl\n",
      "205 https://www.booking.com/hotel/us/1private-bedroom-near-fenway-amp-dowtown-boston.html?label=gen173nr-1FCAEoggI46AdIM1gEaKQCiAEBmAExuAEXyAEM2AEB6AEB-AECiAIBqAIDuAL5mdmcBsACAdICJGRkMWIwZTJlLTUzNDktNGViYy05NGFlLTUyMjNmMmVhY2U5NdgCBeACAQ&sid=4ccd5a937ba87ec62f771a6b54652f31&aid=304142&ucfs=1&arphpl=1&checkin=2023-02-08&checkout=2023-02-14&group_adults=2&req_adults=2&no_rooms=1&group_children=0&req_children=0&hpos=5&hapos=205&sr_order=popularity&srpvid=b8ac97be9c510304&srepoch=1670794550&all_sr_blocks=485749525_342043182_1_0_0%2C485749525_342043182_1_0_0&highlighted_blocks=485749525_342043182_1_0_0%2C485749525_342043182_1_0_0&matching_block_id=485749525_342043182_1_0_0&sr_pri_blocks=485749525_342043182_1_0_0__22200%2C485749525_342043182_1_0_0__22200&from=searchresults&map_fdco=1#hotelTmpl\n"
     ]
    }
   ],
   "source": [
    "all_properties = []\n",
    "c = 0\n",
    "for link in all_detail_links:\n",
    "    browser.get(link)\n",
    "    c += 1\n",
    "    try:\n",
    "        soup = BeautifulSoup(browser.page_source,'html.parser')\n",
    "        hotel_label = soup.find('h2',class_ = 'pp-header__title').text\n",
    "        location = soup.find('span',class_ = 'hp_address_subtitle').text.strip(\"\\n\")\n",
    "        #total_images = soup.find('span', class_=\"bh-photo-grid-thumb-more\").text\n",
    "        rating_block = soup.find(\"div\", {\"data-testid\" : \"review-score-right-component\"})\n",
    "        rating_score = rating_block.findChild().text\n",
    "        sub_block = rating_block.findChildren()[1]\n",
    "        rating_label = sub_block.findChild().text\n",
    "        total_reviews = sub_block.findChildren()[1].text\n",
    "        best_facility = soup.find('p',class_ = 'best-review-score-label').text.strip(\"\\n\")\n",
    "        best_review_score_badge = soup.find('span',class_='review-score-badge').text.strip(\"\\n\")\n",
    "        detail = soup.find('div',class_ = 'hp_desc_main_content').text.replace(\"\\n\", \"\")\n",
    "        couple_review = soup.find('p',class_ = 'hp-desc-review-highlight').text.strip(\"\\n\")\n",
    "        important_facility = soup.find('div',class_ = 'hp_desc_important_facilities').text.replace(\"\\n\", \"\")\n",
    "        price = soup.find('span',class_ = 'prco-valign-middle-helper').text.strip(\"\\n\")\n",
    "    except:\n",
    "        print(c,link)\n",
    "        continue\n",
    "    data = dict(hotel_label=hotel_label,\n",
    "                location=location,\n",
    "                #total_images=total_images,\n",
    "                rating_score=rating_score,\n",
    "                rating_label=rating_label,\n",
    "                total_reviews=total_reviews,\n",
    "                best_facility=best_facility,\n",
    "                best_review_score_badge=best_review_score_badge,\n",
    "                detail=detail,\n",
    "                couple_review=couple_review,\n",
    "                important_facility=important_facility,\n",
    "                price=price,\n",
    "               source=str(soup))\n",
    "    save_file(data, c)\n",
    "    time.sleep(random.randint(3,5))"
   ]
  },
  {
   "cell_type": "code",
   "execution_count": null,
   "id": "f2138886",
   "metadata": {},
   "outputs": [],
   "source": []
  },
  {
   "cell_type": "code",
   "execution_count": 67,
   "id": "88f50908",
   "metadata": {},
   "outputs": [],
   "source": [
    "import os"
   ]
  },
  {
   "cell_type": "code",
   "execution_count": 68,
   "id": "b5d2b55e",
   "metadata": {},
   "outputs": [],
   "source": [
    "files = os.listdir('Boston/')"
   ]
  },
  {
   "cell_type": "code",
   "execution_count": 69,
   "id": "23e70f6a",
   "metadata": {},
   "outputs": [],
   "source": [
    "def load_file(filename):\n",
    "    with open(filename) as f:\n",
    "        data = json.loads(f.read())\n",
    "    return data"
   ]
  },
  {
   "cell_type": "code",
   "execution_count": 70,
   "id": "bd12082f",
   "metadata": {},
   "outputs": [],
   "source": [
    "hotels = [load_file('Boston/' + file) for file in files]"
   ]
  },
  {
   "cell_type": "code",
   "execution_count": 71,
   "id": "ed0db4fd",
   "metadata": {},
   "outputs": [],
   "source": [
    "df = pd.DataFrame(hotels)"
   ]
  },
  {
   "cell_type": "code",
   "execution_count": 72,
   "id": "c2631061",
   "metadata": {},
   "outputs": [],
   "source": [
    "df.drop('source', axis=1, inplace=True)"
   ]
  },
  {
   "cell_type": "code",
   "execution_count": 73,
   "id": "859dfc07",
   "metadata": {
    "scrolled": false
   },
   "outputs": [
    {
     "data": {
      "text/html": [
       "<div>\n",
       "<style scoped>\n",
       "    .dataframe tbody tr th:only-of-type {\n",
       "        vertical-align: middle;\n",
       "    }\n",
       "\n",
       "    .dataframe tbody tr th {\n",
       "        vertical-align: top;\n",
       "    }\n",
       "\n",
       "    .dataframe thead th {\n",
       "        text-align: right;\n",
       "    }\n",
       "</style>\n",
       "<table border=\"1\" class=\"dataframe\">\n",
       "  <thead>\n",
       "    <tr style=\"text-align: right;\">\n",
       "      <th></th>\n",
       "      <th>hotel_label</th>\n",
       "      <th>location</th>\n",
       "      <th>rating_score</th>\n",
       "      <th>rating_label</th>\n",
       "      <th>total_reviews</th>\n",
       "      <th>best_facility</th>\n",
       "      <th>best_review_score_badge</th>\n",
       "      <th>detail</th>\n",
       "      <th>couple_review</th>\n",
       "      <th>important_facility</th>\n",
       "      <th>price</th>\n",
       "    </tr>\n",
       "  </thead>\n",
       "  <tbody>\n",
       "    <tr>\n",
       "      <th>0</th>\n",
       "      <td>The Godfrey Hotel Boston</td>\n",
       "      <td>505 Washington Street, Theater District, Bosto...</td>\n",
       "      <td>8.9</td>\n",
       "      <td>Excellent</td>\n",
       "      <td>5,909 reviews</td>\n",
       "      <td>Excellent location!</td>\n",
       "      <td>9.5</td>\n",
       "      <td>Stay in the heart of Boston–Excellent location...</td>\n",
       "      <td>Couples in particular like the location – they...</td>\n",
       "      <td>Most popular amenitiesvery good Fitness Center...</td>\n",
       "      <td>$905</td>\n",
       "    </tr>\n",
       "    <tr>\n",
       "      <th>1</th>\n",
       "      <td>The Lenox</td>\n",
       "      <td>61 Exeter Street, Back Bay, Boston, MA 02116, ...</td>\n",
       "      <td>9.1</td>\n",
       "      <td>Wonderful</td>\n",
       "      <td>692 reviews</td>\n",
       "      <td>Excellent location!</td>\n",
       "      <td>9.8</td>\n",
       "      <td>Stay in the heart of Boston–Excellent location...</td>\n",
       "      <td>Couples in particular like the location – they...</td>\n",
       "      <td>Most popular amenitiesNon-smoking roomsFitness...</td>\n",
       "      <td>$1,450</td>\n",
       "    </tr>\n",
       "    <tr>\n",
       "      <th>2</th>\n",
       "      <td>Sonder No 284 Back Bay</td>\n",
       "      <td>284 Commonwealth Ave., Back Bay, Boston, MA 02...</td>\n",
       "      <td>8.6</td>\n",
       "      <td>Excellent</td>\n",
       "      <td>333 reviews</td>\n",
       "      <td>Excellent location!</td>\n",
       "      <td>9.7</td>\n",
       "      <td>Stay in the heart of Boston–Excellent location...</td>\n",
       "      <td>Couples in particular like the location – they...</td>\n",
       "      <td>Most popular amenitiesNon-smoking roomsFree Wi...</td>\n",
       "      <td>$837</td>\n",
       "    </tr>\n",
       "    <tr>\n",
       "      <th>3</th>\n",
       "      <td>Boston Marriott Long Wharf</td>\n",
       "      <td>296 State Street, Waterfront, Boston, MA 02109...</td>\n",
       "      <td>8.7</td>\n",
       "      <td>Excellent</td>\n",
       "      <td>164 reviews</td>\n",
       "      <td>Excellent location!</td>\n",
       "      <td>9.6</td>\n",
       "      <td>Stay in the heart of Boston–Excellent location...</td>\n",
       "      <td>Couples in particular like the location – they...</td>\n",
       "      <td>Most popular amenities1 swimming poolNon-smoki...</td>\n",
       "      <td>$1,618</td>\n",
       "    </tr>\n",
       "    <tr>\n",
       "      <th>4</th>\n",
       "      <td>Temple Place Suites 2+3</td>\n",
       "      <td>29 Temple Place 2nd and 3rd Floor, Theater Dis...</td>\n",
       "      <td>7.6</td>\n",
       "      <td>Good</td>\n",
       "      <td>72 reviews</td>\n",
       "      <td>Excellent location!</td>\n",
       "      <td>9.5</td>\n",
       "      <td>Stay in the heart of Boston–Excellent location...</td>\n",
       "      <td>Couples in particular like the location – they...</td>\n",
       "      <td>Most popular amenitiesNon-smoking roomsFree WiFi</td>\n",
       "      <td>$747</td>\n",
       "    </tr>\n",
       "    <tr>\n",
       "      <th>...</th>\n",
       "      <td>...</td>\n",
       "      <td>...</td>\n",
       "      <td>...</td>\n",
       "      <td>...</td>\n",
       "      <td>...</td>\n",
       "      <td>...</td>\n",
       "      <td>...</td>\n",
       "      <td>...</td>\n",
       "      <td>...</td>\n",
       "      <td>...</td>\n",
       "      <td>...</td>\n",
       "    </tr>\n",
       "    <tr>\n",
       "      <th>123</th>\n",
       "      <td>AC Hotel by Marriott Boston Downtown</td>\n",
       "      <td>225 Albany Street, South End, Boston, 02118, U...</td>\n",
       "      <td>8.1</td>\n",
       "      <td>Very Good</td>\n",
       "      <td>189 reviews</td>\n",
       "      <td>Staff</td>\n",
       "      <td>8.6</td>\n",
       "      <td>AC Hotel by Marriott Boston Downtown features ...</td>\n",
       "      <td>Couples in particular like the location – they...</td>\n",
       "      <td>Most popular amenitiesNon-smoking roomsFitness...</td>\n",
       "      <td>$1,174</td>\n",
       "    </tr>\n",
       "    <tr>\n",
       "      <th>124</th>\n",
       "      <td>Residence Inn Boston Downtown/South End</td>\n",
       "      <td>2001 Washington Street, South End, Boston, 021...</td>\n",
       "      <td>8.2</td>\n",
       "      <td>Very Good</td>\n",
       "      <td>224 reviews</td>\n",
       "      <td>Staff</td>\n",
       "      <td>8.4</td>\n",
       "      <td>Featuring a bar, Residence Inn Boston Downtown...</td>\n",
       "      <td>Couples in particular like the location – they...</td>\n",
       "      <td>Most popular amenitiesFitness centerFacilities...</td>\n",
       "      <td>$1,024</td>\n",
       "    </tr>\n",
       "    <tr>\n",
       "      <th>125</th>\n",
       "      <td>Downtown Beacon Hill, Convenient, Comfy Studio...</td>\n",
       "      <td>Beacon Hill, Boston, MA 02114, United States o...</td>\n",
       "      <td>7.6</td>\n",
       "      <td>Good</td>\n",
       "      <td>34 reviews</td>\n",
       "      <td>Excellent location!</td>\n",
       "      <td>9.5</td>\n",
       "      <td>Stay in the heart of Boston–Excellent location...</td>\n",
       "      <td>Couples in particular like the location – they...</td>\n",
       "      <td>Most popular amenitiesNon-smoking roomsFree Wi...</td>\n",
       "      <td>$835</td>\n",
       "    </tr>\n",
       "    <tr>\n",
       "      <th>126</th>\n",
       "      <td>Clarendon Square</td>\n",
       "      <td>198 West Brookline Street, South End, Boston, ...</td>\n",
       "      <td>9.6</td>\n",
       "      <td>Exceptional</td>\n",
       "      <td>17 reviews</td>\n",
       "      <td>Staff</td>\n",
       "      <td>9.7</td>\n",
       "      <td>Stay in the heart of Boston–Excellent location...</td>\n",
       "      <td>Couples in particular like the location – they...</td>\n",
       "      <td>Most popular amenitiesNon-smoking roomsFree Wi...</td>\n",
       "      <td>$1,759</td>\n",
       "    </tr>\n",
       "    <tr>\n",
       "      <th>127</th>\n",
       "      <td>Cozy Furnished Studio in Beacon Hill #4</td>\n",
       "      <td>Beacon Hill, Boston, MA 02114, United States o...</td>\n",
       "      <td>7.5</td>\n",
       "      <td>Good</td>\n",
       "      <td>28 reviews</td>\n",
       "      <td>Excellent location!</td>\n",
       "      <td>9.4</td>\n",
       "      <td>Stay in the heart of Boston–Excellent location...</td>\n",
       "      <td>Couples in particular like the location – they...</td>\n",
       "      <td>Most popular amenitiesNon-smoking roomsFree Wi...</td>\n",
       "      <td>$835</td>\n",
       "    </tr>\n",
       "  </tbody>\n",
       "</table>\n",
       "<p>128 rows × 11 columns</p>\n",
       "</div>"
      ],
      "text/plain": [
       "                                           hotel_label  \\\n",
       "0                             The Godfrey Hotel Boston   \n",
       "1                                            The Lenox   \n",
       "2                               Sonder No 284 Back Bay   \n",
       "3                           Boston Marriott Long Wharf   \n",
       "4                              Temple Place Suites 2+3   \n",
       "..                                                 ...   \n",
       "123               AC Hotel by Marriott Boston Downtown   \n",
       "124            Residence Inn Boston Downtown/South End   \n",
       "125  Downtown Beacon Hill, Convenient, Comfy Studio...   \n",
       "126                                   Clarendon Square   \n",
       "127            Cozy Furnished Studio in Beacon Hill #4   \n",
       "\n",
       "                                              location rating_score  \\\n",
       "0    505 Washington Street, Theater District, Bosto...          8.9   \n",
       "1    61 Exeter Street, Back Bay, Boston, MA 02116, ...          9.1   \n",
       "2    284 Commonwealth Ave., Back Bay, Boston, MA 02...          8.6   \n",
       "3    296 State Street, Waterfront, Boston, MA 02109...          8.7   \n",
       "4    29 Temple Place 2nd and 3rd Floor, Theater Dis...          7.6   \n",
       "..                                                 ...          ...   \n",
       "123  225 Albany Street, South End, Boston, 02118, U...          8.1   \n",
       "124  2001 Washington Street, South End, Boston, 021...          8.2   \n",
       "125  Beacon Hill, Boston, MA 02114, United States o...          7.6   \n",
       "126  198 West Brookline Street, South End, Boston, ...          9.6   \n",
       "127  Beacon Hill, Boston, MA 02114, United States o...          7.5   \n",
       "\n",
       "     rating_label  total_reviews        best_facility best_review_score_badge  \\\n",
       "0      Excellent   5,909 reviews  Excellent location!                     9.5   \n",
       "1      Wonderful     692 reviews  Excellent location!                     9.8   \n",
       "2      Excellent     333 reviews  Excellent location!                     9.7   \n",
       "3      Excellent     164 reviews  Excellent location!                     9.6   \n",
       "4           Good      72 reviews  Excellent location!                     9.5   \n",
       "..            ...            ...                  ...                     ...   \n",
       "123    Very Good     189 reviews                Staff                     8.6   \n",
       "124    Very Good     224 reviews                Staff                     8.4   \n",
       "125         Good      34 reviews  Excellent location!                     9.5   \n",
       "126  Exceptional      17 reviews                Staff                     9.7   \n",
       "127         Good      28 reviews  Excellent location!                     9.4   \n",
       "\n",
       "                                                detail  \\\n",
       "0    Stay in the heart of Boston–Excellent location...   \n",
       "1    Stay in the heart of Boston–Excellent location...   \n",
       "2    Stay in the heart of Boston–Excellent location...   \n",
       "3    Stay in the heart of Boston–Excellent location...   \n",
       "4    Stay in the heart of Boston–Excellent location...   \n",
       "..                                                 ...   \n",
       "123  AC Hotel by Marriott Boston Downtown features ...   \n",
       "124  Featuring a bar, Residence Inn Boston Downtown...   \n",
       "125  Stay in the heart of Boston–Excellent location...   \n",
       "126  Stay in the heart of Boston–Excellent location...   \n",
       "127  Stay in the heart of Boston–Excellent location...   \n",
       "\n",
       "                                         couple_review  \\\n",
       "0    Couples in particular like the location – they...   \n",
       "1    Couples in particular like the location – they...   \n",
       "2    Couples in particular like the location – they...   \n",
       "3    Couples in particular like the location – they...   \n",
       "4    Couples in particular like the location – they...   \n",
       "..                                                 ...   \n",
       "123  Couples in particular like the location – they...   \n",
       "124  Couples in particular like the location – they...   \n",
       "125  Couples in particular like the location – they...   \n",
       "126  Couples in particular like the location – they...   \n",
       "127  Couples in particular like the location – they...   \n",
       "\n",
       "                                    important_facility   price  \n",
       "0    Most popular amenitiesvery good Fitness Center...    $905  \n",
       "1    Most popular amenitiesNon-smoking roomsFitness...  $1,450  \n",
       "2    Most popular amenitiesNon-smoking roomsFree Wi...    $837  \n",
       "3    Most popular amenities1 swimming poolNon-smoki...  $1,618  \n",
       "4     Most popular amenitiesNon-smoking roomsFree WiFi    $747  \n",
       "..                                                 ...     ...  \n",
       "123  Most popular amenitiesNon-smoking roomsFitness...  $1,174  \n",
       "124  Most popular amenitiesFitness centerFacilities...  $1,024  \n",
       "125  Most popular amenitiesNon-smoking roomsFree Wi...    $835  \n",
       "126  Most popular amenitiesNon-smoking roomsFree Wi...  $1,759  \n",
       "127  Most popular amenitiesNon-smoking roomsFree Wi...    $835  \n",
       "\n",
       "[128 rows x 11 columns]"
      ]
     },
     "execution_count": 73,
     "metadata": {},
     "output_type": "execute_result"
    }
   ],
   "source": [
    "df"
   ]
  },
  {
   "cell_type": "markdown",
   "id": "40014862",
   "metadata": {},
   "source": [
    "# need to put the clean code here like remove the \\n from both side and all then run last one for getting the data into csv"
   ]
  },
  {
   "cell_type": "code",
   "execution_count": 74,
   "id": "623874b5",
   "metadata": {},
   "outputs": [],
   "source": [
    "df.to_csv('Boston.csv')"
   ]
  },
  {
   "cell_type": "code",
   "execution_count": null,
   "id": "47921d3a",
   "metadata": {},
   "outputs": [],
   "source": []
  },
  {
   "cell_type": "code",
   "execution_count": null,
   "id": "255c789a",
   "metadata": {},
   "outputs": [],
   "source": []
  },
  {
   "cell_type": "code",
   "execution_count": null,
   "id": "b81c76de",
   "metadata": {},
   "outputs": [],
   "source": []
  }
 ],
 "metadata": {
  "kernelspec": {
   "display_name": "Python 3 (ipykernel)",
   "language": "python",
   "name": "python3"
  },
  "language_info": {
   "codemirror_mode": {
    "name": "ipython",
    "version": 3
   },
   "file_extension": ".py",
   "mimetype": "text/x-python",
   "name": "python",
   "nbconvert_exporter": "python",
   "pygments_lexer": "ipython3",
   "version": "3.9.12"
  },
  "vscode": {
   "interpreter": {
    "hash": "f9ea14177cf1887d905bcc4c1741a4f85872cff7a55682a2e2830df8b8b1f9cd"
   }
  }
 },
 "nbformat": 4,
 "nbformat_minor": 5
}

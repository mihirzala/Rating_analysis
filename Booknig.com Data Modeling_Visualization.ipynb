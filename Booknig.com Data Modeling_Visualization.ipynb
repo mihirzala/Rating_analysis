{
 "cells": [
  {
   "cell_type": "markdown",
   "id": "2fc6dd78",
   "metadata": {},
   "source": [
    "## building a  predictive model in python of above given dataset of booking.com"
   ]
  },
  {
   "cell_type": "code",
   "execution_count": null,
   "id": "00f10ce1",
   "metadata": {},
   "outputs": [],
   "source": [
    "import pandas as pd\n",
    "import numpy as np\n",
    "from sklearn.model_selection import train_test_split\n",
    "from sklearn.linear_model import LinearRegression\n",
    "from sklearn.metrics import mean_squared_error, r2_score\n",
    "\n",
    "\n",
    "# Read the data\n",
    "data = pd.read_csv('booking_data.csv')\n",
    "\n",
    "# Split the data into features and target\n",
    "X = data.drop(['price'], axis=1)\n",
    "y = data['price']\n",
    "\n",
    "# Split the data into training and test sets\n",
    "X_train, X_test, y_train, y_test = train_test_split(X, y, test_size=0.2, random_state=42)\n",
    "\n",
    "# Create the model and fit it to the training data\n",
    "model = LinearRegression()\n",
    "model.fit(X_train, y_train)\n",
    "\n",
    "# Make predictions using the test data\n",
    "y_pred = model.predict(X_test)\n",
    "\n",
    "# Calculate the mean squared error and r2 score\n",
    "mse = mean_squared_error(y_test, y_pred)\n",
    "r2 = r2_score(y_test, y_pred)\n",
    "\n",
    "# Print the results\n",
    "print('Mean Squared Error:', mse)\n",
    "print('R2 Score:', r2)"
   ]
  },
  {
   "cell_type": "markdown",
   "id": "e5ebbf4d",
   "metadata": {},
   "source": [
    "## perform model evalution on above predicitvie model"
   ]
  },
  {
   "cell_type": "code",
   "execution_count": null,
   "id": "03fea861",
   "metadata": {},
   "outputs": [],
   "source": [
    "from sklearn.metrics import mean_absolute_error, mean_squared_error, r2_score\n",
    "\n",
    "# Calculate the mean absolute error\n",
    "mae = mean_absolute_error(y_test, y_pred)\n",
    "\n",
    "# Calculate the root mean squared error\n",
    "rmse = np.sqrt(mean_squared_error(y_test, y_pred))\n",
    "\n",
    "# Calculate the r2 score\n",
    "r2 = r2_score(y_test, y_pred)\n",
    "\n",
    "# Print the results\n",
    "print('Mean Absolute Error:', mae)\n",
    "print('Root Mean Squared Error:', rmse)\n",
    "print('R2 Score:', r2)"
   ]
  },
  {
   "cell_type": "markdown",
   "id": "35cb2c15",
   "metadata": {},
   "source": [
    "## perform Data visulization in python for the above dataset "
   ]
  },
  {
   "cell_type": "code",
   "execution_count": null,
   "id": "c7513414",
   "metadata": {},
   "outputs": [],
   "source": [
    "import pandas as pd\n",
    "import matplotlib.pyplot as plt\n",
    "\n",
    "# Read the data into a pandas DataFrame.\n",
    "df = pd.read_csv('hotel_data.csv')\n",
    "\n",
    "# Create a bar chart showing the rating score of each hotel.\n",
    "plt.bar(df['hotel_label'], df['rating_score'])\n",
    "plt.title('Rating Score of Each Hotel')\n",
    "plt.xlabel('Hotel Label')\n",
    "plt.ylabel('Rating Score')\n",
    "plt.show()\n",
    "\n",
    "# Create a pie chart showing the total reviews of each hotel.\n",
    "plt.pie(df['total_reviews'], labels=df['hotel_label'])\n",
    "plt.title('Total Reviews of Each Hotel')\n",
    "plt.show()\n",
    "\n",
    "# Create a scatter plot showing the price of each hotel.\n",
    "plt.scatter(df['hotel_label'], df['price'])\n",
    "plt.title('Price of Each Hotel')\n",
    "plt.xlabel('Hotel Label')\n",
    "plt.ylabel('Price')\n",
    "plt.show()"
   ]
  }
 ],
 "metadata": {
  "kernelspec": {
   "display_name": "Python 3 (ipykernel)",
   "language": "python",
   "name": "python3"
  },
  "language_info": {
   "codemirror_mode": {
    "name": "ipython",
    "version": 3
   },
   "file_extension": ".py",
   "mimetype": "text/x-python",
   "name": "python",
   "nbconvert_exporter": "python",
   "pygments_lexer": "ipython3",
   "version": "3.9.12"
  }
 },
 "nbformat": 4,
 "nbformat_minor": 5
}

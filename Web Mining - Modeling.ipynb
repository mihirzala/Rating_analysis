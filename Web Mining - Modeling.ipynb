{
 "cells": [
  {
   "cell_type": "code",
   "execution_count": 1,
   "id": "eeec0a83",
   "metadata": {},
   "outputs": [],
   "source": [
    "import matplotlib.pyplot as plt\n",
    "import pandas as pd\n",
    "import numpy as np"
   ]
  },
  {
   "cell_type": "code",
   "execution_count": 67,
   "id": "605aa4b3",
   "metadata": {},
   "outputs": [],
   "source": [
    "from sklearn.preprocessing import StandardScaler\n",
    "from sklearn.model_selection import train_test_split\n",
    "from sklearn.metrics import roc_curve, auc\n",
    "from sklearn.metrics import confusion_matrix\n",
    "from sklearn.linear_model import LogisticRegression, LinearRegression\n",
    "from sklearn.metrics import classification_report\n",
    "from sklearn import linear_model\n",
    "from sklearn.linear_model import Ridge,ElasticNet\n",
    "from sklearn.metrics import r2_score\n",
    "from sklearn.neural_network import MLPRegressor\n",
    "from sklearn import svm\n",
    "from sklearn.ensemble import RandomForestRegressor\n",
    "from sklearn.linear_model import SGDRegressor\n",
    "from sklearn.neighbors import KNeighborsRegressor"
   ]
  },
  {
   "cell_type": "code",
   "execution_count": 68,
   "id": "cf41d07d",
   "metadata": {},
   "outputs": [],
   "source": [
    "df = pd.read_csv('../data-14.csv', engine='python')"
   ]
  },
  {
   "cell_type": "code",
   "execution_count": null,
   "id": "ac984bdc",
   "metadata": {},
   "outputs": [],
   "source": [
    "df.groupby('rating_label')['rating_label'].agg(['count'])"
   ]
  },
  {
   "cell_type": "code",
   "execution_count": 71,
   "id": "939c2ddf-1925-41c4-a377-1ec9f86c762c",
   "metadata": {},
   "outputs": [],
   "source": [
    "df.rating_label = df.rating_label.str.strip()"
   ]
  },
  {
   "cell_type": "code",
   "execution_count": 72,
   "id": "450607f8",
   "metadata": {},
   "outputs": [],
   "source": [
    "df['rating_label'] = df['rating_label'].replace(['Excellent','Exceptional','Pleasant','Very Good','Wonderful','Good','Fair'],\n",
    "                        [7, 6, 5, 4, 3, 2, 1])"
   ]
  },
  {
   "cell_type": "code",
   "execution_count": 76,
   "id": "0643c620-9b60-432f-bb6c-56f5029f447e",
   "metadata": {},
   "outputs": [],
   "source": [
    "df.total_reviews = df.total_reviews.apply(lambda x: x.replace('reviews', '').replace(',', ''))"
   ]
  },
  {
   "cell_type": "code",
   "execution_count": 77,
   "id": "805f6764-1922-429a-859b-18cbbaabbf4c",
   "metadata": {},
   "outputs": [],
   "source": [
    "df.total_reviews = df.total_reviews.astype('int64')"
   ]
  },
  {
   "cell_type": "code",
   "execution_count": 79,
   "id": "3f10d022-9999-4938-82fe-2bc7ecd08fa7",
   "metadata": {},
   "outputs": [
    {
     "data": {
      "text/plain": [
       "'Couples in particular like the location – they rated it 10 for a two-person trip.'"
      ]
     },
     "execution_count": 79,
     "metadata": {},
     "output_type": "execute_result"
    }
   ],
   "source": [
    "df[df.couple_review.str.len() == 81]['couple_review'][411]"
   ]
  },
  {
   "cell_type": "code",
   "execution_count": 80,
   "id": "ec709500-9099-40f6-9242-c4636cab4880",
   "metadata": {},
   "outputs": [],
   "source": [
    "df['couple_review_rating'] = df.couple_review.apply(lambda x: x.split()[10])"
   ]
  },
  {
   "cell_type": "code",
   "execution_count": 81,
   "id": "1999e8b9-cb1b-496c-9184-d5dd35b6ebd9",
   "metadata": {},
   "outputs": [],
   "source": [
    "df.couple_review_rating = df.couple_review_rating.astype('float64')"
   ]
  },
  {
   "cell_type": "code",
   "execution_count": 82,
   "id": "d44ae755-8c7c-4dc2-a64e-a3af9bb2767d",
   "metadata": {},
   "outputs": [],
   "source": [
    "for col in ['very_good_Fitness_Center', 'WiFi',\n",
    "       'non-smoking_rooms', 'swimming_Pool', 'disabled_guest', 'Room Service',\n",
    "       'parking', 'bar', 'tea/coffee maker', 'breakfast', 'spa',]:\n",
    "    df[col] = df[col].astype(int)"
   ]
  },
  {
   "cell_type": "code",
   "execution_count": 83,
   "id": "4a4c019d-e755-4657-b417-0fb8ef37d8cd",
   "metadata": {},
   "outputs": [
    {
     "data": {
      "text/plain": [
       "hotel_label                  object\n",
       "City                         object\n",
       "rating_score                float64\n",
       "rating_label                  int64\n",
       "total_reviews                 int64\n",
       "best_facility                object\n",
       "best_review_score_badge     float64\n",
       "detail                       object\n",
       "couple_review                object\n",
       "important_facility           object\n",
       "price                        object\n",
       "very_good_Fitness_Center      int64\n",
       "WiFi                          int64\n",
       "non-smoking_rooms             int64\n",
       "swimming_Pool                 int64\n",
       "disabled_guest                int64\n",
       "Room Service                  int64\n",
       "parking                       int64\n",
       "bar                           int64\n",
       "tea/coffee maker              int64\n",
       "breakfast                     int64\n",
       "spa                           int64\n",
       "couple_review_rating        float64\n",
       "dtype: object"
      ]
     },
     "execution_count": 83,
     "metadata": {},
     "output_type": "execute_result"
    }
   ],
   "source": [
    "df.dtypes"
   ]
  },
  {
   "cell_type": "code",
   "execution_count": 122,
   "id": "3cac8a57-c7ea-4e58-b0ed-dd9cdfe1536f",
   "metadata": {},
   "outputs": [
    {
     "data": {
      "text/html": [
       "<div>\n",
       "<style scoped>\n",
       "    .dataframe tbody tr th:only-of-type {\n",
       "        vertical-align: middle;\n",
       "    }\n",
       "\n",
       "    .dataframe tbody tr th {\n",
       "        vertical-align: top;\n",
       "    }\n",
       "\n",
       "    .dataframe thead th {\n",
       "        text-align: right;\n",
       "    }\n",
       "</style>\n",
       "<table border=\"1\" class=\"dataframe\">\n",
       "  <thead>\n",
       "    <tr style=\"text-align: right;\">\n",
       "      <th></th>\n",
       "      <th>rating_score</th>\n",
       "      <th>rating_label</th>\n",
       "      <th>total_reviews</th>\n",
       "      <th>best_review_score_badge</th>\n",
       "      <th>very_good_Fitness_Center</th>\n",
       "      <th>WiFi</th>\n",
       "      <th>non-smoking_rooms</th>\n",
       "      <th>swimming_Pool</th>\n",
       "      <th>disabled_guest</th>\n",
       "      <th>Room Service</th>\n",
       "      <th>parking</th>\n",
       "      <th>bar</th>\n",
       "      <th>tea/coffee maker</th>\n",
       "      <th>breakfast</th>\n",
       "      <th>spa</th>\n",
       "      <th>couple_review_rating</th>\n",
       "    </tr>\n",
       "  </thead>\n",
       "  <tbody>\n",
       "    <tr>\n",
       "      <th>0</th>\n",
       "      <td>0.553191</td>\n",
       "      <td>0.166667</td>\n",
       "      <td>0.407585</td>\n",
       "      <td>0.629630</td>\n",
       "      <td>0</td>\n",
       "      <td>1</td>\n",
       "      <td>0</td>\n",
       "      <td>1</td>\n",
       "      <td>1</td>\n",
       "      <td>1</td>\n",
       "      <td>0</td>\n",
       "      <td>0</td>\n",
       "      <td>0</td>\n",
       "      <td>0</td>\n",
       "      <td>0</td>\n",
       "      <td>0.50</td>\n",
       "    </tr>\n",
       "    <tr>\n",
       "      <th>1</th>\n",
       "      <td>0.489362</td>\n",
       "      <td>0.166667</td>\n",
       "      <td>0.825732</td>\n",
       "      <td>0.333333</td>\n",
       "      <td>1</td>\n",
       "      <td>1</td>\n",
       "      <td>0</td>\n",
       "      <td>1</td>\n",
       "      <td>1</td>\n",
       "      <td>0</td>\n",
       "      <td>0</td>\n",
       "      <td>0</td>\n",
       "      <td>0</td>\n",
       "      <td>0</td>\n",
       "      <td>1</td>\n",
       "      <td>0.10</td>\n",
       "    </tr>\n",
       "    <tr>\n",
       "      <th>2</th>\n",
       "      <td>0.765957</td>\n",
       "      <td>1.000000</td>\n",
       "      <td>0.008161</td>\n",
       "      <td>0.592593</td>\n",
       "      <td>0</td>\n",
       "      <td>1</td>\n",
       "      <td>0</td>\n",
       "      <td>1</td>\n",
       "      <td>1</td>\n",
       "      <td>0</td>\n",
       "      <td>1</td>\n",
       "      <td>0</td>\n",
       "      <td>0</td>\n",
       "      <td>0</td>\n",
       "      <td>0</td>\n",
       "      <td>0.35</td>\n",
       "    </tr>\n",
       "    <tr>\n",
       "      <th>3</th>\n",
       "      <td>0.787234</td>\n",
       "      <td>1.000000</td>\n",
       "      <td>0.052328</td>\n",
       "      <td>0.629630</td>\n",
       "      <td>0</td>\n",
       "      <td>0</td>\n",
       "      <td>0</td>\n",
       "      <td>1</td>\n",
       "      <td>1</td>\n",
       "      <td>1</td>\n",
       "      <td>0</td>\n",
       "      <td>0</td>\n",
       "      <td>0</td>\n",
       "      <td>1</td>\n",
       "      <td>1</td>\n",
       "      <td>0.50</td>\n",
       "    </tr>\n",
       "    <tr>\n",
       "      <th>4</th>\n",
       "      <td>0.361702</td>\n",
       "      <td>0.666667</td>\n",
       "      <td>0.003094</td>\n",
       "      <td>0.222222</td>\n",
       "      <td>0</td>\n",
       "      <td>1</td>\n",
       "      <td>0</td>\n",
       "      <td>1</td>\n",
       "      <td>0</td>\n",
       "      <td>0</td>\n",
       "      <td>1</td>\n",
       "      <td>0</td>\n",
       "      <td>0</td>\n",
       "      <td>0</td>\n",
       "      <td>0</td>\n",
       "      <td>0.05</td>\n",
       "    </tr>\n",
       "    <tr>\n",
       "      <th>...</th>\n",
       "      <td>...</td>\n",
       "      <td>...</td>\n",
       "      <td>...</td>\n",
       "      <td>...</td>\n",
       "      <td>...</td>\n",
       "      <td>...</td>\n",
       "      <td>...</td>\n",
       "      <td>...</td>\n",
       "      <td>...</td>\n",
       "      <td>...</td>\n",
       "      <td>...</td>\n",
       "      <td>...</td>\n",
       "      <td>...</td>\n",
       "      <td>...</td>\n",
       "      <td>...</td>\n",
       "      <td>...</td>\n",
       "    </tr>\n",
       "    <tr>\n",
       "      <th>1507</th>\n",
       "      <td>0.617021</td>\n",
       "      <td>0.500000</td>\n",
       "      <td>0.009548</td>\n",
       "      <td>0.481481</td>\n",
       "      <td>0</td>\n",
       "      <td>1</td>\n",
       "      <td>0</td>\n",
       "      <td>0</td>\n",
       "      <td>1</td>\n",
       "      <td>0</td>\n",
       "      <td>0</td>\n",
       "      <td>0</td>\n",
       "      <td>0</td>\n",
       "      <td>1</td>\n",
       "      <td>0</td>\n",
       "      <td>0.00</td>\n",
       "    </tr>\n",
       "    <tr>\n",
       "      <th>1508</th>\n",
       "      <td>0.638298</td>\n",
       "      <td>0.500000</td>\n",
       "      <td>0.011415</td>\n",
       "      <td>0.407407</td>\n",
       "      <td>0</td>\n",
       "      <td>1</td>\n",
       "      <td>0</td>\n",
       "      <td>0</td>\n",
       "      <td>1</td>\n",
       "      <td>0</td>\n",
       "      <td>0</td>\n",
       "      <td>0</td>\n",
       "      <td>0</td>\n",
       "      <td>1</td>\n",
       "      <td>0</td>\n",
       "      <td>0.00</td>\n",
       "    </tr>\n",
       "    <tr>\n",
       "      <th>1509</th>\n",
       "      <td>0.510638</td>\n",
       "      <td>0.166667</td>\n",
       "      <td>0.001280</td>\n",
       "      <td>0.814815</td>\n",
       "      <td>0</td>\n",
       "      <td>1</td>\n",
       "      <td>0</td>\n",
       "      <td>0</td>\n",
       "      <td>0</td>\n",
       "      <td>0</td>\n",
       "      <td>0</td>\n",
       "      <td>0</td>\n",
       "      <td>0</td>\n",
       "      <td>0</td>\n",
       "      <td>0</td>\n",
       "      <td>0.85</td>\n",
       "    </tr>\n",
       "    <tr>\n",
       "      <th>1510</th>\n",
       "      <td>0.936170</td>\n",
       "      <td>0.833333</td>\n",
       "      <td>0.000373</td>\n",
       "      <td>0.888889</td>\n",
       "      <td>0</td>\n",
       "      <td>1</td>\n",
       "      <td>0</td>\n",
       "      <td>0</td>\n",
       "      <td>0</td>\n",
       "      <td>0</td>\n",
       "      <td>0</td>\n",
       "      <td>0</td>\n",
       "      <td>0</td>\n",
       "      <td>0</td>\n",
       "      <td>0</td>\n",
       "      <td>1.00</td>\n",
       "    </tr>\n",
       "    <tr>\n",
       "      <th>1511</th>\n",
       "      <td>0.489362</td>\n",
       "      <td>0.166667</td>\n",
       "      <td>0.000960</td>\n",
       "      <td>0.777778</td>\n",
       "      <td>0</td>\n",
       "      <td>1</td>\n",
       "      <td>0</td>\n",
       "      <td>0</td>\n",
       "      <td>0</td>\n",
       "      <td>0</td>\n",
       "      <td>0</td>\n",
       "      <td>0</td>\n",
       "      <td>0</td>\n",
       "      <td>0</td>\n",
       "      <td>0</td>\n",
       "      <td>0.75</td>\n",
       "    </tr>\n",
       "  </tbody>\n",
       "</table>\n",
       "<p>1512 rows × 16 columns</p>\n",
       "</div>"
      ],
      "text/plain": [
       "      rating_score  rating_label  total_reviews  best_review_score_badge  \\\n",
       "0         0.553191      0.166667       0.407585                 0.629630   \n",
       "1         0.489362      0.166667       0.825732                 0.333333   \n",
       "2         0.765957      1.000000       0.008161                 0.592593   \n",
       "3         0.787234      1.000000       0.052328                 0.629630   \n",
       "4         0.361702      0.666667       0.003094                 0.222222   \n",
       "...            ...           ...            ...                      ...   \n",
       "1507      0.617021      0.500000       0.009548                 0.481481   \n",
       "1508      0.638298      0.500000       0.011415                 0.407407   \n",
       "1509      0.510638      0.166667       0.001280                 0.814815   \n",
       "1510      0.936170      0.833333       0.000373                 0.888889   \n",
       "1511      0.489362      0.166667       0.000960                 0.777778   \n",
       "\n",
       "      very_good_Fitness_Center  WiFi  non-smoking_rooms  swimming_Pool  \\\n",
       "0                            0     1                  0              1   \n",
       "1                            1     1                  0              1   \n",
       "2                            0     1                  0              1   \n",
       "3                            0     0                  0              1   \n",
       "4                            0     1                  0              1   \n",
       "...                        ...   ...                ...            ...   \n",
       "1507                         0     1                  0              0   \n",
       "1508                         0     1                  0              0   \n",
       "1509                         0     1                  0              0   \n",
       "1510                         0     1                  0              0   \n",
       "1511                         0     1                  0              0   \n",
       "\n",
       "      disabled_guest  Room Service  parking  bar  tea/coffee maker  breakfast  \\\n",
       "0                  1             1        0    0                 0          0   \n",
       "1                  1             0        0    0                 0          0   \n",
       "2                  1             0        1    0                 0          0   \n",
       "3                  1             1        0    0                 0          1   \n",
       "4                  0             0        1    0                 0          0   \n",
       "...              ...           ...      ...  ...               ...        ...   \n",
       "1507               1             0        0    0                 0          1   \n",
       "1508               1             0        0    0                 0          1   \n",
       "1509               0             0        0    0                 0          0   \n",
       "1510               0             0        0    0                 0          0   \n",
       "1511               0             0        0    0                 0          0   \n",
       "\n",
       "      spa  couple_review_rating  \n",
       "0       0                  0.50  \n",
       "1       1                  0.10  \n",
       "2       0                  0.35  \n",
       "3       1                  0.50  \n",
       "4       0                  0.05  \n",
       "...   ...                   ...  \n",
       "1507    0                  0.00  \n",
       "1508    0                  0.00  \n",
       "1509    0                  0.85  \n",
       "1510    0                  1.00  \n",
       "1511    0                  0.75  \n",
       "\n",
       "[1512 rows x 16 columns]"
      ]
     },
     "execution_count": 122,
     "metadata": {},
     "output_type": "execute_result"
    }
   ],
   "source": [
    "df"
   ]
  },
  {
   "cell_type": "code",
   "execution_count": 84,
   "id": "3eca522f-eeb4-4395-a6ba-5fb4f7e9a85e",
   "metadata": {},
   "outputs": [],
   "source": [
    "df.drop(['hotel_label', 'City', 'important_facility','detail','best_facility', 'couple_review', 'price'], axis=1, inplace=True)"
   ]
  },
  {
   "cell_type": "code",
   "execution_count": 85,
   "id": "c34bdc2a-8a7c-4dc0-bcfd-1360ffc268ce",
   "metadata": {},
   "outputs": [
    {
     "data": {
      "text/plain": [
       "Index(['rating_score', 'rating_label', 'total_reviews',\n",
       "       'best_review_score_badge', 'very_good_Fitness_Center', 'WiFi',\n",
       "       'non-smoking_rooms', 'swimming_Pool', 'disabled_guest', 'Room Service',\n",
       "       'parking', 'bar', 'tea/coffee maker', 'breakfast', 'spa',\n",
       "       'couple_review_rating'],\n",
       "      dtype='object')"
      ]
     },
     "execution_count": 85,
     "metadata": {},
     "output_type": "execute_result"
    }
   ],
   "source": [
    "df.columns"
   ]
  },
  {
   "cell_type": "code",
   "execution_count": 86,
   "id": "9916468d-8a2d-4e2a-8f8d-b830d6e86917",
   "metadata": {},
   "outputs": [],
   "source": [
    "for col in ['rating_score', 'rating_label', 'total_reviews',\n",
    "       'best_review_score_badge', 'couple_review_rating']:\n",
    "    df[col] = (df[col] - df[col].min()) / (df[col].max() - df[col].min())"
   ]
  },
  {
   "cell_type": "code",
   "execution_count": 87,
   "id": "cfd9fcb8-cea0-4ee4-8314-7d181bb7dafd",
   "metadata": {},
   "outputs": [],
   "source": [
    "X = df.drop('rating_score', axis=1)"
   ]
  },
  {
   "cell_type": "code",
   "execution_count": 88,
   "id": "343bfc26-24aa-4afb-ab01-0a560851de9d",
   "metadata": {},
   "outputs": [],
   "source": [
    "Y = df['rating_score']"
   ]
  },
  {
   "cell_type": "code",
   "execution_count": 89,
   "id": "e5dcdebb",
   "metadata": {},
   "outputs": [],
   "source": [
    "X_train, X_test, y_train, y_test = train_test_split(X,Y, test_size=0.25, random_state=123)"
   ]
  },
  {
   "cell_type": "code",
   "execution_count": 90,
   "id": "f032a58d",
   "metadata": {},
   "outputs": [
    {
     "data": {
      "text/plain": [
       "((1134, 15), (1134,))"
      ]
     },
     "execution_count": 90,
     "metadata": {},
     "output_type": "execute_result"
    }
   ],
   "source": [
    "X_train.shape, y_train.shape"
   ]
  },
  {
   "cell_type": "code",
   "execution_count": 91,
   "id": "1ac2bd1e",
   "metadata": {},
   "outputs": [
    {
     "data": {
      "text/plain": [
       "((378, 15), (378,))"
      ]
     },
     "execution_count": 91,
     "metadata": {},
     "output_type": "execute_result"
    }
   ],
   "source": [
    "X_test.shape, y_test.shape"
   ]
  },
  {
   "cell_type": "raw",
   "id": "a0dc81b6-9ec4-4b9f-a4ea-369cee40b7ab",
   "metadata": {},
   "source": [
    "scaler = StandardScaler()\n",
    "X = pd.DataFrame(scaler.fit_transform(X_train), columns=list(X_train.columns))\n",
    "X.head()"
   ]
  },
  {
   "cell_type": "code",
   "execution_count": 92,
   "id": "3da7b89f",
   "metadata": {},
   "outputs": [
    {
     "data": {
      "text/plain": [
       "LinearRegression()"
      ]
     },
     "execution_count": 92,
     "metadata": {},
     "output_type": "execute_result"
    }
   ],
   "source": [
    "clf = LinearRegression()\n",
    "clf.fit(X_train,y_train)"
   ]
  },
  {
   "cell_type": "code",
   "execution_count": 93,
   "id": "6fa0ca24",
   "metadata": {},
   "outputs": [],
   "source": [
    "y_pred_train = clf.predict(X_train)\n",
    "y_pred_test = clf.predict(X_test)"
   ]
  },
  {
   "cell_type": "code",
   "execution_count": 94,
   "id": "776ad10d",
   "metadata": {},
   "outputs": [
    {
     "name": "stdout",
     "output_type": "stream",
     "text": [
      "Linear regression accuracy for training set: 53.974%\n",
      "Linear regression accuracy for test set: 49.971%\n"
     ]
    }
   ],
   "source": [
    "print(\"Linear regression accuracy for training set: {}%\".format(round(clf.score(X_train, y_train),5) *100))\n",
    "print(\"Linear regression accuracy for test set: {}%\".format(round(clf.score(X_test, y_test),5) *100))"
   ]
  },
  {
   "cell_type": "code",
   "execution_count": 95,
   "id": "6eebb9ed-adbb-4723-bc82-ec42e9c409e8",
   "metadata": {},
   "outputs": [],
   "source": [
    "regr = MLPRegressor(learning_rate=\"adaptive\", hidden_layer_sizes=1000, random_state=1, max_iter=500, solver=\"lbfgs\",\n",
    "                   learning_rate_init=0.01)"
   ]
  },
  {
   "cell_type": "code",
   "execution_count": 96,
   "id": "62456a60-3f80-44b3-8380-ed19385d55dd",
   "metadata": {},
   "outputs": [
    {
     "data": {
      "text/plain": [
       "MLPRegressor(hidden_layer_sizes=1000, learning_rate='adaptive',\n",
       "             learning_rate_init=0.01, max_iter=500, random_state=1,\n",
       "             solver='lbfgs')"
      ]
     },
     "execution_count": 96,
     "metadata": {},
     "output_type": "execute_result"
    }
   ],
   "source": [
    "regr.fit(X_train, y_train)"
   ]
  },
  {
   "cell_type": "code",
   "execution_count": 97,
   "id": "ecffc7d2-d282-474f-9e4c-93aabc5b6a1b",
   "metadata": {},
   "outputs": [],
   "source": [
    "y_pred_train = clf.predict(X_train)\n",
    "y_pred_test = clf.predict(X_test)"
   ]
  },
  {
   "cell_type": "code",
   "execution_count": 98,
   "id": "d456ae33-dc04-4a5a-9399-b529c65bd777",
   "metadata": {},
   "outputs": [
    {
     "name": "stdout",
     "output_type": "stream",
     "text": [
      "Multi-layer Perceptron regressor accuracy for training set: 96.104%\n",
      "Multi-layer Perceptron regressor accuracy for test set: 76.626%\n"
     ]
    }
   ],
   "source": [
    "print(\"Multi-layer Perceptron regressor accuracy for training set: {}%\".format(round(regr.score(X_train, y_train),5) *100))\n",
    "print(\"Multi-layer Perceptron regressor accuracy for test set: {}%\".format(round(regr.score(X_test, y_test),5) *100))"
   ]
  },
  {
   "cell_type": "code",
   "execution_count": 99,
   "id": "cc4ea3ea-904a-47f0-8435-5b42894921b0",
   "metadata": {},
   "outputs": [
    {
     "data": {
      "text/plain": [
       "SVR()"
      ]
     },
     "execution_count": 99,
     "metadata": {},
     "output_type": "execute_result"
    }
   ],
   "source": [
    "clf = svm.SVR()\n",
    "clf.fit(X_train,y_train)"
   ]
  },
  {
   "cell_type": "code",
   "execution_count": 106,
   "id": "05270a25-1eee-4b8a-9c78-c37b9808d077",
   "metadata": {},
   "outputs": [],
   "source": [
    "y_pred_train = clf.predict(X_train)\n",
    "y_pred_test = clf.predict(X_test)"
   ]
  },
  {
   "cell_type": "code",
   "execution_count": 107,
   "id": "1f428a65-ba9e-4a95-ba5c-634ae1b82218",
   "metadata": {},
   "outputs": [],
   "source": [
    "score = r2_score(y_test, y_pred_test)"
   ]
  },
  {
   "cell_type": "code",
   "execution_count": 108,
   "id": "ea5a1e9a-8d1a-4d43-8c83-46aaf9fa52d9",
   "metadata": {},
   "outputs": [
    {
     "name": "stdout",
     "output_type": "stream",
     "text": [
      "Support Vector Machine regression accuracy for training set: 48.823%\n",
      "Support Vector Machine regression accuracy for test set: 45.958%\n"
     ]
    }
   ],
   "source": [
    "print(\"Support Vector Machine regression accuracy for training set: {}%\".format(round(clf.score(X_train, y_train),5) *100))\n",
    "print(\"Support Vector Machine regression accuracy for test set: {}%\".format(round(clf.score(X_test, y_test),5) *100))"
   ]
  },
  {
   "cell_type": "code",
   "execution_count": 109,
   "id": "e1804dfc-28b7-478a-8904-28d8eba8155e",
   "metadata": {},
   "outputs": [],
   "source": [
    "clf = SGDRegressor(max_iter=1000, tol=1e-3)"
   ]
  },
  {
   "cell_type": "code",
   "execution_count": 110,
   "id": "4aff3884-aab2-45da-8405-20ad3628e62c",
   "metadata": {},
   "outputs": [
    {
     "data": {
      "text/plain": [
       "SGDRegressor()"
      ]
     },
     "execution_count": 110,
     "metadata": {},
     "output_type": "execute_result"
    }
   ],
   "source": [
    "clf.fit(X_train,y_train)"
   ]
  },
  {
   "cell_type": "code",
   "execution_count": 111,
   "id": "42e2205c-b4ca-422c-b117-a1d0b17560d1",
   "metadata": {},
   "outputs": [],
   "source": [
    "y_pred_train = clf.predict(X_train)\n",
    "y_pred_test = clf.predict(X_test)"
   ]
  },
  {
   "cell_type": "code",
   "execution_count": 112,
   "id": "2c8c026d-6179-442d-bd43-e86e59782d7c",
   "metadata": {},
   "outputs": [],
   "source": [
    "score = r2_score(y_test, y_pred_test)"
   ]
  },
  {
   "cell_type": "code",
   "execution_count": 113,
   "id": "c703586e-bb67-4f24-8ea6-c04033e15ae9",
   "metadata": {},
   "outputs": [
    {
     "name": "stdout",
     "output_type": "stream",
     "text": [
      "Stochastic Gradient Descent accuracy for training set: 49.067%\n",
      "Stochastic Gradient Descent accuracy for test set: 46.104%\n"
     ]
    }
   ],
   "source": [
    "print(\"Stochastic Gradient Descent accuracy for training set: {}%\".format(round(clf.score(X_train, y_train),5) *100))\n",
    "print(\"Stochastic Gradient Descent accuracy for test set: {}%\".format(round(clf.score(X_test, y_test),5) *100))"
   ]
  },
  {
   "cell_type": "code",
   "execution_count": null,
   "id": "eb735939-6a95-4fc3-ad95-431f0723854f",
   "metadata": {},
   "outputs": [],
   "source": [
    "clf = KNeighborsRegressor(n_neighbors=2)"
   ]
  },
  {
   "cell_type": "code",
   "execution_count": null,
   "id": "2e3439ec-7430-4e09-843b-328bba1e175f",
   "metadata": {},
   "outputs": [],
   "source": [
    "clf.fit(X_train,y_train)"
   ]
  },
  {
   "cell_type": "code",
   "execution_count": 114,
   "id": "b7ec2a63-125d-4fdb-ae42-0a7288f21985",
   "metadata": {},
   "outputs": [],
   "source": [
    "y_pred_train = clf.predict(X_train)\n",
    "y_pred_test = clf.predict(X_test)"
   ]
  },
  {
   "cell_type": "code",
   "execution_count": 115,
   "id": "3917743d-d8a4-42a3-be5d-da471bc64df9",
   "metadata": {},
   "outputs": [],
   "source": [
    "score = r2_score(y_test, y_pred_test)"
   ]
  },
  {
   "cell_type": "code",
   "execution_count": 116,
   "id": "c0e8e924-e6d8-4cc7-9f8c-ca72672f36bf",
   "metadata": {},
   "outputs": [
    {
     "name": "stdout",
     "output_type": "stream",
     "text": [
      "KNN regression accuracy for training set: 49.067%\n",
      "KNN regression accuracy for test set:46.104%\n"
     ]
    }
   ],
   "source": [
    "print(\"KNN regression accuracy for training set: {}%\".format(round(clf.score(X_train, y_train),5) *100))\n",
    "print(\"KNN regression accuracy for test set:{}%\".format(round(clf.score(X_test, y_test),5) *100))"
   ]
  },
  {
   "cell_type": "code",
   "execution_count": 117,
   "id": "4d1ec1ac-8649-42d8-af76-042957fd5302",
   "metadata": {},
   "outputs": [],
   "source": [
    "clf = RandomForestRegressor()"
   ]
  },
  {
   "cell_type": "code",
   "execution_count": 118,
   "id": "12855efd-0fee-4d59-b4b0-17a2d1e7ceae",
   "metadata": {},
   "outputs": [
    {
     "data": {
      "text/plain": [
       "RandomForestRegressor()"
      ]
     },
     "execution_count": 118,
     "metadata": {},
     "output_type": "execute_result"
    }
   ],
   "source": [
    "clf.fit(X_train,y_train)"
   ]
  },
  {
   "cell_type": "code",
   "execution_count": 119,
   "id": "b63b6ed8-1436-4afe-ae9b-f33fbe1f07b1",
   "metadata": {},
   "outputs": [],
   "source": [
    "y_pred_train = clf.predict(X_train)\n",
    "y_pred_test = clf.predict(X_test)"
   ]
  },
  {
   "cell_type": "code",
   "execution_count": 120,
   "id": "792a47b5-c697-4070-b697-35878e081a5c",
   "metadata": {},
   "outputs": [],
   "source": [
    "score = r2_score(y_test, y_pred_test)"
   ]
  },
  {
   "cell_type": "code",
   "execution_count": 121,
   "id": "a542a155-1757-4240-9317-a9c29869bc7e",
   "metadata": {},
   "outputs": [
    {
     "name": "stdout",
     "output_type": "stream",
     "text": [
      "Random Forest regressor accuracy for training set: 98.70100000000001%\n",
      "Random Forest regressor accuracy for test set:90.50399999999999%\n"
     ]
    }
   ],
   "source": [
    "print(\"Random Forest regressor accuracy for training set: {}%\".format(round(clf.score(X_train, y_train),5) *100))\n",
    "print(\"Random Forest regressor accuracy for test set:{}%\".format(round(clf.score(X_test, y_test),5) *100))"
   ]
  },
  {
   "cell_type": "code",
   "execution_count": 123,
   "id": "4f2afbb1-b65e-441e-bac4-72e3a658f138",
   "metadata": {},
   "outputs": [],
   "source": [
    "df = pd.read_csv('../data-14.csv', engine='python')"
   ]
  },
  {
   "cell_type": "code",
   "execution_count": 125,
   "id": "de9f9e9b-a20f-4ff1-b1b4-9caa1bdc6ec3",
   "metadata": {},
   "outputs": [],
   "source": [
    "df['couple_review_rating'] = df.couple_review.apply(lambda x: x.split()[10])"
   ]
  },
  {
   "cell_type": "code",
   "execution_count": null,
   "id": "2cffb913-f39f-4da9-8d6f-be9e7c67905b",
   "metadata": {},
   "outputs": [
    {
     "data": {
      "image/png": "[encoded data removed]",
      "text/plain": [
       "<Figure size 432x288 with 1 Axes>"
      ]
     },
     "metadata": {
      "needs_background": "light"
     },
     "output_type": "display_data"
    }
   ],
   "source": [
    "plt.bar(df['couple_review_rating'],df['rating_score'])\n",
    "\n",
    "plt.xlabel('Couples Rating')\n",
    "plt.ylabel('Overall Rating')\n",
    "\n",
    "plt.title('Comparing the overall rating with the couples rating of the Hotels')\n",
    "\n",
    "plt.show()"
   ]
  },
  {
   "cell_type": "code",
   "execution_count": null,
   "id": "7ab2758d-c11a-415c-b1f9-475fa4406d42",
   "metadata": {},
   "outputs": [],
   "source": []
  },
  {
   "cell_type": "code",
   "execution_count": 137,
   "id": "1e676c83-e5b9-40d5-828c-6a66dd9575d5",
   "metadata": {},
   "outputs": [
    {
     "data": {
      "image/png": "[encoded data removed]",
      "text/plain": [
       "<Figure size 720x360 with 1 Axes>"
      ]
     },
     "metadata": {
      "needs_background": "light"
     },
     "output_type": "display_data"
    }
   ],
   "source": [
    "#plot the graph of best review score badge\n",
    "plt.figure(figsize=(10, 5))\n",
    "df.sort_values(by=['couple_review_rating'], ascending=False)\n",
    "plt.hist(df['best_review_score_badge'], color='blue', edgecolor='black', bins=int(180/5))\n",
    "plt.title('Couple Review Rating')\n",
    "plt.xlabel('Rating')\n",
    "plt.ylabel('Number of Hotels')\n",
    "plt.show()"
   ]
  },
  {
   "cell_type": "code",
   "execution_count": null,
   "id": "d150c096-af92-442c-ae25-c5d0716352c9",
   "metadata": {},
   "outputs": [],
   "source": []
  },
  {
   "cell_type": "code",
   "execution_count": null,
   "id": "beb95ba9-4f8a-446e-b2cb-ff35acdd56a9",
   "metadata": {},
   "outputs": [],
   "source": []
  }
 ],
 "metadata": {
  "kernelspec": {
   "display_name": "Python 3 (ipykernel)",
   "language": "python",
   "name": "python3"
  },
  "language_info": {
   "codemirror_mode": {
    "name": "ipython",
    "version": 3
   },
   "file_extension": ".py",
   "mimetype": "text/x-python",
   "name": "python",
   "nbconvert_exporter": "python",
   "pygments_lexer": "ipython3",
   "version": "3.7.9"
  }
 },
 "nbformat": 4,
 "nbformat_minor": 5
}
